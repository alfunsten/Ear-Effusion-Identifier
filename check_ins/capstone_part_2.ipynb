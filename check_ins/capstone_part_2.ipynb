{
 "cells": [
  {
   "cell_type": "markdown",
   "metadata": {},
   "source": [
    "# Capstone Part 2"
   ]
  },
  {
   "cell_type": "markdown",
   "metadata": {},
   "source": [
    "### Problem Statement\n",
    "\n",
    "Based on picture data, can a machine learning neural networks model correctly identify if a picture of an ear drum is showing signs of an ear infection and indicate if an individual should get their ear checked by a healthcare provider. "
   ]
  },
  {
   "cell_type": "markdown",
   "metadata": {},
   "source": [
    "### Outlines your proposed methods and models\n",
    "\n",
    "- Neural networks modeling\n",
    "- metric: \n",
    "    - F1 score \n",
    "    - Accuracy "
   ]
  },
  {
   "cell_type": "markdown",
   "metadata": {},
   "source": [
    "### Defines the risks & assumptions of your data\n",
    "\n",
    "Risks of the dataset are the number of possible ear infection images available. To overcome this issue, I will use images available online and then blur some images to create an altered view for training.\n",
    "\n",
    "Another aspect that should be noted is the quality of the ear drum images. Many images online are very clear. If this application was to be used in real life there may be images that have cerumen obstructing the image. I should implement some images with obstructions and TM ear tubes in training data as well. \n",
    "\n",
    "This model will only be trained to evaluate middle ear infection and will not be trained on otitis externa or outer ear infections."
   ]
  },
  {
   "cell_type": "markdown",
   "metadata": {},
   "source": [
    "### Revises initial goals & success criteria\n",
    "\n",
    "Success for this project would be to accurately indicate:\n",
    "1) Eardrum showing signs of infection and individual should contact healthcare provider for evaluation and management\n",
    "2) Eardrum is not showing signs of infection, monitor for any new/worsening symptoms and contact healthcare provider if any worsening symptoms \n",
    "3) Unclear eardrum image(may be cerumen obstruction or otitis media with effusion). May retake image and contact healthcare provider for eval"
   ]
  },
  {
   "cell_type": "markdown",
   "metadata": {},
   "source": [
    "### Documents your data source\n",
    "\n",
    "Images of acute otitis media(middle ear infection), otitis media with effusion, ear drums with TM tubes, cerumen obstruction, and healthy ear drums, blurred images of all categories.\n",
    "\n",
    "\n"
   ]
  },
  {
   "cell_type": "markdown",
   "metadata": {},
   "source": [
    "### Performs & summarizes preliminary EDA of your data\n",
    "\n"
   ]
  },
  {
   "cell_type": "markdown",
   "metadata": {},
   "source": [
    "I will be retrieving data from these two datasets:\n",
    "\n",
    "1) https://zenodo.org/record/3595567#.YKXYkGRKhbV\n",
    "\n",
    "2) https://figshare.com/articles/dataset/Ear_imagery_database/11886630\n"
   ]
  }
 ],
 "metadata": {
  "kernelspec": {
   "display_name": "Python 3",
   "language": "python",
   "name": "python3"
  },
  "language_info": {
   "codemirror_mode": {
    "name": "ipython",
    "version": 3
   },
   "file_extension": ".py",
   "mimetype": "text/x-python",
   "name": "python",
   "nbconvert_exporter": "python",
   "pygments_lexer": "ipython3",
   "version": "3.8.8"
  }
 },
 "nbformat": 4,
 "nbformat_minor": 4
}
