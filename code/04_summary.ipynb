{
 "cells": [
  {
   "cell_type": "markdown",
   "id": "12e654fa-1e28-4a95-a57a-7478d2439c7a",
   "metadata": {},
   "source": [
    "# Conclusion"
   ]
  },
  {
   "cell_type": "markdown",
   "id": "4ad1d889-cb64-433e-9420-bcf5e6e789d1",
   "metadata": {},
   "source": [
    " - [Executive Summary](#Executive-Summary)\n",
    " - [Conclusions and Recommendations](#Conclusions-and-Recommendations)\n",
    " - [Limitations and Areas for Further Research and Study](#Limitations-and-Areas-for-Further-Research-and-Study)"
   ]
  },
  {
   "cell_type": "markdown",
   "id": "926aed3f-3146-4c23-a316-f5c9b8d5b2f0",
   "metadata": {},
   "source": [
    "## Executive Summary"
   ]
  },
  {
   "cell_type": "markdown",
   "id": "842db78e-eeb4-455f-b551-37c379ac3f3f",
   "metadata": {},
   "source": [
    "According to the AAP there are close to 30 million doctor's visit a year for ear infections. I saw this first hand working as a pediatric nurse practitioner and I wanted to investigate to see if a machine learning model would be able to reduce the amount of pediatric visits for this complaint and also refine the diagnoses of ear infection for providers. I think that eardrum classfication model could be used by parents at home as a tool to rule out ear infections and avoid an unnecessary visit to the doctor. A parent could take a picture of their child's ear and then see if the child’s ear is showing signs of infection. If their child's ear is showing signs of infection than the parent will need to make an appointment for evaluation. Another utility of this device as referenced in the \"OtoMatch: Content-based eardrum image retrieval using deep learning\" article would be for providers to use eardum pictures along with their own evaluation to make sure they are accurately diagnosing an ear infection in practice. This might help reduce unnecessary antibiotic prescription by refining diagnosing.  My hope would be to make an ear infection image identifier that could successfuly indicate if:\n",
    "\n",
    "1) Eardrum is showing signs of non infected fluid behind ear, monitor for any new/worsening symptoms and contact healthcare provider if any worsening symptoms \n",
    "2) Eardrum showing signs of infection and individual should contact healthcare provider for evaluation and management\n",
    "3) Eardrum is not showing signs of infection, monitor for any new/worsening symptoms and contact healthcare provider if any worsening symptoms \n",
    "4) Eardrum is showing TM tube in eardrum, monitor for any new/worsening symptoms and contact healthcare provider if any worsening symptoms \n",
    "\n",
    "\n",
    "After using data from \"OtoMatch: Content-based eardrum image retrieval using deep learning\" article, I was able to create a neural networks model that could accurately classify acute otitis media, ear tube images and healthy eardrums but was unreliable at classifying non-infected fluid behind the ear. "
   ]
  },
  {
   "cell_type": "markdown",
   "id": "c0bb527e-2615-45f6-b0b6-9b64d4ff027a",
   "metadata": {},
   "source": [
    "## Conclusions and Recommendations"
   ]
  },
  {
   "cell_type": "markdown",
   "id": "0f7a935a-7578-446f-9bb8-cfe267237389",
   "metadata": {},
   "source": [
    "I performed 17 neural network models on the images. The metrics of most relevance are weighted accuracy, precision, and recall. These are appropriate since the dataset is imbalanced. I also want to look at test data f1 scores and recall scores for otitis media to reduce the amount of type II error or false negatives. Therefore, we would want a high recall and f1 score for otitis media. These are appropiate since we want to reduce the number false negatives for otitis media images in the model. Overall, the pretrained models MobileNetV2, VGG16, Xception, InceptionV3 underperformed in comparison to the other models. The most successful model was a neural network model 12 with convolutional layer, augmented data, max pooling, two dense layers and a dropout layer of 0.1. This model had the highest test recall and f1 score for otitis media:  \n",
    "\n",
    "test otitis media recall score: 1\n",
    "\n",
    "test otitis media f1 score: 0.91\n",
    "\n",
    "The model had a weighted accuracy score of 0.8 with test data and weighted average f1 score of 0.81.\n",
    "\n",
    "Overall, this model performed the best at reducing type II error or false negative for otitis media. This an important metric for this model since we want to make sure that a child with an ear infection would be advised to get evaluated. This model also did very well at classifying normal and tube correctly. However, this model struggles with identifying effusion correctly with test effusion precision score of 0.3, test f1 score of 0.35, and test recall score of 0.43. \n",
    "\n",
    "Therefore, I think this model could be helpful in reducing the number of visits to healthcare prividers offices by ruling out otitis media at home but the model needs improvement if it was to be used to distiguish otitis media from otitis media with effusion. \n",
    "\n"
   ]
  },
  {
   "cell_type": "markdown",
   "id": "b72a3b16-f5b4-4034-ad9e-fcddeeaf7da0",
   "metadata": {},
   "source": [
    "## Limitations and Areas for Further Research and Study"
   ]
  },
  {
   "cell_type": "markdown",
   "id": "cd29e226-016b-4810-aaf4-06912f85feae",
   "metadata": {},
   "source": [
    "For future studies, a larger training dataset would help the overall performance of the model. I think especially more data on non-infected fluid eardrums would help the overall f1 score of the model as well and could be more useful in differntiating ear infection from non-infected fluid behind the eardrum.\n",
    "\n",
    "Another aspect that should be noted is the quality of the ear drum images. Many images online are very clear. If this application was to be used in real life there may be images that have cerumen obstructing part of the image. Future studies should implement images with slight obstructions and TM ear tubes in training data as well. Images should not be completely obstructed since this could impact proper evaluation of ear drum. \n",
    "\n",
    "This model will only be trained to evaluate middle ear infection and will not be trained on otitis externa or outer ear infections. To expand the utility of this model, images of otitis externa could be trained into the model as another category."
   ]
  }
 ],
 "metadata": {
  "kernelspec": {
   "display_name": "Python 3",
   "language": "python",
   "name": "python3"
  },
  "language_info": {
   "codemirror_mode": {
    "name": "ipython",
    "version": 3
   },
   "file_extension": ".py",
   "mimetype": "text/x-python",
   "name": "python",
   "nbconvert_exporter": "python",
   "pygments_lexer": "ipython3",
   "version": "3.8.8"
  }
 },
 "nbformat": 4,
 "nbformat_minor": 5
}
