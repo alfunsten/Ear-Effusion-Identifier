{
 "cells": [
  {
   "cell_type": "markdown",
   "id": "3ebefde6-4976-49a5-bac3-8ec81e1e8726",
   "metadata": {},
   "source": [
    "# Preprocessing and Modeling"
   ]
  },
  {
   "cell_type": "markdown",
   "id": "12a07d8c-f4b4-4f8d-8ee4-249bb1980652",
   "metadata": {},
   "source": [
    "Ear Images Reference:https://journals.plos.org/plosone/article?id=10.1371/journal.pone.0232776"
   ]
  },
  {
   "cell_type": "code",
   "execution_count": 1,
   "id": "86a2a5c0-ced9-4235-b823-61c3106ccbbe",
   "metadata": {},
   "outputs": [],
   "source": [
    "import pandas as pd\n",
    "import numpy as np\n",
    "import matplotlib.pyplot as plt\n",
    "from sklearn.model_selection import train_test_split\n",
    "import tensorflow as tf\n",
    "from tensorflow.keras.models import Sequential\n",
    "from tensorflow.keras.layers import Input, Dense, BatchNormalization\n",
    "from keras.preprocessing.image import ImageDataGenerator\n",
    "from keras.layers import Dense, Conv2D, MaxPool2D, Dropout, Flatten\n",
    "from keras.utils.np_utils import to_categorical\n",
    "from tensorflow.keras.callbacks import EarlyStopping\n",
    "from tensorflow.keras.layers import Dropout\n",
    "from keras.layers import GlobalAveragePooling2D, AveragePooling2D, GlobalMaxPooling2D\n",
    "from tensorflow.keras.regularizers import l2\n",
    "from tensorflow.keras.applications import MobileNetV2, VGG16, InceptionV3, Xception, InceptionResNetV2, ResNet101\n",
    "from tensorflow.keras.metrics import Precision, Recall\n",
    "from sklearn.metrics import plot_confusion_matrix, confusion_matrix, classification_report, roc_curve\n",
    "from sklearn.metrics import precision_score, recall_score, f1_score"
   ]
  },
  {
   "cell_type": "markdown",
   "id": "8a0afc6e-6c9e-4b70-a651-de1014f86032",
   "metadata": {},
   "source": [
    "### DateFrame to Input Results From Models"
   ]
  },
  {
   "cell_type": "code",
   "execution_count": 2,
   "id": "d10f1af3-f020-47a1-9370-728525bb034c",
   "metadata": {},
   "outputs": [],
   "source": [
    "results_df2 = pd.read_csv('../data/results_df2.csv')"
   ]
  },
  {
   "cell_type": "markdown",
   "id": "b88f4d78-6ea2-452a-ab7c-34a503579713",
   "metadata": {},
   "source": [
    "## Import Data "
   ]
  },
  {
   "cell_type": "code",
   "execution_count": 32,
   "id": "78026bb2-db4d-406f-a31b-6fdb6f808f86",
   "metadata": {},
   "outputs": [
    {
     "name": "stdout",
     "output_type": "stream",
     "text": [
      "Found 295 images belonging to 5 classes.\n",
      "Found 70 images belonging to 5 classes.\n"
     ]
    }
   ],
   "source": [
    "train_gen = ImageDataGenerator(rescale = 1/255., validation_split= 0.2)\n",
    "\n",
    "train_data = train_gen.flow_from_directory('/Users/annafunsten/Desktop/dsir-322/capstone/Ear-Infection-Identifier/data/middle_ear_images_2/train/', subset = 'training')\n",
    "\n",
    "validation_data = train_gen.flow_from_directory('/Users/annafunsten/Desktop/dsir-322/capstone/Ear-Infection-Identifier/data/middle_ear_images_2/train/', subset = 'validation')"
   ]
  },
  {
   "cell_type": "code",
   "execution_count": 52,
   "id": "b6fdd23b-9f21-4767-9cee-9e3969a86831",
   "metadata": {},
   "outputs": [
    {
     "name": "stdout",
     "output_type": "stream",
     "text": [
      "Found 71 images belonging to 3 classes.\n"
     ]
    }
   ],
   "source": [
    "#valid_gen = ImageDataGenerator(rescale = 1/255.)\n",
    "#validation_data = train_gen.flow_from_directory('/Users/annafunsten/Desktop/dsir-322/capstone/Ear-Infection-Identifier/data/middle_ear_images/valid/')"
   ]
  },
  {
   "cell_type": "code",
   "execution_count": 33,
   "id": "07731dee-ead8-43a2-a234-2d3604dd01eb",
   "metadata": {},
   "outputs": [
    {
     "name": "stdout",
     "output_type": "stream",
     "text": [
      "Found 90 images belonging to 5 classes.\n"
     ]
    }
   ],
   "source": [
    "test_gen = ImageDataGenerator(rescale = 1/255.)\n",
    "test_data = test_gen.flow_from_directory('/Users/annafunsten/Desktop/dsir-322/capstone/Ear-Infection-Identifier/data/middle_ear_images_2/test/', shuffle = False)"
   ]
  },
  {
   "cell_type": "markdown",
   "id": "730728eb-417a-40a1-aeb1-a995d968d27a",
   "metadata": {},
   "source": [
    "## Basic Model"
   ]
  },
  {
   "cell_type": "code",
   "execution_count": 36,
   "id": "d1bab581-dac5-468b-818b-62955cdb864a",
   "metadata": {},
   "outputs": [],
   "source": [
    "model = Sequential()\n",
    "model.add(Flatten())\n",
    "model.add(Dense(100, activation = 'relu'))\n",
    "model.add(Dense(5, activation = 'softmax'))\n",
    "\n",
    "model.compile(loss = 'categorical_crossentropy', optimizer = 'adam', metrics = ['accuracy', 'Recall', 'Precision'])"
   ]
  },
  {
   "cell_type": "code",
   "execution_count": 37,
   "id": "ed54a1a9-3bf5-4e2c-b616-6ef949e795e1",
   "metadata": {
    "collapsed": true,
    "jupyter": {
     "outputs_hidden": true
    },
    "tags": []
   },
   "outputs": [
    {
     "name": "stdout",
     "output_type": "stream",
     "text": [
      "Epoch 1/80\n",
      "10/10 [==============================] - 5s 489ms/step - loss: 53.9918 - accuracy: 0.2339 - recall: 0.2102 - precision: 0.2357 - val_loss: 19.9422 - val_accuracy: 0.2571 - val_recall: 0.2571 - val_precision: 0.2571\n",
      "Epoch 2/80\n",
      "10/10 [==============================] - 4s 417ms/step - loss: 22.7333 - accuracy: 0.4746 - recall: 0.4712 - precision: 0.4777 - val_loss: 5.7554 - val_accuracy: 0.5857 - val_recall: 0.5714 - val_precision: 0.6061\n",
      "Epoch 3/80\n",
      "10/10 [==============================] - 4s 446ms/step - loss: 7.8822 - accuracy: 0.4407 - recall: 0.4339 - precision: 0.4399 - val_loss: 9.5841 - val_accuracy: 0.5286 - val_recall: 0.5286 - val_precision: 0.5286\n",
      "Epoch 4/80\n",
      "10/10 [==============================] - 4s 430ms/step - loss: 7.5204 - accuracy: 0.4814 - recall: 0.4814 - precision: 0.4830 - val_loss: 5.8284 - val_accuracy: 0.6000 - val_recall: 0.5857 - val_precision: 0.5942\n",
      "Epoch 5/80\n",
      "10/10 [==============================] - 4s 453ms/step - loss: 7.2515 - accuracy: 0.4983 - recall: 0.4983 - precision: 0.5000 - val_loss: 6.3807 - val_accuracy: 0.4000 - val_recall: 0.4000 - val_precision: 0.4058\n",
      "Epoch 6/80\n",
      "10/10 [==============================] - 5s 466ms/step - loss: 4.4890 - accuracy: 0.6000 - recall: 0.6000 - precision: 0.6041 - val_loss: 11.3708 - val_accuracy: 0.3000 - val_recall: 0.3000 - val_precision: 0.3000\n",
      "Epoch 7/80\n",
      "10/10 [==============================] - 4s 474ms/step - loss: 7.3677 - accuracy: 0.5288 - recall: 0.5288 - precision: 0.5324 - val_loss: 8.9161 - val_accuracy: 0.4429 - val_recall: 0.4429 - val_precision: 0.4429\n",
      "Epoch 8/80\n",
      "10/10 [==============================] - 4s 436ms/step - loss: 4.1755 - accuracy: 0.6000 - recall: 0.5966 - precision: 0.6027 - val_loss: 4.2591 - val_accuracy: 0.5571 - val_recall: 0.5286 - val_precision: 0.5441\n",
      "Epoch 9/80\n",
      "10/10 [==============================] - 4s 435ms/step - loss: 3.2141 - accuracy: 0.6034 - recall: 0.6000 - precision: 0.6062 - val_loss: 7.2848 - val_accuracy: 0.4429 - val_recall: 0.4429 - val_precision: 0.4429\n",
      "Epoch 10/80\n",
      "10/10 [==============================] - 4s 449ms/step - loss: 3.9463 - accuracy: 0.6169 - recall: 0.6136 - precision: 0.6177 - val_loss: 5.8016 - val_accuracy: 0.5143 - val_recall: 0.5143 - val_precision: 0.5143\n",
      "Epoch 11/80\n",
      "10/10 [==============================] - 4s 437ms/step - loss: 7.8824 - accuracy: 0.4712 - recall: 0.4712 - precision: 0.4760 - val_loss: 11.3610 - val_accuracy: 0.3857 - val_recall: 0.3857 - val_precision: 0.3857\n",
      "Epoch 12/80\n",
      "10/10 [==============================] - 4s 431ms/step - loss: 6.5870 - accuracy: 0.4881 - recall: 0.4847 - precision: 0.4881 - val_loss: 6.9964 - val_accuracy: 0.5571 - val_recall: 0.5571 - val_precision: 0.5652\n",
      "Epoch 13/80\n",
      "10/10 [==============================] - 4s 435ms/step - loss: 3.4905 - accuracy: 0.6678 - recall: 0.6678 - precision: 0.6701 - val_loss: 7.6219 - val_accuracy: 0.4571 - val_recall: 0.4571 - val_precision: 0.4638\n",
      "Epoch 14/80\n",
      "10/10 [==============================] - 4s 446ms/step - loss: 3.3961 - accuracy: 0.6576 - recall: 0.6576 - precision: 0.6599 - val_loss: 7.0876 - val_accuracy: 0.5143 - val_recall: 0.5143 - val_precision: 0.5143\n",
      "Epoch 15/80\n",
      "10/10 [==============================] - 4s 431ms/step - loss: 2.2171 - accuracy: 0.7085 - recall: 0.7051 - precision: 0.7099 - val_loss: 7.0609 - val_accuracy: 0.4857 - val_recall: 0.4857 - val_precision: 0.4857\n",
      "Epoch 16/80\n",
      "10/10 [==============================] - 4s 450ms/step - loss: 1.7831 - accuracy: 0.7932 - recall: 0.7932 - precision: 0.7959 - val_loss: 5.2413 - val_accuracy: 0.5857 - val_recall: 0.5857 - val_precision: 0.5857\n",
      "Epoch 17/80\n",
      "10/10 [==============================] - 4s 424ms/step - loss: 1.6905 - accuracy: 0.7254 - recall: 0.7254 - precision: 0.7279 - val_loss: 4.9477 - val_accuracy: 0.5714 - val_recall: 0.5714 - val_precision: 0.5797\n",
      "Epoch 18/80\n",
      "10/10 [==============================] - 4s 446ms/step - loss: 1.9253 - accuracy: 0.7424 - recall: 0.7424 - precision: 0.7424 - val_loss: 5.0576 - val_accuracy: 0.5857 - val_recall: 0.5571 - val_precision: 0.5821\n",
      "Epoch 19/80\n",
      "10/10 [==============================] - 4s 438ms/step - loss: 1.5724 - accuracy: 0.7322 - recall: 0.7254 - precision: 0.7456 - val_loss: 6.7163 - val_accuracy: 0.5429 - val_recall: 0.5429 - val_precision: 0.5429\n",
      "Epoch 20/80\n",
      "10/10 [==============================] - 4s 460ms/step - loss: 0.8098 - accuracy: 0.8373 - recall: 0.8339 - precision: 0.8367 - val_loss: 5.5301 - val_accuracy: 0.5286 - val_recall: 0.5286 - val_precision: 0.5362\n",
      "Epoch 21/80\n",
      "10/10 [==============================] - 4s 426ms/step - loss: 0.8468 - accuracy: 0.8339 - recall: 0.8305 - precision: 0.8362 - val_loss: 5.2494 - val_accuracy: 0.6143 - val_recall: 0.6143 - val_precision: 0.6232\n",
      "Epoch 22/80\n",
      "10/10 [==============================] - 4s 431ms/step - loss: 1.5734 - accuracy: 0.7220 - recall: 0.7186 - precision: 0.7310 - val_loss: 6.5009 - val_accuracy: 0.3857 - val_recall: 0.3857 - val_precision: 0.4030\n",
      "Epoch 23/80\n",
      "10/10 [==============================] - 4s 412ms/step - loss: 1.8685 - accuracy: 0.7627 - recall: 0.7593 - precision: 0.7671 - val_loss: 6.5870 - val_accuracy: 0.4143 - val_recall: 0.4000 - val_precision: 0.4058\n",
      "Epoch 24/80\n",
      "10/10 [==============================] - 4s 427ms/step - loss: 1.9964 - accuracy: 0.6644 - recall: 0.6644 - precision: 0.6667 - val_loss: 5.5031 - val_accuracy: 0.5429 - val_recall: 0.5286 - val_precision: 0.5441\n",
      "Epoch 25/80\n",
      "10/10 [==============================] - 4s 416ms/step - loss: 0.8666 - accuracy: 0.8068 - recall: 0.8000 - precision: 0.8138 - val_loss: 4.5177 - val_accuracy: 0.5714 - val_recall: 0.5571 - val_precision: 0.5735\n",
      "Epoch 26/80\n",
      "10/10 [==============================] - 5s 462ms/step - loss: 0.4918 - accuracy: 0.8542 - recall: 0.8542 - precision: 0.8571 - val_loss: 4.5739 - val_accuracy: 0.6143 - val_recall: 0.6143 - val_precision: 0.6143\n",
      "Epoch 27/80\n",
      "10/10 [==============================] - 4s 447ms/step - loss: 0.7756 - accuracy: 0.8237 - recall: 0.8203 - precision: 0.8259 - val_loss: 5.8150 - val_accuracy: 0.5429 - val_recall: 0.5429 - val_precision: 0.5588\n",
      "Epoch 28/80\n",
      "10/10 [==============================] - 4s 448ms/step - loss: 0.5334 - accuracy: 0.8712 - recall: 0.8644 - precision: 0.8733 - val_loss: 4.9496 - val_accuracy: 0.5714 - val_recall: 0.5714 - val_precision: 0.5797\n",
      "Epoch 29/80\n",
      "10/10 [==============================] - 5s 457ms/step - loss: 0.4054 - accuracy: 0.8949 - recall: 0.8881 - precision: 0.9003 - val_loss: 4.6967 - val_accuracy: 0.5429 - val_recall: 0.5429 - val_precision: 0.5429\n",
      "Epoch 30/80\n",
      "10/10 [==============================] - 4s 423ms/step - loss: 0.2645 - accuracy: 0.9424 - recall: 0.9424 - precision: 0.9456 - val_loss: 6.3319 - val_accuracy: 0.4857 - val_recall: 0.4857 - val_precision: 0.4857\n",
      "Epoch 31/80\n",
      "10/10 [==============================] - 4s 441ms/step - loss: 0.3881 - accuracy: 0.8780 - recall: 0.8780 - precision: 0.8810 - val_loss: 5.0972 - val_accuracy: 0.5429 - val_recall: 0.5286 - val_precision: 0.5362\n",
      "Epoch 32/80\n",
      "10/10 [==============================] - 4s 453ms/step - loss: 0.4215 - accuracy: 0.8847 - recall: 0.8746 - precision: 0.8897 - val_loss: 6.4892 - val_accuracy: 0.4429 - val_recall: 0.4286 - val_precision: 0.4412\n",
      "Epoch 33/80\n",
      "10/10 [==============================] - 4s 419ms/step - loss: 0.7498 - accuracy: 0.8136 - recall: 0.8102 - precision: 0.8185 - val_loss: 4.8232 - val_accuracy: 0.5429 - val_recall: 0.5429 - val_precision: 0.5429\n",
      "Epoch 34/80\n",
      "10/10 [==============================] - 4s 408ms/step - loss: 0.7186 - accuracy: 0.8373 - recall: 0.8373 - precision: 0.8401 - val_loss: 5.4603 - val_accuracy: 0.5429 - val_recall: 0.5429 - val_precision: 0.5507\n",
      "Epoch 35/80\n",
      "10/10 [==============================] - 4s 443ms/step - loss: 0.2478 - accuracy: 0.9254 - recall: 0.9220 - precision: 0.9315 - val_loss: 4.3795 - val_accuracy: 0.5714 - val_recall: 0.5714 - val_precision: 0.5882\n",
      "Epoch 36/80\n",
      "10/10 [==============================] - 4s 440ms/step - loss: 0.1856 - accuracy: 0.9356 - recall: 0.9322 - precision: 0.9386 - val_loss: 5.3081 - val_accuracy: 0.5714 - val_recall: 0.5429 - val_precision: 0.5672\n",
      "Epoch 37/80\n",
      "10/10 [==============================] - 4s 448ms/step - loss: 0.4032 - accuracy: 0.9051 - recall: 0.9017 - precision: 0.9048 - val_loss: 4.6538 - val_accuracy: 0.5571 - val_recall: 0.5571 - val_precision: 0.5571\n",
      "Epoch 38/80\n",
      "10/10 [==============================] - 4s 420ms/step - loss: 1.9810 - accuracy: 0.7492 - recall: 0.7458 - precision: 0.7534 - val_loss: 5.7258 - val_accuracy: 0.4571 - val_recall: 0.4571 - val_precision: 0.4638\n",
      "Epoch 39/80\n",
      "10/10 [==============================] - 4s 432ms/step - loss: 2.1389 - accuracy: 0.7254 - recall: 0.7220 - precision: 0.7295 - val_loss: 6.8679 - val_accuracy: 0.5429 - val_recall: 0.5429 - val_precision: 0.5429\n",
      "Epoch 40/80\n",
      "10/10 [==============================] - 4s 467ms/step - loss: 1.4717 - accuracy: 0.7695 - recall: 0.7695 - precision: 0.7747 - val_loss: 8.6309 - val_accuracy: 0.4143 - val_recall: 0.4000 - val_precision: 0.4118\n",
      "Epoch 41/80\n",
      "10/10 [==============================] - 4s 471ms/step - loss: 0.9913 - accuracy: 0.8237 - recall: 0.8203 - precision: 0.8345 - val_loss: 6.0372 - val_accuracy: 0.5571 - val_recall: 0.5571 - val_precision: 0.5652\n",
      "Epoch 42/80\n",
      "10/10 [==============================] - 4s 476ms/step - loss: 1.2485 - accuracy: 0.8136 - recall: 0.8102 - precision: 0.8129 - val_loss: 8.5612 - val_accuracy: 0.4286 - val_recall: 0.4286 - val_precision: 0.4286\n",
      "Epoch 43/80\n",
      "10/10 [==============================] - 5s 469ms/step - loss: 1.0320 - accuracy: 0.8339 - recall: 0.8271 - precision: 0.8443 - val_loss: 5.5635 - val_accuracy: 0.5857 - val_recall: 0.5857 - val_precision: 0.5942\n",
      "Epoch 44/80\n",
      "10/10 [==============================] - 4s 437ms/step - loss: 0.5456 - accuracy: 0.8712 - recall: 0.8712 - precision: 0.8712 - val_loss: 5.6551 - val_accuracy: 0.6143 - val_recall: 0.6143 - val_precision: 0.6232\n",
      "Epoch 45/80\n",
      "10/10 [==============================] - 4s 432ms/step - loss: 1.0048 - accuracy: 0.8102 - recall: 0.8102 - precision: 0.8129 - val_loss: 5.4120 - val_accuracy: 0.5286 - val_recall: 0.5286 - val_precision: 0.5286\n",
      "Epoch 46/80\n",
      "10/10 [==============================] - 4s 430ms/step - loss: 0.9815 - accuracy: 0.8407 - recall: 0.8373 - precision: 0.8401 - val_loss: 5.6503 - val_accuracy: 0.5571 - val_recall: 0.5571 - val_precision: 0.5571\n",
      "Epoch 47/80\n",
      "10/10 [==============================] - 4s 450ms/step - loss: 0.4979 - accuracy: 0.8949 - recall: 0.8881 - precision: 0.8973 - val_loss: 5.4541 - val_accuracy: 0.6286 - val_recall: 0.6286 - val_precision: 0.6286\n",
      "Epoch 48/80\n",
      "10/10 [==============================] - 4s 420ms/step - loss: 0.8486 - accuracy: 0.8441 - recall: 0.8373 - precision: 0.8430 - val_loss: 6.1089 - val_accuracy: 0.5429 - val_recall: 0.5429 - val_precision: 0.5429\n",
      "Epoch 49/80\n",
      "10/10 [==============================] - 4s 411ms/step - loss: 0.5523 - accuracy: 0.9051 - recall: 0.8983 - precision: 0.9107 - val_loss: 5.6767 - val_accuracy: 0.5429 - val_recall: 0.5429 - val_precision: 0.5429\n",
      "Epoch 50/80\n",
      "10/10 [==============================] - 4s 411ms/step - loss: 0.4104 - accuracy: 0.8983 - recall: 0.8915 - precision: 0.9132 - val_loss: 5.5538 - val_accuracy: 0.5857 - val_recall: 0.5857 - val_precision: 0.5857\n",
      "Epoch 51/80\n",
      "10/10 [==============================] - 4s 419ms/step - loss: 0.2805 - accuracy: 0.9322 - recall: 0.9322 - precision: 0.9354 - val_loss: 5.5831 - val_accuracy: 0.5571 - val_recall: 0.5571 - val_precision: 0.5652\n",
      "Epoch 52/80\n",
      "10/10 [==============================] - 4s 438ms/step - loss: 0.2509 - accuracy: 0.9254 - recall: 0.9254 - precision: 0.9286 - val_loss: 6.2750 - val_accuracy: 0.5286 - val_recall: 0.5286 - val_precision: 0.5362\n",
      "Epoch 53/80\n",
      "10/10 [==============================] - 4s 413ms/step - loss: 0.1277 - accuracy: 0.9559 - recall: 0.9492 - precision: 0.9556 - val_loss: 5.2816 - val_accuracy: 0.5429 - val_recall: 0.5286 - val_precision: 0.5441\n",
      "Epoch 54/80\n",
      "10/10 [==============================] - 4s 410ms/step - loss: 0.1372 - accuracy: 0.9458 - recall: 0.9458 - precision: 0.9522 - val_loss: 5.5325 - val_accuracy: 0.4571 - val_recall: 0.4571 - val_precision: 0.4638\n",
      "Epoch 55/80\n",
      "10/10 [==============================] - 4s 417ms/step - loss: 0.1265 - accuracy: 0.9525 - recall: 0.9525 - precision: 0.9558 - val_loss: 5.1040 - val_accuracy: 0.6571 - val_recall: 0.6571 - val_precision: 0.6667\n",
      "Epoch 56/80\n",
      "10/10 [==============================] - 4s 413ms/step - loss: 0.0746 - accuracy: 0.9729 - recall: 0.9729 - precision: 0.9729 - val_loss: 6.9563 - val_accuracy: 0.5571 - val_recall: 0.5571 - val_precision: 0.5571\n",
      "Epoch 57/80\n",
      "10/10 [==============================] - 5s 467ms/step - loss: 0.1233 - accuracy: 0.9492 - recall: 0.9492 - precision: 0.9524 - val_loss: 5.0470 - val_accuracy: 0.5857 - val_recall: 0.5857 - val_precision: 0.5857\n",
      "Epoch 58/80\n",
      "10/10 [==============================] - 4s 443ms/step - loss: 0.0388 - accuracy: 0.9898 - recall: 0.9864 - precision: 0.9898 - val_loss: 5.0024 - val_accuracy: 0.6000 - val_recall: 0.6000 - val_precision: 0.6000\n",
      "Epoch 59/80\n",
      "10/10 [==============================] - 4s 420ms/step - loss: 0.0362 - accuracy: 0.9898 - recall: 0.9864 - precision: 0.9932 - val_loss: 4.7545 - val_accuracy: 0.5714 - val_recall: 0.5714 - val_precision: 0.5714\n",
      "Epoch 60/80\n",
      "10/10 [==============================] - 4s 442ms/step - loss: 0.0218 - accuracy: 0.9966 - recall: 0.9966 - precision: 0.9966 - val_loss: 5.3456 - val_accuracy: 0.5714 - val_recall: 0.5714 - val_precision: 0.5714\n",
      "Epoch 61/80\n",
      "10/10 [==============================] - 5s 463ms/step - loss: 0.0183 - accuracy: 0.9932 - recall: 0.9932 - precision: 0.9932 - val_loss: 4.9578 - val_accuracy: 0.5857 - val_recall: 0.5571 - val_precision: 0.5821\n",
      "Epoch 62/80\n",
      "10/10 [==============================] - 4s 464ms/step - loss: 0.5291 - accuracy: 0.8678 - recall: 0.8678 - precision: 0.8707 - val_loss: 5.0129 - val_accuracy: 0.5143 - val_recall: 0.5000 - val_precision: 0.5072\n",
      "Epoch 63/80\n",
      "10/10 [==============================] - 4s 447ms/step - loss: 0.1639 - accuracy: 0.9322 - recall: 0.9322 - precision: 0.9386 - val_loss: 4.6815 - val_accuracy: 0.5714 - val_recall: 0.5571 - val_precision: 0.5735\n",
      "Epoch 64/80\n",
      "10/10 [==============================] - 5s 514ms/step - loss: 0.0757 - accuracy: 0.9593 - recall: 0.9593 - precision: 0.9593 - val_loss: 5.3837 - val_accuracy: 0.5857 - val_recall: 0.5857 - val_precision: 0.5857\n",
      "Epoch 65/80\n",
      "10/10 [==============================] - 5s 551ms/step - loss: 0.0456 - accuracy: 0.9898 - recall: 0.9898 - precision: 0.9898 - val_loss: 4.7440 - val_accuracy: 0.6000 - val_recall: 0.6000 - val_precision: 0.6176\n",
      "Epoch 66/80\n",
      "10/10 [==============================] - 5s 506ms/step - loss: 0.0447 - accuracy: 0.9864 - recall: 0.9864 - precision: 0.9864 - val_loss: 7.0628 - val_accuracy: 0.4429 - val_recall: 0.4429 - val_precision: 0.4493\n",
      "Epoch 67/80\n",
      "10/10 [==============================] - 5s 466ms/step - loss: 0.1213 - accuracy: 0.9695 - recall: 0.9695 - precision: 0.9728 - val_loss: 6.5825 - val_accuracy: 0.4714 - val_recall: 0.4714 - val_precision: 0.4714\n",
      "Epoch 68/80\n",
      "10/10 [==============================] - 5s 467ms/step - loss: 0.4965 - accuracy: 0.8780 - recall: 0.8712 - precision: 0.8801 - val_loss: 8.8729 - val_accuracy: 0.4571 - val_recall: 0.4571 - val_precision: 0.4638\n",
      "Epoch 69/80\n",
      "10/10 [==============================] - 4s 447ms/step - loss: 0.7425 - accuracy: 0.8610 - recall: 0.8610 - precision: 0.8639 - val_loss: 5.7962 - val_accuracy: 0.5429 - val_recall: 0.5429 - val_precision: 0.5429\n",
      "Epoch 70/80\n",
      "10/10 [==============================] - 4s 442ms/step - loss: 0.4278 - accuracy: 0.8983 - recall: 0.8949 - precision: 0.8980 - val_loss: 5.2593 - val_accuracy: 0.6000 - val_recall: 0.6000 - val_precision: 0.6000\n",
      "Epoch 71/80\n",
      "10/10 [==============================] - 4s 427ms/step - loss: 0.3286 - accuracy: 0.9220 - recall: 0.9220 - precision: 0.9220 - val_loss: 5.8925 - val_accuracy: 0.6286 - val_recall: 0.6286 - val_precision: 0.6286\n",
      "Epoch 72/80\n",
      "10/10 [==============================] - 5s 488ms/step - loss: 0.1280 - accuracy: 0.9559 - recall: 0.9559 - precision: 0.9559 - val_loss: 5.6277 - val_accuracy: 0.5714 - val_recall: 0.5714 - val_precision: 0.5797\n",
      "Epoch 73/80\n",
      "10/10 [==============================] - 4s 431ms/step - loss: 0.1106 - accuracy: 0.9661 - recall: 0.9661 - precision: 0.9661 - val_loss: 5.0654 - val_accuracy: 0.6000 - val_recall: 0.6000 - val_precision: 0.6087\n",
      "Epoch 74/80\n",
      "10/10 [==============================] - 4s 433ms/step - loss: 0.0336 - accuracy: 0.9898 - recall: 0.9898 - precision: 0.9932 - val_loss: 5.0344 - val_accuracy: 0.6000 - val_recall: 0.6000 - val_precision: 0.6000\n",
      "Epoch 75/80\n",
      "10/10 [==============================] - 5s 456ms/step - loss: 0.0724 - accuracy: 0.9864 - recall: 0.9831 - precision: 0.9864 - val_loss: 5.3481 - val_accuracy: 0.6000 - val_recall: 0.6000 - val_precision: 0.6000\n",
      "Epoch 76/80\n",
      "10/10 [==============================] - 4s 458ms/step - loss: 0.0188 - accuracy: 0.9932 - recall: 0.9932 - precision: 0.9966 - val_loss: 4.9776 - val_accuracy: 0.6429 - val_recall: 0.6429 - val_precision: 0.6429\n",
      "Epoch 77/80\n",
      "10/10 [==============================] - 4s 427ms/step - loss: 0.0113 - accuracy: 0.9966 - recall: 0.9966 - precision: 0.9966 - val_loss: 5.1130 - val_accuracy: 0.5714 - val_recall: 0.5714 - val_precision: 0.5797\n",
      "Epoch 78/80\n",
      "10/10 [==============================] - 4s 421ms/step - loss: 0.0113 - accuracy: 0.9966 - recall: 0.9966 - precision: 0.9966 - val_loss: 4.7606 - val_accuracy: 0.5857 - val_recall: 0.5857 - val_precision: 0.5857\n",
      "Epoch 79/80\n",
      "10/10 [==============================] - 4s 434ms/step - loss: 0.0068 - accuracy: 0.9966 - recall: 0.9966 - precision: 1.0000 - val_loss: 5.5808 - val_accuracy: 0.5714 - val_recall: 0.5714 - val_precision: 0.5714\n",
      "Epoch 80/80\n",
      "10/10 [==============================] - 4s 446ms/step - loss: 0.0080 - accuracy: 0.9966 - recall: 0.9966 - precision: 0.9966 - val_loss: 5.1046 - val_accuracy: 0.6000 - val_recall: 0.5714 - val_precision: 0.5882\n"
     ]
    }
   ],
   "source": [
    "history = model.fit(train_data, epochs = 80, validation_data = validation_data,\n",
    "    batch_size = 32)"
   ]
  },
  {
   "cell_type": "markdown",
   "id": "9c29e9e0-e040-4fe4-aabd-92c9f22e103a",
   "metadata": {},
   "source": [
    "#### Adding Results to DF"
   ]
  },
  {
   "cell_type": "code",
   "execution_count": 43,
   "id": "56306594-a7cc-4657-a9f2-71476a12306a",
   "metadata": {},
   "outputs": [],
   "source": [
    "results_df2['train_accuracy'].iloc[0] = 0"
   ]
  },
  {
   "cell_type": "code",
   "execution_count": 44,
   "id": "e5e2395d-a274-4ba9-8431-0f74fcf3539f",
   "metadata": {},
   "outputs": [],
   "source": [
    "results_df2['val_accuracy'].iloc[0] = 0"
   ]
  },
  {
   "cell_type": "code",
   "execution_count": 45,
   "id": "7cd20732-3f29-4432-9d21-47b482bbc3e8",
   "metadata": {},
   "outputs": [],
   "source": [
    "results_df2['train_precision'].iloc[0] = 0"
   ]
  },
  {
   "cell_type": "code",
   "execution_count": 46,
   "id": "56ea189e-5c0e-4ea8-8fed-8e213601ed42",
   "metadata": {},
   "outputs": [],
   "source": [
    "results_df2['val_precision'].iloc[0] = 0"
   ]
  },
  {
   "cell_type": "code",
   "execution_count": 236,
   "id": "4284891b-f9d7-4977-90af-b353b4059e13",
   "metadata": {},
   "outputs": [],
   "source": [
    "results_df2['train_recall'].iloc[0] = 0"
   ]
  },
  {
   "cell_type": "code",
   "execution_count": 237,
   "id": "2a27c6be-b008-4e0d-94d8-d9ef8b80feb7",
   "metadata": {},
   "outputs": [],
   "source": [
    "results_df2['val_recall'].iloc[0] = 0"
   ]
  },
  {
   "cell_type": "code",
   "execution_count": 47,
   "id": "f656dd6c-0c06-4a06-be6d-83148e84cff6",
   "metadata": {},
   "outputs": [
    {
     "data": {
      "image/png": "[encoded data removed]",
      "text/plain": [
       "<Figure size 432x288 with 1 Axes>"
      ]
     },
     "metadata": {
      "needs_background": "light"
     },
     "output_type": "display_data"
    }
   ],
   "source": [
    "plt.plot(history.history['accuracy'], label='Train Accuracy')\n",
    "plt.plot(history.history['val_accuracy'], label = 'Val Accuracy')\n",
    "plt.plot(history.history['precision'], label = 'precision')\n",
    "plt.plot(history.history['val_precision'], label = 'val_precision')\n",
    "plt.plot(history.history['recall'], label = 'recall')\n",
    "plt.plot(history.history['val_recall'], label = 'val_recall')\n",
    "plt.legend() \n",
    "plt.yticks([0,0.2,0.4,0.6, 0.8,1]) \n",
    "plt.xlabel('Epoch')\n",
    "plt.ylabel('Metric')\n",
    "plt.title('Train vs Validaton Metric Results');"
   ]
  },
  {
   "cell_type": "markdown",
   "id": "7f492680-0149-4f41-9050-2e9b8e18e326",
   "metadata": {},
   "source": []
  },
  {
   "cell_type": "code",
   "execution_count": 48,
   "id": "bfdeb540-604d-4d67-aebe-2790249fbc8a",
   "metadata": {},
   "outputs": [
    {
     "data": {
      "image/png": "[encoded data removed]",
      "text/plain": [
       "<Figure size 432x288 with 1 Axes>"
      ]
     },
     "metadata": {
      "needs_background": "light"
     },
     "output_type": "display_data"
    }
   ],
   "source": [
    "#plt.plot(history.history['val_accuracy'], label='Val Accuracy')\n",
    "plt.plot(history.history['loss'], label = 'Train Loss')\n",
    "plt.plot(history.history['val_loss'], label = 'Val Loss')\n",
    "plt.legend()\n",
    "plt.xlabel('Epoch')\n",
    "plt.ylabel('Loss')\n",
    "plt.title('Train vs Validation Loss Results');"
   ]
  },
  {
   "cell_type": "markdown",
   "id": "30b715dc-cd30-4d38-ac26-258005b34fe8",
   "metadata": {},
   "source": [
    "### Test Data "
   ]
  },
  {
   "cell_type": "code",
   "execution_count": 15,
   "id": "82b8aa89-b639-4a40-9a64-e98ef8dc2130",
   "metadata": {},
   "outputs": [],
   "source": [
    "# reference: https://towardsdatascience.com/confusion-matrix-for-your-multi-class-machine-learning-model-ff9aa3bf7826"
   ]
  },
  {
   "cell_type": "code",
   "execution_count": 49,
   "id": "d3a3fb79-cbc2-4886-bc06-02ecb8d8efc4",
   "metadata": {},
   "outputs": [
    {
     "name": "stdout",
     "output_type": "stream",
     "text": [
      "3/3 [==============================] - 1s 305ms/step - loss: 8.5938 - accuracy: 0.4667 - recall: 0.4667 - precision: 0.4719\n"
     ]
    }
   ],
   "source": [
    "model.evaluate(test_data)\n",
    "\n",
    "preds = model.predict(test_data) > 0.5\n",
    "\n",
    "preds = preds.astype(int)\n",
    "\n",
    "test_data_values = test_data.labels \n",
    "\n",
    "cm = confusion_matrix(test_data_values, preds.argmax(axis=1))\n"
   ]
  },
  {
   "cell_type": "markdown",
   "id": "aead5b9c-db84-4d42-860f-193b820574c0",
   "metadata": {},
   "source": [
    "#### Adding Results to DF"
   ]
  },
  {
   "cell_type": "code",
   "execution_count": 238,
   "id": "f6edde1a-596d-48cb-8525-f4335fa865d6",
   "metadata": {},
   "outputs": [],
   "source": [
    "results_df['test_recall'].iloc[0] = 0."
   ]
  },
  {
   "cell_type": "code",
   "execution_count": 239,
   "id": "f91f5693-3c75-4776-a00d-a89c90b32f46",
   "metadata": {},
   "outputs": [],
   "source": [
    "results_df['test_accuracy'].iloc[0] = 0"
   ]
  },
  {
   "cell_type": "code",
   "execution_count": 240,
   "id": "3a0b283c-14d5-4388-b444-2150ac75114c",
   "metadata": {},
   "outputs": [],
   "source": [
    "results_df['test_precision'].iloc[0] =  0"
   ]
  },
  {
   "cell_type": "markdown",
   "id": "466cad3a-48b2-4564-b092-edd66f6ed583",
   "metadata": {},
   "source": [
    "#### Confusion Matrix"
   ]
  },
  {
   "cell_type": "code",
   "execution_count": 50,
   "id": "96180546-8655-4bfe-b5dc-85833aa9514d",
   "metadata": {},
   "outputs": [
    {
     "name": "stdout",
     "output_type": "stream",
     "text": [
      "              effusion  normal  otitis_media  tube  unclear\n",
      "effusion             2       3             2     0        1\n",
      "normal               2      19             2     9        2\n",
      "otitis_media         0       1             7     3        5\n",
      "tube                 0       5             0    13        1\n",
      "unclear              0       8             1     3        1\n"
     ]
    }
   ],
   "source": [
    "print(pd.DataFrame(cm, index = ['effusion', 'normal', 'otitis_media', 'tube', 'unclear'], columns = ['effusion', 'normal', 'otitis_media', 'tube', 'unclear']))\n",
    "#Confusion Matrix\n",
    "#Row is True Class \n",
    "#Column is Predicted Class \n",
    "#Diag Match"
   ]
  },
  {
   "cell_type": "markdown",
   "id": "bcd85179-fd89-4186-9247-2a67ff6fbf40",
   "metadata": {},
   "source": [
    "#### Classification Report "
   ]
  },
  {
   "cell_type": "code",
   "execution_count": 52,
   "id": "83094842-907e-4f2e-8b7a-4b26f238e6e2",
   "metadata": {},
   "outputs": [
    {
     "name": "stdout",
     "output_type": "stream",
     "text": [
      "              precision    recall  f1-score   support\n",
      "\n",
      "    effusion       0.50      0.25      0.33         8\n",
      "      normal       0.53      0.56      0.54        34\n",
      "otitis_media       0.58      0.44      0.50        16\n",
      "        tube       0.46      0.68      0.55        19\n",
      "     unclear       0.10      0.08      0.09        13\n",
      "\n",
      "    accuracy                           0.47        90\n",
      "   macro avg       0.44      0.40      0.40        90\n",
      "weighted avg       0.46      0.47      0.45        90\n",
      "\n"
     ]
    }
   ],
   "source": [
    "print(classification_report(test_data_values, preds.argmax(axis=1), target_names = ['effusion', 'normal', 'otitis_media', 'tube', 'unclear']))\n",
    "#F1 Score is the 2*((precision*recall)/(precision+recall)) \n",
    "#TP/(TP+FP)\n",
    "#TP/(TP+FN)"
   ]
  },
  {
   "cell_type": "markdown",
   "id": "d3d18808-e503-442b-af07-cd22c965cd93",
   "metadata": {},
   "source": [
    "## Model 1: Adding Epochs"
   ]
  },
  {
   "cell_type": "code",
   "execution_count": 53,
   "id": "72902ef2-f453-461d-bb70-03e68d09d4e1",
   "metadata": {},
   "outputs": [],
   "source": [
    "model1 = Sequential()\n",
    "model1.add(Flatten())\n",
    "model1.add(Dense(100, activation = 'relu'))\n",
    "model1.add(Dense(5, activation = 'softmax'))\n",
    "\n",
    "model1.compile(loss = 'categorical_crossentropy', optimizer = 'adam', metrics = ['accuracy', 'Recall', 'Precision'])"
   ]
  },
  {
   "cell_type": "code",
   "execution_count": 54,
   "id": "e9d498f3-9c7f-4a78-a795-b201dacd698a",
   "metadata": {
    "collapsed": true,
    "jupyter": {
     "outputs_hidden": true
    },
    "tags": []
   },
   "outputs": [
    {
     "name": "stdout",
     "output_type": "stream",
     "text": [
      "Epoch 1/100\n",
      "10/10 [==============================] - 6s 560ms/step - loss: 62.4394 - accuracy: 0.2271 - recall: 0.2169 - precision: 0.2222 - val_loss: 23.3768 - val_accuracy: 0.3857 - val_recall: 0.3857 - val_precision: 0.3857\n",
      "Epoch 2/100\n",
      "10/10 [==============================] - 4s 439ms/step - loss: 24.9574 - accuracy: 0.3356 - recall: 0.3356 - precision: 0.3356 - val_loss: 14.8194 - val_accuracy: 0.2857 - val_recall: 0.2857 - val_precision: 0.2857\n",
      "Epoch 3/100\n",
      "10/10 [==============================] - 4s 451ms/step - loss: 12.4910 - accuracy: 0.3593 - recall: 0.3593 - precision: 0.3630 - val_loss: 6.0747 - val_accuracy: 0.4429 - val_recall: 0.4286 - val_precision: 0.4348\n",
      "Epoch 4/100\n",
      "10/10 [==============================] - 5s 470ms/step - loss: 5.5108 - accuracy: 0.4847 - recall: 0.4847 - precision: 0.4897 - val_loss: 3.0179 - val_accuracy: 0.4286 - val_recall: 0.4286 - val_precision: 0.4762\n",
      "Epoch 5/100\n",
      "10/10 [==============================] - 4s 428ms/step - loss: 2.7905 - accuracy: 0.5220 - recall: 0.5153 - precision: 0.5296 - val_loss: 3.3090 - val_accuracy: 0.4714 - val_recall: 0.4429 - val_precision: 0.5000\n",
      "Epoch 6/100\n",
      "10/10 [==============================] - 5s 455ms/step - loss: 2.3459 - accuracy: 0.5966 - recall: 0.5864 - precision: 0.6070 - val_loss: 4.3178 - val_accuracy: 0.4857 - val_recall: 0.4857 - val_precision: 0.5231\n",
      "Epoch 7/100\n",
      "10/10 [==============================] - 5s 467ms/step - loss: 2.0237 - accuracy: 0.6000 - recall: 0.5932 - precision: 0.6206 - val_loss: 3.5325 - val_accuracy: 0.4857 - val_recall: 0.4857 - val_precision: 0.5075\n",
      "Epoch 8/100\n",
      "10/10 [==============================] - 5s 481ms/step - loss: 1.7376 - accuracy: 0.6339 - recall: 0.6136 - precision: 0.6606 - val_loss: 3.0868 - val_accuracy: 0.6143 - val_recall: 0.5857 - val_precision: 0.6508\n",
      "Epoch 9/100\n",
      "10/10 [==============================] - 4s 440ms/step - loss: 3.0495 - accuracy: 0.6203 - recall: 0.6136 - precision: 0.6307 - val_loss: 5.8751 - val_accuracy: 0.5429 - val_recall: 0.5286 - val_precision: 0.5692\n",
      "Epoch 10/100\n",
      "10/10 [==============================] - 4s 460ms/step - loss: 3.5241 - accuracy: 0.5661 - recall: 0.5525 - precision: 0.5821 - val_loss: 4.5820 - val_accuracy: 0.3000 - val_recall: 0.3000 - val_precision: 0.3333\n",
      "Epoch 11/100\n",
      "10/10 [==============================] - 5s 491ms/step - loss: 2.5759 - accuracy: 0.5695 - recall: 0.5627 - precision: 0.5764 - val_loss: 3.4740 - val_accuracy: 0.4857 - val_recall: 0.4857 - val_precision: 0.5000\n",
      "Epoch 12/100\n",
      "10/10 [==============================] - 4s 442ms/step - loss: 1.7562 - accuracy: 0.6780 - recall: 0.6780 - precision: 0.6826 - val_loss: 3.3587 - val_accuracy: 0.5571 - val_recall: 0.5571 - val_precision: 0.5652\n",
      "Epoch 13/100\n",
      "10/10 [==============================] - 4s 479ms/step - loss: 2.4928 - accuracy: 0.5356 - recall: 0.5254 - precision: 0.5477 - val_loss: 4.4270 - val_accuracy: 0.4857 - val_recall: 0.4857 - val_precision: 0.4928\n",
      "Epoch 14/100\n",
      "10/10 [==============================] - 4s 437ms/step - loss: 3.2871 - accuracy: 0.5593 - recall: 0.5593 - precision: 0.5670 - val_loss: 3.1566 - val_accuracy: 0.5286 - val_recall: 0.5286 - val_precision: 0.5522\n",
      "Epoch 15/100\n",
      "10/10 [==============================] - 4s 453ms/step - loss: 2.0920 - accuracy: 0.5898 - recall: 0.5797 - precision: 0.6000 - val_loss: 3.8015 - val_accuracy: 0.4714 - val_recall: 0.4571 - val_precision: 0.4848\n",
      "Epoch 16/100\n",
      "10/10 [==============================] - 5s 499ms/step - loss: 2.6284 - accuracy: 0.5424 - recall: 0.5356 - precision: 0.5467 - val_loss: 6.2296 - val_accuracy: 0.5429 - val_recall: 0.5429 - val_precision: 0.5672\n",
      "Epoch 17/100\n",
      "10/10 [==============================] - 4s 436ms/step - loss: 1.9029 - accuracy: 0.6542 - recall: 0.6237 - precision: 0.6525 - val_loss: 3.9137 - val_accuracy: 0.4429 - val_recall: 0.4286 - val_precision: 0.4478\n",
      "Epoch 18/100\n",
      "10/10 [==============================] - 4s 432ms/step - loss: 1.3066 - accuracy: 0.6610 - recall: 0.6542 - precision: 0.6796 - val_loss: 3.2029 - val_accuracy: 0.5714 - val_recall: 0.5429 - val_precision: 0.5938\n",
      "Epoch 19/100\n",
      "10/10 [==============================] - 4s 434ms/step - loss: 0.6390 - accuracy: 0.8068 - recall: 0.7864 - precision: 0.8198 - val_loss: 3.3627 - val_accuracy: 0.5714 - val_recall: 0.5714 - val_precision: 0.5882\n",
      "Epoch 20/100\n",
      "10/10 [==============================] - 5s 490ms/step - loss: 0.3956 - accuracy: 0.8678 - recall: 0.8576 - precision: 0.8785 - val_loss: 3.2699 - val_accuracy: 0.5429 - val_recall: 0.5286 - val_precision: 0.5781\n",
      "Epoch 21/100\n",
      "10/10 [==============================] - 5s 462ms/step - loss: 0.5944 - accuracy: 0.8169 - recall: 0.8034 - precision: 0.8229 - val_loss: 2.4884 - val_accuracy: 0.5571 - val_recall: 0.5429 - val_precision: 0.5846\n",
      "Epoch 22/100\n",
      "10/10 [==============================] - 4s 475ms/step - loss: 0.4307 - accuracy: 0.8678 - recall: 0.8610 - precision: 0.8789 - val_loss: 2.6180 - val_accuracy: 0.5286 - val_recall: 0.5000 - val_precision: 0.5385\n",
      "Epoch 23/100\n",
      "10/10 [==============================] - 4s 479ms/step - loss: 0.3985 - accuracy: 0.8881 - recall: 0.8746 - precision: 0.9021 - val_loss: 3.2524 - val_accuracy: 0.5143 - val_recall: 0.5143 - val_precision: 0.5217\n",
      "Epoch 24/100\n",
      "10/10 [==============================] - 4s 458ms/step - loss: 0.4203 - accuracy: 0.8373 - recall: 0.8339 - precision: 0.8512 - val_loss: 2.6957 - val_accuracy: 0.4857 - val_recall: 0.4429 - val_precision: 0.4921\n",
      "Epoch 25/100\n",
      "10/10 [==============================] - 4s 436ms/step - loss: 0.7449 - accuracy: 0.7966 - recall: 0.7797 - precision: 0.8070 - val_loss: 3.9647 - val_accuracy: 0.6000 - val_recall: 0.5857 - val_precision: 0.6212\n",
      "Epoch 26/100\n",
      "10/10 [==============================] - 4s 445ms/step - loss: 0.5248 - accuracy: 0.8373 - recall: 0.8237 - precision: 0.8467 - val_loss: 3.2300 - val_accuracy: 0.6143 - val_recall: 0.6143 - val_precision: 0.6418\n",
      "Epoch 27/100\n",
      "10/10 [==============================] - 5s 456ms/step - loss: 0.3395 - accuracy: 0.8915 - recall: 0.8814 - precision: 0.8997 - val_loss: 2.6570 - val_accuracy: 0.5857 - val_recall: 0.5857 - val_precision: 0.6029\n",
      "Epoch 28/100\n",
      "10/10 [==============================] - 4s 436ms/step - loss: 0.5296 - accuracy: 0.8407 - recall: 0.8271 - precision: 0.8592 - val_loss: 2.6260 - val_accuracy: 0.6286 - val_recall: 0.6000 - val_precision: 0.6562\n",
      "Epoch 29/100\n",
      "10/10 [==============================] - 4s 444ms/step - loss: 0.8696 - accuracy: 0.7593 - recall: 0.7593 - precision: 0.7724 - val_loss: 4.0162 - val_accuracy: 0.5286 - val_recall: 0.5286 - val_precision: 0.5286\n",
      "Epoch 30/100\n",
      "10/10 [==============================] - 4s 451ms/step - loss: 0.9970 - accuracy: 0.7492 - recall: 0.7356 - precision: 0.7587 - val_loss: 4.5954 - val_accuracy: 0.5571 - val_recall: 0.5286 - val_precision: 0.5441\n",
      "Epoch 31/100\n",
      "10/10 [==============================] - 4s 458ms/step - loss: 0.6429 - accuracy: 0.8034 - recall: 0.7898 - precision: 0.8175 - val_loss: 3.7543 - val_accuracy: 0.4571 - val_recall: 0.4286 - val_precision: 0.4762\n",
      "Epoch 32/100\n",
      "10/10 [==============================] - 4s 433ms/step - loss: 0.6515 - accuracy: 0.8305 - recall: 0.8136 - precision: 0.8333 - val_loss: 4.0911 - val_accuracy: 0.4571 - val_recall: 0.4571 - val_precision: 0.4776\n",
      "Epoch 33/100\n",
      "10/10 [==============================] - 4s 452ms/step - loss: 0.9665 - accuracy: 0.8000 - recall: 0.7831 - precision: 0.8163 - val_loss: 2.7208 - val_accuracy: 0.4857 - val_recall: 0.4714 - val_precision: 0.5156\n",
      "Epoch 34/100\n",
      "10/10 [==============================] - 5s 451ms/step - loss: 0.6819 - accuracy: 0.8271 - recall: 0.8169 - precision: 0.8368 - val_loss: 2.7603 - val_accuracy: 0.4857 - val_recall: 0.4714 - val_precision: 0.5156\n",
      "Epoch 35/100\n",
      "10/10 [==============================] - 5s 464ms/step - loss: 0.3645 - accuracy: 0.9017 - recall: 0.8915 - precision: 0.9069 - val_loss: 3.0670 - val_accuracy: 0.5857 - val_recall: 0.5714 - val_precision: 0.6154\n",
      "Epoch 36/100\n",
      "10/10 [==============================] - 4s 438ms/step - loss: 0.4670 - accuracy: 0.8542 - recall: 0.8542 - precision: 0.8690 - val_loss: 3.6796 - val_accuracy: 0.5571 - val_recall: 0.5571 - val_precision: 0.5571\n",
      "Epoch 37/100\n",
      "10/10 [==============================] - 5s 461ms/step - loss: 0.6369 - accuracy: 0.8271 - recall: 0.8237 - precision: 0.8351 - val_loss: 3.3983 - val_accuracy: 0.5571 - val_recall: 0.5429 - val_precision: 0.5588\n",
      "Epoch 38/100\n",
      "10/10 [==============================] - 4s 429ms/step - loss: 0.6884 - accuracy: 0.8305 - recall: 0.8271 - precision: 0.8414 - val_loss: 4.1248 - val_accuracy: 0.4000 - val_recall: 0.3857 - val_precision: 0.4030\n",
      "Epoch 39/100\n",
      "10/10 [==============================] - 4s 446ms/step - loss: 0.6367 - accuracy: 0.8407 - recall: 0.8339 - precision: 0.8425 - val_loss: 4.0197 - val_accuracy: 0.6286 - val_recall: 0.6143 - val_precision: 0.6232\n",
      "Epoch 40/100\n",
      "10/10 [==============================] - 4s 409ms/step - loss: 0.5269 - accuracy: 0.8678 - recall: 0.8678 - precision: 0.8707 - val_loss: 3.2887 - val_accuracy: 0.5571 - val_recall: 0.5571 - val_precision: 0.5909\n",
      "Epoch 41/100\n",
      "10/10 [==============================] - 4s 438ms/step - loss: 0.2835 - accuracy: 0.9085 - recall: 0.8983 - precision: 0.9138 - val_loss: 3.9165 - val_accuracy: 0.5429 - val_recall: 0.5429 - val_precision: 0.5507\n",
      "Epoch 42/100\n",
      "10/10 [==============================] - 4s 446ms/step - loss: 0.1987 - accuracy: 0.9390 - recall: 0.9288 - precision: 0.9384 - val_loss: 3.4029 - val_accuracy: 0.5857 - val_recall: 0.5714 - val_precision: 0.6154\n",
      "Epoch 43/100\n",
      "10/10 [==============================] - 4s 446ms/step - loss: 0.1438 - accuracy: 0.9492 - recall: 0.9390 - precision: 0.9585 - val_loss: 3.2945 - val_accuracy: 0.4714 - val_recall: 0.4714 - val_precision: 0.4925\n",
      "Epoch 44/100\n",
      "10/10 [==============================] - 4s 437ms/step - loss: 0.2066 - accuracy: 0.9390 - recall: 0.9254 - precision: 0.9414 - val_loss: 2.7913 - val_accuracy: 0.4857 - val_recall: 0.4571 - val_precision: 0.5079\n",
      "Epoch 45/100\n",
      "10/10 [==============================] - 4s 436ms/step - loss: 0.2276 - accuracy: 0.9254 - recall: 0.9186 - precision: 0.9313 - val_loss: 2.7155 - val_accuracy: 0.5429 - val_recall: 0.5143 - val_precision: 0.5714\n",
      "Epoch 46/100\n",
      "10/10 [==============================] - 5s 454ms/step - loss: 0.2202 - accuracy: 0.9220 - recall: 0.9186 - precision: 0.9218 - val_loss: 2.8511 - val_accuracy: 0.4571 - val_recall: 0.4571 - val_precision: 0.5079\n",
      "Epoch 47/100\n",
      "10/10 [==============================] - 5s 491ms/step - loss: 0.1850 - accuracy: 0.9356 - recall: 0.9186 - precision: 0.9410 - val_loss: 3.1803 - val_accuracy: 0.5857 - val_recall: 0.5857 - val_precision: 0.5857\n",
      "Epoch 48/100\n",
      "10/10 [==============================] - 5s 475ms/step - loss: 0.0942 - accuracy: 0.9661 - recall: 0.9661 - precision: 0.9661 - val_loss: 3.0424 - val_accuracy: 0.4857 - val_recall: 0.4714 - val_precision: 0.5156\n",
      "Epoch 49/100\n",
      "10/10 [==============================] - 5s 504ms/step - loss: 0.2202 - accuracy: 0.9051 - recall: 0.9017 - precision: 0.9172 - val_loss: 3.6431 - val_accuracy: 0.5429 - val_recall: 0.5429 - val_precision: 0.5672\n",
      "Epoch 50/100\n",
      "10/10 [==============================] - 5s 463ms/step - loss: 0.1286 - accuracy: 0.9627 - recall: 0.9492 - precision: 0.9689 - val_loss: 3.3761 - val_accuracy: 0.5286 - val_recall: 0.5000 - val_precision: 0.5556\n",
      "Epoch 51/100\n",
      "10/10 [==============================] - 5s 462ms/step - loss: 0.2128 - accuracy: 0.9492 - recall: 0.9458 - precision: 0.9621 - val_loss: 2.9716 - val_accuracy: 0.5714 - val_recall: 0.5571 - val_precision: 0.5909\n",
      "Epoch 52/100\n",
      "10/10 [==============================] - 5s 475ms/step - loss: 0.6647 - accuracy: 0.8441 - recall: 0.8373 - precision: 0.8430 - val_loss: 3.7745 - val_accuracy: 0.4857 - val_recall: 0.4857 - val_precision: 0.5075\n",
      "Epoch 53/100\n",
      "10/10 [==============================] - 4s 455ms/step - loss: 0.3047 - accuracy: 0.8814 - recall: 0.8746 - precision: 0.8805 - val_loss: 3.6005 - val_accuracy: 0.5429 - val_recall: 0.5429 - val_precision: 0.5588\n",
      "Epoch 54/100\n",
      "10/10 [==============================] - 4s 457ms/step - loss: 0.1777 - accuracy: 0.9424 - recall: 0.9288 - precision: 0.9547 - val_loss: 3.3377 - val_accuracy: 0.5429 - val_recall: 0.5286 - val_precision: 0.5522\n",
      "Epoch 55/100\n",
      "10/10 [==============================] - 5s 456ms/step - loss: 0.1540 - accuracy: 0.9525 - recall: 0.9424 - precision: 0.9619 - val_loss: 4.0318 - val_accuracy: 0.5286 - val_recall: 0.5286 - val_precision: 0.5362\n",
      "Epoch 56/100\n",
      "10/10 [==============================] - 4s 455ms/step - loss: 0.4138 - accuracy: 0.8814 - recall: 0.8780 - precision: 0.8840 - val_loss: 3.4607 - val_accuracy: 0.5857 - val_recall: 0.5571 - val_precision: 0.5821\n",
      "Epoch 57/100\n",
      "10/10 [==============================] - 4s 454ms/step - loss: 0.2382 - accuracy: 0.9186 - recall: 0.9186 - precision: 0.9218 - val_loss: 3.9325 - val_accuracy: 0.5714 - val_recall: 0.5571 - val_precision: 0.5735\n",
      "Epoch 58/100\n",
      "10/10 [==============================] - 4s 449ms/step - loss: 0.5164 - accuracy: 0.8339 - recall: 0.8305 - precision: 0.8448 - val_loss: 3.6797 - val_accuracy: 0.5857 - val_recall: 0.5857 - val_precision: 0.6119\n",
      "Epoch 59/100\n",
      "10/10 [==============================] - 4s 466ms/step - loss: 0.3881 - accuracy: 0.8746 - recall: 0.8712 - precision: 0.8741 - val_loss: 4.0177 - val_accuracy: 0.5714 - val_recall: 0.5571 - val_precision: 0.5909\n",
      "Epoch 60/100\n",
      "10/10 [==============================] - 4s 439ms/step - loss: 0.1643 - accuracy: 0.9322 - recall: 0.9288 - precision: 0.9384 - val_loss: 3.4808 - val_accuracy: 0.5714 - val_recall: 0.5571 - val_precision: 0.5735\n",
      "Epoch 61/100\n",
      "10/10 [==============================] - 5s 467ms/step - loss: 0.1324 - accuracy: 0.9424 - recall: 0.9356 - precision: 0.9485 - val_loss: 3.4854 - val_accuracy: 0.4857 - val_recall: 0.4714 - val_precision: 0.4925\n",
      "Epoch 62/100\n",
      "10/10 [==============================] - 4s 437ms/step - loss: 0.1026 - accuracy: 0.9593 - recall: 0.9559 - precision: 0.9724 - val_loss: 3.0949 - val_accuracy: 0.5143 - val_recall: 0.5143 - val_precision: 0.5455\n",
      "Epoch 63/100\n",
      "10/10 [==============================] - 4s 448ms/step - loss: 0.0563 - accuracy: 0.9797 - recall: 0.9797 - precision: 0.9830 - val_loss: 3.5082 - val_accuracy: 0.5714 - val_recall: 0.5571 - val_precision: 0.5735\n",
      "Epoch 64/100\n",
      "10/10 [==============================] - 4s 437ms/step - loss: 0.0428 - accuracy: 0.9864 - recall: 0.9864 - precision: 0.9898 - val_loss: 3.0940 - val_accuracy: 0.5143 - val_recall: 0.5143 - val_precision: 0.5373\n",
      "Epoch 65/100\n",
      "10/10 [==============================] - 5s 458ms/step - loss: 0.0407 - accuracy: 0.9898 - recall: 0.9898 - precision: 0.9898 - val_loss: 3.5601 - val_accuracy: 0.5571 - val_recall: 0.5429 - val_precision: 0.5938\n",
      "Epoch 66/100\n",
      "10/10 [==============================] - 5s 457ms/step - loss: 0.0441 - accuracy: 0.9864 - recall: 0.9864 - precision: 0.9864 - val_loss: 3.4232 - val_accuracy: 0.6000 - val_recall: 0.5857 - val_precision: 0.6029\n",
      "Epoch 67/100\n",
      "10/10 [==============================] - 4s 450ms/step - loss: 0.0584 - accuracy: 0.9831 - recall: 0.9831 - precision: 0.9831 - val_loss: 3.2120 - val_accuracy: 0.5714 - val_recall: 0.5571 - val_precision: 0.5821\n",
      "Epoch 68/100\n",
      "10/10 [==============================] - 4s 446ms/step - loss: 0.0512 - accuracy: 0.9898 - recall: 0.9864 - precision: 0.9898 - val_loss: 3.2492 - val_accuracy: 0.5000 - val_recall: 0.5000 - val_precision: 0.5224\n",
      "Epoch 69/100\n",
      "10/10 [==============================] - 4s 440ms/step - loss: 0.0574 - accuracy: 0.9831 - recall: 0.9797 - precision: 0.9830 - val_loss: 3.4593 - val_accuracy: 0.5429 - val_recall: 0.5286 - val_precision: 0.5441\n",
      "Epoch 70/100\n",
      "10/10 [==============================] - 4s 448ms/step - loss: 0.0456 - accuracy: 0.9898 - recall: 0.9898 - precision: 0.9932 - val_loss: 3.4753 - val_accuracy: 0.6000 - val_recall: 0.6000 - val_precision: 0.6176\n",
      "Epoch 71/100\n",
      "10/10 [==============================] - 5s 465ms/step - loss: 0.0446 - accuracy: 0.9932 - recall: 0.9932 - precision: 0.9932 - val_loss: 3.2773 - val_accuracy: 0.5143 - val_recall: 0.5000 - val_precision: 0.5303\n",
      "Epoch 72/100\n",
      "10/10 [==============================] - 4s 444ms/step - loss: 0.0453 - accuracy: 0.9898 - recall: 0.9898 - precision: 0.9898 - val_loss: 3.6530 - val_accuracy: 0.5857 - val_recall: 0.5714 - val_precision: 0.5970\n",
      "Epoch 73/100\n",
      "10/10 [==============================] - 4s 473ms/step - loss: 0.6290 - accuracy: 0.8508 - recall: 0.8475 - precision: 0.8562 - val_loss: 3.2506 - val_accuracy: 0.5286 - val_recall: 0.5143 - val_precision: 0.5455\n",
      "Epoch 74/100\n",
      "10/10 [==============================] - 4s 453ms/step - loss: 0.2422 - accuracy: 0.8949 - recall: 0.8881 - precision: 0.9034 - val_loss: 3.1833 - val_accuracy: 0.5286 - val_recall: 0.5286 - val_precision: 0.5441\n",
      "Epoch 75/100\n",
      "10/10 [==============================] - 4s 442ms/step - loss: 0.1882 - accuracy: 0.9288 - recall: 0.9254 - precision: 0.9317 - val_loss: 3.6570 - val_accuracy: 0.5000 - val_recall: 0.4857 - val_precision: 0.5152\n",
      "Epoch 76/100\n",
      "10/10 [==============================] - 4s 443ms/step - loss: 0.3742 - accuracy: 0.9186 - recall: 0.9085 - precision: 0.9241 - val_loss: 3.0483 - val_accuracy: 0.5286 - val_recall: 0.5286 - val_precision: 0.5522\n",
      "Epoch 77/100\n",
      "10/10 [==============================] - 4s 432ms/step - loss: 0.5534 - accuracy: 0.8610 - recall: 0.8576 - precision: 0.8635 - val_loss: 3.8410 - val_accuracy: 0.6143 - val_recall: 0.6143 - val_precision: 0.6232\n",
      "Epoch 78/100\n",
      "10/10 [==============================] - 4s 470ms/step - loss: 0.9515 - accuracy: 0.7831 - recall: 0.7763 - precision: 0.7979 - val_loss: 3.5781 - val_accuracy: 0.5714 - val_recall: 0.5714 - val_precision: 0.5882\n",
      "Epoch 79/100\n",
      "10/10 [==============================] - 4s 441ms/step - loss: 0.6805 - accuracy: 0.8237 - recall: 0.8203 - precision: 0.8259 - val_loss: 3.9713 - val_accuracy: 0.4429 - val_recall: 0.4429 - val_precision: 0.4697\n",
      "Epoch 80/100\n",
      "10/10 [==============================] - 4s 450ms/step - loss: 0.6380 - accuracy: 0.8542 - recall: 0.8475 - precision: 0.8562 - val_loss: 4.2646 - val_accuracy: 0.5429 - val_recall: 0.5143 - val_precision: 0.5538\n",
      "Epoch 81/100\n",
      "10/10 [==============================] - 5s 489ms/step - loss: 0.1763 - accuracy: 0.9492 - recall: 0.9424 - precision: 0.9521 - val_loss: 3.3722 - val_accuracy: 0.5286 - val_recall: 0.5286 - val_precision: 0.5441\n",
      "Epoch 82/100\n",
      "10/10 [==============================] - 4s 445ms/step - loss: 0.0681 - accuracy: 0.9797 - recall: 0.9763 - precision: 0.9796 - val_loss: 3.7850 - val_accuracy: 0.4857 - val_recall: 0.4714 - val_precision: 0.5000\n",
      "Epoch 83/100\n",
      "10/10 [==============================] - 4s 453ms/step - loss: 0.0979 - accuracy: 0.9627 - recall: 0.9627 - precision: 0.9660 - val_loss: 4.5100 - val_accuracy: 0.5571 - val_recall: 0.5571 - val_precision: 0.5821\n",
      "Epoch 84/100\n",
      "10/10 [==============================] - 4s 449ms/step - loss: 0.0582 - accuracy: 0.9831 - recall: 0.9763 - precision: 0.9829 - val_loss: 3.9830 - val_accuracy: 0.5429 - val_recall: 0.5286 - val_precision: 0.5522\n",
      "Epoch 85/100\n",
      "10/10 [==============================] - 4s 455ms/step - loss: 0.0329 - accuracy: 0.9898 - recall: 0.9898 - precision: 0.9898 - val_loss: 3.9114 - val_accuracy: 0.5571 - val_recall: 0.5571 - val_precision: 0.6000\n",
      "Epoch 86/100\n",
      "10/10 [==============================] - 4s 437ms/step - loss: 0.0256 - accuracy: 1.0000 - recall: 1.0000 - precision: 1.0000 - val_loss: 3.8090 - val_accuracy: 0.5571 - val_recall: 0.5429 - val_precision: 0.5672\n",
      "Epoch 87/100\n",
      "10/10 [==============================] - 4s 442ms/step - loss: 0.0249 - accuracy: 0.9966 - recall: 0.9966 - precision: 0.9966 - val_loss: 3.9937 - val_accuracy: 0.5571 - val_recall: 0.5571 - val_precision: 0.5821\n",
      "Epoch 88/100\n",
      "10/10 [==============================] - 5s 462ms/step - loss: 0.0212 - accuracy: 1.0000 - recall: 1.0000 - precision: 1.0000 - val_loss: 3.8957 - val_accuracy: 0.5429 - val_recall: 0.5286 - val_precision: 0.5522\n",
      "Epoch 89/100\n",
      "10/10 [==============================] - 5s 478ms/step - loss: 0.0236 - accuracy: 0.9966 - recall: 0.9966 - precision: 0.9966 - val_loss: 3.8968 - val_accuracy: 0.5714 - val_recall: 0.5714 - val_precision: 0.6061\n",
      "Epoch 90/100\n",
      "10/10 [==============================] - 4s 421ms/step - loss: 0.0202 - accuracy: 1.0000 - recall: 1.0000 - precision: 1.0000 - val_loss: 3.8945 - val_accuracy: 0.5571 - val_recall: 0.5571 - val_precision: 0.5821\n",
      "Epoch 91/100\n",
      "10/10 [==============================] - 4s 414ms/step - loss: 0.0181 - accuracy: 1.0000 - recall: 1.0000 - precision: 1.0000 - val_loss: 3.9067 - val_accuracy: 0.5857 - val_recall: 0.5857 - val_precision: 0.6308\n",
      "Epoch 92/100\n",
      "10/10 [==============================] - 4s 413ms/step - loss: 0.0165 - accuracy: 1.0000 - recall: 1.0000 - precision: 1.0000 - val_loss: 3.8357 - val_accuracy: 0.5571 - val_recall: 0.5571 - val_precision: 0.5735\n",
      "Epoch 93/100\n",
      "10/10 [==============================] - 4s 426ms/step - loss: 0.0151 - accuracy: 1.0000 - recall: 1.0000 - precision: 1.0000 - val_loss: 3.8865 - val_accuracy: 0.5857 - val_recall: 0.5857 - val_precision: 0.6119\n",
      "Epoch 94/100\n",
      "10/10 [==============================] - 5s 498ms/step - loss: 0.0154 - accuracy: 1.0000 - recall: 1.0000 - precision: 1.0000 - val_loss: 3.9192 - val_accuracy: 0.5714 - val_recall: 0.5714 - val_precision: 0.6061\n",
      "Epoch 95/100\n",
      "10/10 [==============================] - 4s 423ms/step - loss: 0.0147 - accuracy: 1.0000 - recall: 1.0000 - precision: 1.0000 - val_loss: 3.8209 - val_accuracy: 0.5714 - val_recall: 0.5714 - val_precision: 0.6061\n",
      "Epoch 96/100\n",
      "10/10 [==============================] - 4s 461ms/step - loss: 0.0145 - accuracy: 1.0000 - recall: 1.0000 - precision: 1.0000 - val_loss: 3.8706 - val_accuracy: 0.5714 - val_recall: 0.5714 - val_precision: 0.5882\n",
      "Epoch 97/100\n",
      "10/10 [==============================] - 4s 418ms/step - loss: 0.0158 - accuracy: 1.0000 - recall: 1.0000 - precision: 1.0000 - val_loss: 4.0162 - val_accuracy: 0.5714 - val_recall: 0.5714 - val_precision: 0.6061\n",
      "Epoch 98/100\n",
      "10/10 [==============================] - 4s 441ms/step - loss: 0.0155 - accuracy: 1.0000 - recall: 1.0000 - precision: 1.0000 - val_loss: 3.7853 - val_accuracy: 0.5714 - val_recall: 0.5714 - val_precision: 0.5970\n",
      "Epoch 99/100\n",
      "10/10 [==============================] - 4s 419ms/step - loss: 0.0149 - accuracy: 1.0000 - recall: 1.0000 - precision: 1.0000 - val_loss: 3.9301 - val_accuracy: 0.6000 - val_recall: 0.5857 - val_precision: 0.6119\n",
      "Epoch 100/100\n",
      "10/10 [==============================] - 4s 417ms/step - loss: 0.0177 - accuracy: 1.0000 - recall: 1.0000 - precision: 1.0000 - val_loss: 4.1522 - val_accuracy: 0.5571 - val_recall: 0.5429 - val_precision: 0.5758\n"
     ]
    }
   ],
   "source": [
    "history1 = model1.fit(train_data, epochs = 100, validation_data = validation_data,\n",
    "    batch_size = 32)"
   ]
  },
  {
   "cell_type": "markdown",
   "id": "ffa4e7f9-a336-429b-8a02-b018cb78d46a",
   "metadata": {},
   "source": [
    "#### Adding Results to DF"
   ]
  },
  {
   "cell_type": "code",
   "execution_count": 60,
   "id": "55055417-82ba-46c6-bfe5-496c90b72855",
   "metadata": {},
   "outputs": [],
   "source": [
    "results_df2['train_accuracy'].iloc[1] = 0"
   ]
  },
  {
   "cell_type": "code",
   "execution_count": 61,
   "id": "ac768b75-d1f3-4a66-b1ab-e26b8a7bbcb3",
   "metadata": {},
   "outputs": [],
   "source": [
    "results_df2['val_accuracy'].iloc[1] = 0"
   ]
  },
  {
   "cell_type": "code",
   "execution_count": 62,
   "id": "e195a017-95f2-46c9-aece-dbb07cf38dec",
   "metadata": {},
   "outputs": [],
   "source": [
    "results_df2['train_recall'].iloc[1] = 0"
   ]
  },
  {
   "cell_type": "code",
   "execution_count": 63,
   "id": "cdea8e5f-248f-47de-a397-119246c2b264",
   "metadata": {},
   "outputs": [],
   "source": [
    "results_df2['val_recall'].iloc[1] = 0"
   ]
  },
  {
   "cell_type": "code",
   "execution_count": 64,
   "id": "99d9a727-4973-4e87-b005-1bd9164a7ffa",
   "metadata": {},
   "outputs": [],
   "source": [
    "results_df2['train_precision'].iloc[1] = 0"
   ]
  },
  {
   "cell_type": "code",
   "execution_count": 65,
   "id": "88bda3d5-e725-47d1-94b4-9bf4a1d4e4c4",
   "metadata": {},
   "outputs": [],
   "source": [
    "results_df2['val_precision'].iloc[1] = 0"
   ]
  },
  {
   "cell_type": "code",
   "execution_count": 66,
   "id": "c47d8f4a-7b33-4e6f-baa4-85be8da0e0dd",
   "metadata": {},
   "outputs": [
    {
     "data": {
      "image/png": "[encoded data removed]",
      "text/plain": [
       "<Figure size 432x288 with 1 Axes>"
      ]
     },
     "metadata": {
      "needs_background": "light"
     },
     "output_type": "display_data"
    }
   ],
   "source": [
    "plt.plot(history1.history['accuracy'], label='Train Accuracy')\n",
    "plt.plot(history1.history['val_accuracy'], label = 'Val Accuracy')\n",
    "plt.plot(history1.history['precision'], label = 'precision')\n",
    "plt.plot(history1.history['val_precision'], label = 'val_precision')\n",
    "plt.plot(history1.history['recall'], label = 'recall')\n",
    "plt.plot(history1.history['val_recall'], label = 'val_recall')\n",
    "plt.legend() \n",
    "plt.yticks([0,0.2,0.4,0.6, 0.8,1]) \n",
    "plt.xlabel('Epoch')\n",
    "plt.ylabel('Metric')\n",
    "plt.title('Train vs Validation Metric Results');"
   ]
  },
  {
   "cell_type": "markdown",
   "id": "47fc118d-30bc-4cce-b8a0-edf7b31ce7e1",
   "metadata": {},
   "source": []
  },
  {
   "cell_type": "code",
   "execution_count": 67,
   "id": "bddffb15-26ee-490f-a0cb-af33b1e59dc8",
   "metadata": {},
   "outputs": [
    {
     "data": {
      "image/png": "[encoded data removed]",
      "text/plain": [
       "<Figure size 432x288 with 1 Axes>"
      ]
     },
     "metadata": {
      "needs_background": "light"
     },
     "output_type": "display_data"
    }
   ],
   "source": [
    "#plt.plot(history.history['val_accuracy'], label='Val Accuracy')\n",
    "plt.plot(history1.history['loss'], label = 'Train Loss')\n",
    "plt.plot(history1.history['val_loss'], label = 'Val Loss')\n",
    "plt.legend()\n",
    "plt.xlabel('Epoch')\n",
    "plt.ylabel('Loss')\n",
    "plt.title('Train vs Validation Loss Results');"
   ]
  },
  {
   "cell_type": "markdown",
   "id": "6015c037-bb11-4ea2-b191-d7573f3ae1f7",
   "metadata": {},
   "source": [
    "### Test Data"
   ]
  },
  {
   "cell_type": "code",
   "execution_count": 68,
   "id": "06d43ebc-a83f-44d3-9d67-ef8f35dc80bb",
   "metadata": {},
   "outputs": [],
   "source": [
    "# reference: https://towardsdatascience.com/confusion-matrix-for-your-multi-class-machine-learning-model-ff9aa3bf7826"
   ]
  },
  {
   "cell_type": "code",
   "execution_count": 69,
   "id": "b3aafcd2-1eb3-41a8-98de-2796835ce639",
   "metadata": {},
   "outputs": [
    {
     "name": "stdout",
     "output_type": "stream",
     "text": [
      "3/3 [==============================] - 1s 346ms/step - loss: 6.3685 - accuracy: 0.4667 - recall: 0.4444 - precision: 0.4545\n"
     ]
    },
    {
     "data": {
      "text/plain": [
       "array([[ 2,  3,  2,  1,  0],\n",
       "       [ 2, 20,  1, 10,  1],\n",
       "       [ 0,  3,  4,  6,  3],\n",
       "       [ 0,  5,  1, 13,  0],\n",
       "       [ 1,  8,  1,  2,  1]])"
      ]
     },
     "execution_count": 69,
     "metadata": {},
     "output_type": "execute_result"
    }
   ],
   "source": [
    "model1.evaluate(test_data)\n",
    "\n",
    "preds1 = model1.predict(test_data) > 0.5\n",
    "\n",
    "preds1 = preds1.astype(int)\n",
    "\n",
    "test_data_values = test_data.labels \n",
    "\n",
    "cm = confusion_matrix(test_data_values, preds1.argmax(axis=1))"
   ]
  },
  {
   "cell_type": "markdown",
   "id": "55ee6405-3323-4705-be7e-9742717ab6c7",
   "metadata": {},
   "source": [
    "#### Adding Test Data to DF"
   ]
  },
  {
   "cell_type": "code",
   "execution_count": 71,
   "id": "5f7ac5e9-1b19-458a-87ae-13204734d34b",
   "metadata": {},
   "outputs": [],
   "source": [
    "results_df2['test_accuracy'].iloc[1] = 0"
   ]
  },
  {
   "cell_type": "code",
   "execution_count": 72,
   "id": "5c5f9831-6f4f-470a-8e09-b47be406e48b",
   "metadata": {},
   "outputs": [],
   "source": [
    "results_df2['test_recall'].iloc[1] = 0"
   ]
  },
  {
   "cell_type": "code",
   "execution_count": 73,
   "id": "43b36eed-c126-48f7-bcda-c3718150a691",
   "metadata": {},
   "outputs": [],
   "source": [
    "results_df2['test_precision'].iloc[1] = 0"
   ]
  },
  {
   "cell_type": "markdown",
   "id": "b33e9f16-c036-4ab8-b7df-44ff71fc9e56",
   "metadata": {},
   "source": [
    "#### Confusion Matrix"
   ]
  },
  {
   "cell_type": "code",
   "execution_count": 74,
   "id": "12688d16-5d48-4346-aa2e-c6824268bb2e",
   "metadata": {},
   "outputs": [
    {
     "name": "stdout",
     "output_type": "stream",
     "text": [
      "              effusion  normal  otitis_media  tube  unclear\n",
      "effusion             2       3             2     1        0\n",
      "normal               2      20             1    10        1\n",
      "otitis_media         0       3             4     6        3\n",
      "tube                 0       5             1    13        0\n",
      "unclear              1       8             1     2        1\n"
     ]
    }
   ],
   "source": [
    "print(pd.DataFrame(cm, index = ['effusion', 'normal', 'otitis_media', 'tube', 'unclear'], columns = ['effusion', 'normal', 'otitis_media', 'tube', 'unclear']))\n",
    "#Confusion Matrix\n",
    "#Row is True Class \n",
    "#Column is Predicted Class \n",
    "#Diag Match"
   ]
  },
  {
   "cell_type": "markdown",
   "id": "534dfe20-cfc5-4e33-8080-d6fabd3905c7",
   "metadata": {},
   "source": [
    "#### Classifcation Report "
   ]
  },
  {
   "cell_type": "code",
   "execution_count": 75,
   "id": "7cdade8b-9f32-4f61-992a-7ad4e696b305",
   "metadata": {},
   "outputs": [
    {
     "name": "stdout",
     "output_type": "stream",
     "text": [
      "              precision    recall  f1-score   support\n",
      "\n",
      "    effusion       0.40      0.25      0.31         8\n",
      "      normal       0.51      0.59      0.55        34\n",
      "otitis_media       0.44      0.25      0.32        16\n",
      "        tube       0.41      0.68      0.51        19\n",
      "     unclear       0.20      0.08      0.11        13\n",
      "\n",
      "    accuracy                           0.44        90\n",
      "   macro avg       0.39      0.37      0.36        90\n",
      "weighted avg       0.42      0.44      0.41        90\n",
      "\n"
     ]
    }
   ],
   "source": [
    "print(classification_report(test_data_values, preds1.argmax(axis=1), target_names = ['effusion', 'normal', 'otitis_media', 'tube', 'unclear']))\n",
    "#F1 Score is the 2*((precision*recall)/(precision+recall)) \n",
    "#TP/(TP+FP)\n",
    "#TP/(TP+FN)."
   ]
  },
  {
   "cell_type": "markdown",
   "id": "66081b19-c08a-46cd-9718-edef3cdfe898",
   "metadata": {},
   "source": [
    "## Model 2: Adding Layers "
   ]
  },
  {
   "cell_type": "code",
   "execution_count": 76,
   "id": "7dc1b2ae-4f01-4115-9126-609780c9e705",
   "metadata": {},
   "outputs": [],
   "source": [
    "model2 = Sequential()\n",
    "model2.add(Flatten())\n",
    "model2.add(Dense(100, activation = 'relu'))\n",
    "model2.add(Dense(50, activation = 'relu'))\n",
    "model2.add(Dense(100, activation = 'relu'))\n",
    "model2.add(Dense(5, activation = 'softmax'))\n",
    "\n",
    "model2.compile(loss = 'categorical_crossentropy', optimizer = 'adam', metrics = ['accuracy', 'Recall', 'Precision'])"
   ]
  },
  {
   "cell_type": "code",
   "execution_count": 77,
   "id": "efca1f0e-2109-40cd-a3d8-f2c3617ee75f",
   "metadata": {
    "collapsed": true,
    "jupyter": {
     "outputs_hidden": true
    },
    "tags": []
   },
   "outputs": [
    {
     "name": "stdout",
     "output_type": "stream",
     "text": [
      "Epoch 1/100\n",
      "10/10 [==============================] - 5s 486ms/step - loss: 26.4632 - accuracy: 0.2271 - recall: 0.2136 - precision: 0.2405 - val_loss: 18.8523 - val_accuracy: 0.3857 - val_recall: 0.3857 - val_precision: 0.3857\n",
      "Epoch 2/100\n",
      "10/10 [==============================] - 4s 440ms/step - loss: 17.0208 - accuracy: 0.3119 - recall: 0.3051 - precision: 0.3072 - val_loss: 11.3393 - val_accuracy: 0.3857 - val_recall: 0.3857 - val_precision: 0.3857\n",
      "Epoch 3/100\n",
      "10/10 [==============================] - 5s 477ms/step - loss: 7.3490 - accuracy: 0.3390 - recall: 0.3288 - precision: 0.3404 - val_loss: 4.6210 - val_accuracy: 0.3286 - val_recall: 0.3000 - val_precision: 0.3500\n",
      "Epoch 4/100\n",
      "10/10 [==============================] - 4s 454ms/step - loss: 4.2355 - accuracy: 0.3797 - recall: 0.3492 - precision: 0.3732 - val_loss: 4.3093 - val_accuracy: 0.4571 - val_recall: 0.4571 - val_precision: 0.4571\n",
      "Epoch 5/100\n",
      "10/10 [==============================] - 5s 454ms/step - loss: 2.8817 - accuracy: 0.4000 - recall: 0.3797 - precision: 0.4308 - val_loss: 3.2115 - val_accuracy: 0.4429 - val_recall: 0.4429 - val_precision: 0.4559\n",
      "Epoch 6/100\n",
      "10/10 [==============================] - 4s 432ms/step - loss: 2.0440 - accuracy: 0.4983 - recall: 0.4610 - precision: 0.5231 - val_loss: 1.4044 - val_accuracy: 0.5714 - val_recall: 0.4714 - val_precision: 0.6111\n",
      "Epoch 7/100\n",
      "10/10 [==============================] - 4s 417ms/step - loss: 2.8236 - accuracy: 0.5356 - recall: 0.4915 - precision: 0.5577 - val_loss: 3.6045 - val_accuracy: 0.1714 - val_recall: 0.1429 - val_precision: 0.1639\n",
      "Epoch 8/100\n",
      "10/10 [==============================] - 4s 437ms/step - loss: 2.8998 - accuracy: 0.5220 - recall: 0.5017 - precision: 0.5343 - val_loss: 4.4372 - val_accuracy: 0.2143 - val_recall: 0.2143 - val_precision: 0.2206\n",
      "Epoch 9/100\n",
      "10/10 [==============================] - 5s 461ms/step - loss: 2.4614 - accuracy: 0.4847 - recall: 0.4644 - precision: 0.5074 - val_loss: 1.6398 - val_accuracy: 0.5000 - val_recall: 0.4714 - val_precision: 0.5238\n",
      "Epoch 10/100\n",
      "10/10 [==============================] - 5s 468ms/step - loss: 1.5778 - accuracy: 0.6169 - recall: 0.5661 - precision: 0.6374 - val_loss: 1.9434 - val_accuracy: 0.5000 - val_recall: 0.4714 - val_precision: 0.5410\n",
      "Epoch 11/100\n",
      "10/10 [==============================] - 4s 445ms/step - loss: 1.2274 - accuracy: 0.6339 - recall: 0.5932 - precision: 0.6604 - val_loss: 1.6437 - val_accuracy: 0.5429 - val_recall: 0.4571 - val_precision: 0.5424\n",
      "Epoch 12/100\n",
      "10/10 [==============================] - 4s 451ms/step - loss: 1.1803 - accuracy: 0.6475 - recall: 0.6203 - precision: 0.6728 - val_loss: 2.1193 - val_accuracy: 0.4857 - val_recall: 0.4571 - val_precision: 0.5000\n",
      "Epoch 13/100\n",
      "10/10 [==============================] - 5s 456ms/step - loss: 1.1224 - accuracy: 0.6746 - recall: 0.6373 - precision: 0.7041 - val_loss: 1.6191 - val_accuracy: 0.5571 - val_recall: 0.4857 - val_precision: 0.5667\n",
      "Epoch 14/100\n",
      "10/10 [==============================] - 4s 439ms/step - loss: 1.1028 - accuracy: 0.6508 - recall: 0.6407 - precision: 0.6823 - val_loss: 1.8915 - val_accuracy: 0.5714 - val_recall: 0.5286 - val_precision: 0.5968\n",
      "Epoch 15/100\n",
      "10/10 [==============================] - 4s 436ms/step - loss: 0.9232 - accuracy: 0.6712 - recall: 0.6542 - precision: 0.7044 - val_loss: 1.8051 - val_accuracy: 0.5143 - val_recall: 0.3857 - val_precision: 0.5000\n",
      "Epoch 16/100\n",
      "10/10 [==============================] - 4s 439ms/step - loss: 0.8359 - accuracy: 0.7220 - recall: 0.6746 - precision: 0.7509 - val_loss: 1.6244 - val_accuracy: 0.5714 - val_recall: 0.5429 - val_precision: 0.6441\n",
      "Epoch 17/100\n",
      "10/10 [==============================] - 5s 470ms/step - loss: 0.6586 - accuracy: 0.7661 - recall: 0.7085 - precision: 0.8038 - val_loss: 1.5451 - val_accuracy: 0.5714 - val_recall: 0.5143 - val_precision: 0.6316\n",
      "Epoch 18/100\n",
      "10/10 [==============================] - 5s 497ms/step - loss: 1.2934 - accuracy: 0.6237 - recall: 0.5932 - precision: 0.6554 - val_loss: 1.5744 - val_accuracy: 0.5714 - val_recall: 0.5286 - val_precision: 0.6271\n",
      "Epoch 19/100\n",
      "10/10 [==============================] - 5s 462ms/step - loss: 1.1466 - accuracy: 0.6780 - recall: 0.6576 - precision: 0.7055 - val_loss: 1.9418 - val_accuracy: 0.5714 - val_recall: 0.5143 - val_precision: 0.6000\n",
      "Epoch 20/100\n",
      "10/10 [==============================] - 5s 466ms/step - loss: 0.8069 - accuracy: 0.7288 - recall: 0.6983 - precision: 0.7546 - val_loss: 1.6534 - val_accuracy: 0.4857 - val_recall: 0.4286 - val_precision: 0.5660\n",
      "Epoch 21/100\n",
      "10/10 [==============================] - 5s 463ms/step - loss: 0.7154 - accuracy: 0.7390 - recall: 0.7017 - precision: 0.7931 - val_loss: 1.4742 - val_accuracy: 0.5286 - val_recall: 0.4857 - val_precision: 0.6071\n",
      "Epoch 22/100\n",
      "10/10 [==============================] - 5s 469ms/step - loss: 0.7163 - accuracy: 0.7763 - recall: 0.7424 - precision: 0.8264 - val_loss: 1.8646 - val_accuracy: 0.5571 - val_recall: 0.5429 - val_precision: 0.6032\n",
      "Epoch 23/100\n",
      "10/10 [==============================] - 4s 445ms/step - loss: 0.4822 - accuracy: 0.8203 - recall: 0.7729 - precision: 0.8702 - val_loss: 1.6921 - val_accuracy: 0.6429 - val_recall: 0.6000 - val_precision: 0.6885\n",
      "Epoch 24/100\n",
      "10/10 [==============================] - 4s 454ms/step - loss: 0.4559 - accuracy: 0.8271 - recall: 0.7864 - precision: 0.8625 - val_loss: 1.5683 - val_accuracy: 0.5857 - val_recall: 0.5143 - val_precision: 0.6429\n",
      "Epoch 25/100\n",
      "10/10 [==============================] - 4s 438ms/step - loss: 0.3919 - accuracy: 0.8576 - recall: 0.8203 - precision: 0.8832 - val_loss: 1.6604 - val_accuracy: 0.5714 - val_recall: 0.5429 - val_precision: 0.6333\n",
      "Epoch 26/100\n",
      "10/10 [==============================] - 4s 459ms/step - loss: 0.3634 - accuracy: 0.8542 - recall: 0.8237 - precision: 0.8934 - val_loss: 1.6157 - val_accuracy: 0.5714 - val_recall: 0.5000 - val_precision: 0.6140\n",
      "Epoch 27/100\n",
      "10/10 [==============================] - 4s 454ms/step - loss: 0.3186 - accuracy: 0.8780 - recall: 0.8576 - precision: 0.9134 - val_loss: 1.9888 - val_accuracy: 0.5714 - val_recall: 0.5000 - val_precision: 0.5833\n",
      "Epoch 28/100\n",
      "10/10 [==============================] - 4s 458ms/step - loss: 0.8222 - accuracy: 0.7322 - recall: 0.7017 - precision: 0.7527 - val_loss: 1.5104 - val_accuracy: 0.5714 - val_recall: 0.5286 - val_precision: 0.6379\n",
      "Epoch 29/100\n",
      "10/10 [==============================] - 5s 477ms/step - loss: 0.7347 - accuracy: 0.7458 - recall: 0.7322 - precision: 0.7883 - val_loss: 1.9581 - val_accuracy: 0.5143 - val_recall: 0.4571 - val_precision: 0.5246\n",
      "Epoch 30/100\n",
      "10/10 [==============================] - 4s 476ms/step - loss: 0.7168 - accuracy: 0.7831 - recall: 0.7525 - precision: 0.7872 - val_loss: 1.7220 - val_accuracy: 0.5571 - val_recall: 0.4857 - val_precision: 0.5862\n",
      "Epoch 31/100\n",
      "10/10 [==============================] - 5s 484ms/step - loss: 0.5491 - accuracy: 0.8068 - recall: 0.7763 - precision: 0.8388 - val_loss: 2.0902 - val_accuracy: 0.4714 - val_recall: 0.4429 - val_precision: 0.4921\n",
      "Epoch 32/100\n",
      "10/10 [==============================] - 5s 462ms/step - loss: 0.4728 - accuracy: 0.8102 - recall: 0.7797 - precision: 0.8394 - val_loss: 2.3783 - val_accuracy: 0.4286 - val_recall: 0.3857 - val_precision: 0.4909\n",
      "Epoch 33/100\n",
      "10/10 [==============================] - 5s 454ms/step - loss: 0.6243 - accuracy: 0.7797 - recall: 0.7390 - precision: 0.8074 - val_loss: 2.3457 - val_accuracy: 0.5714 - val_recall: 0.5714 - val_precision: 0.6154\n",
      "Epoch 34/100\n",
      "10/10 [==============================] - 5s 458ms/step - loss: 0.5315 - accuracy: 0.8000 - recall: 0.7729 - precision: 0.8444 - val_loss: 1.9978 - val_accuracy: 0.5857 - val_recall: 0.5429 - val_precision: 0.6333\n",
      "Epoch 35/100\n",
      "10/10 [==============================] - 5s 473ms/step - loss: 0.6693 - accuracy: 0.7559 - recall: 0.7458 - precision: 0.7885 - val_loss: 2.0234 - val_accuracy: 0.4714 - val_recall: 0.4429 - val_precision: 0.5254\n",
      "Epoch 36/100\n",
      "10/10 [==============================] - 5s 460ms/step - loss: 0.3511 - accuracy: 0.8712 - recall: 0.8508 - precision: 0.8964 - val_loss: 1.7661 - val_accuracy: 0.5714 - val_recall: 0.5571 - val_precision: 0.6724\n",
      "Epoch 37/100\n",
      "10/10 [==============================] - 4s 442ms/step - loss: 0.2869 - accuracy: 0.9085 - recall: 0.8814 - precision: 0.9253 - val_loss: 1.9776 - val_accuracy: 0.5286 - val_recall: 0.5143 - val_precision: 0.5902\n",
      "Epoch 38/100\n",
      "10/10 [==============================] - 5s 459ms/step - loss: 0.5009 - accuracy: 0.8068 - recall: 0.7797 - precision: 0.8273 - val_loss: 1.9641 - val_accuracy: 0.5286 - val_recall: 0.4857 - val_precision: 0.5484\n",
      "Epoch 39/100\n",
      "10/10 [==============================] - 5s 460ms/step - loss: 0.6160 - accuracy: 0.8373 - recall: 0.8169 - precision: 0.8764 - val_loss: 2.1674 - val_accuracy: 0.4571 - val_recall: 0.4286 - val_precision: 0.4839\n",
      "Epoch 40/100\n",
      "10/10 [==============================] - 5s 464ms/step - loss: 0.3337 - accuracy: 0.8712 - recall: 0.8407 - precision: 0.8826 - val_loss: 1.8458 - val_accuracy: 0.5857 - val_recall: 0.5571 - val_precision: 0.6290\n",
      "Epoch 41/100\n",
      "10/10 [==============================] - 4s 443ms/step - loss: 0.2545 - accuracy: 0.9153 - recall: 0.8746 - precision: 0.9348 - val_loss: 2.0201 - val_accuracy: 0.5286 - val_recall: 0.4857 - val_precision: 0.5667\n",
      "Epoch 42/100\n",
      "10/10 [==============================] - 4s 436ms/step - loss: 0.3500 - accuracy: 0.8644 - recall: 0.8339 - precision: 0.8817 - val_loss: 1.9103 - val_accuracy: 0.5429 - val_recall: 0.5143 - val_precision: 0.6102\n",
      "Epoch 43/100\n",
      "10/10 [==============================] - 4s 434ms/step - loss: 0.2764 - accuracy: 0.8881 - recall: 0.8780 - precision: 0.9250 - val_loss: 1.7790 - val_accuracy: 0.5714 - val_recall: 0.5286 - val_precision: 0.6607\n",
      "Epoch 44/100\n",
      "10/10 [==============================] - 4s 449ms/step - loss: 0.1743 - accuracy: 0.9492 - recall: 0.9390 - precision: 0.9652 - val_loss: 1.8070 - val_accuracy: 0.5571 - val_recall: 0.5571 - val_precision: 0.6290\n",
      "Epoch 45/100\n",
      "10/10 [==============================] - 4s 428ms/step - loss: 0.2413 - accuracy: 0.9119 - recall: 0.8881 - precision: 0.9357 - val_loss: 2.6981 - val_accuracy: 0.5571 - val_recall: 0.5429 - val_precision: 0.5758\n",
      "Epoch 46/100\n",
      "10/10 [==============================] - 4s 455ms/step - loss: 0.4111 - accuracy: 0.8576 - recall: 0.8373 - precision: 0.8853 - val_loss: 2.7743 - val_accuracy: 0.5857 - val_recall: 0.5571 - val_precision: 0.6190\n",
      "Epoch 47/100\n",
      "10/10 [==============================] - 4s 462ms/step - loss: 0.8969 - accuracy: 0.7288 - recall: 0.7119 - precision: 0.7500 - val_loss: 2.3113 - val_accuracy: 0.5286 - val_recall: 0.4714 - val_precision: 0.5323\n",
      "Epoch 48/100\n",
      "10/10 [==============================] - 5s 462ms/step - loss: 0.4764 - accuracy: 0.8441 - recall: 0.8136 - precision: 0.8664 - val_loss: 1.9393 - val_accuracy: 0.5143 - val_recall: 0.4857 - val_precision: 0.5763\n",
      "Epoch 49/100\n",
      "10/10 [==============================] - 5s 460ms/step - loss: 0.4383 - accuracy: 0.8373 - recall: 0.8136 - precision: 0.8511 - val_loss: 1.7526 - val_accuracy: 0.6000 - val_recall: 0.5571 - val_precision: 0.6190\n",
      "Epoch 50/100\n",
      "10/10 [==============================] - 4s 440ms/step - loss: 0.2706 - accuracy: 0.9051 - recall: 0.8881 - precision: 0.9357 - val_loss: 2.1811 - val_accuracy: 0.5143 - val_recall: 0.4714 - val_precision: 0.5323\n",
      "Epoch 51/100\n",
      "10/10 [==============================] - 5s 468ms/step - loss: 0.3127 - accuracy: 0.8814 - recall: 0.8712 - precision: 0.9081 - val_loss: 1.8530 - val_accuracy: 0.6000 - val_recall: 0.5571 - val_precision: 0.6290\n",
      "Epoch 52/100\n",
      "10/10 [==============================] - 4s 450ms/step - loss: 0.1805 - accuracy: 0.9390 - recall: 0.9186 - precision: 0.9542 - val_loss: 1.8572 - val_accuracy: 0.5571 - val_recall: 0.5429 - val_precision: 0.5846\n",
      "Epoch 53/100\n",
      "10/10 [==============================] - 4s 444ms/step - loss: 0.1627 - accuracy: 0.9627 - recall: 0.9458 - precision: 0.9721 - val_loss: 1.8454 - val_accuracy: 0.5286 - val_recall: 0.5000 - val_precision: 0.5645\n",
      "Epoch 54/100\n",
      "10/10 [==============================] - 5s 475ms/step - loss: 0.1527 - accuracy: 0.9492 - recall: 0.9424 - precision: 0.9653 - val_loss: 1.8498 - val_accuracy: 0.5571 - val_recall: 0.5571 - val_precision: 0.5821\n",
      "Epoch 55/100\n",
      "10/10 [==============================] - 4s 447ms/step - loss: 0.1499 - accuracy: 0.9627 - recall: 0.9458 - precision: 0.9688 - val_loss: 1.9706 - val_accuracy: 0.6143 - val_recall: 0.6143 - val_precision: 0.6232\n",
      "Epoch 56/100\n",
      "10/10 [==============================] - 4s 463ms/step - loss: 0.1292 - accuracy: 0.9593 - recall: 0.9492 - precision: 0.9655 - val_loss: 2.2896 - val_accuracy: 0.6286 - val_recall: 0.6000 - val_precision: 0.6562\n",
      "Epoch 57/100\n",
      "10/10 [==============================] - 4s 454ms/step - loss: 0.1013 - accuracy: 0.9763 - recall: 0.9627 - precision: 0.9827 - val_loss: 2.1582 - val_accuracy: 0.6286 - val_recall: 0.6143 - val_precision: 0.6515\n",
      "Epoch 58/100\n",
      "10/10 [==============================] - 5s 471ms/step - loss: 0.1006 - accuracy: 0.9729 - recall: 0.9695 - precision: 0.9795 - val_loss: 2.2048 - val_accuracy: 0.6143 - val_recall: 0.6000 - val_precision: 0.6562\n",
      "Epoch 59/100\n",
      "10/10 [==============================] - 4s 436ms/step - loss: 0.0789 - accuracy: 0.9831 - recall: 0.9763 - precision: 0.9863 - val_loss: 1.9472 - val_accuracy: 0.5714 - val_recall: 0.5429 - val_precision: 0.5758\n",
      "Epoch 60/100\n",
      "10/10 [==============================] - 4s 454ms/step - loss: 0.0912 - accuracy: 0.9763 - recall: 0.9627 - precision: 0.9827 - val_loss: 2.0817 - val_accuracy: 0.5857 - val_recall: 0.5714 - val_precision: 0.5970\n",
      "Epoch 61/100\n",
      "10/10 [==============================] - 4s 444ms/step - loss: 0.0863 - accuracy: 0.9729 - recall: 0.9729 - precision: 0.9863 - val_loss: 2.1030 - val_accuracy: 0.5143 - val_recall: 0.5143 - val_precision: 0.5625\n",
      "Epoch 62/100\n",
      "10/10 [==============================] - 4s 437ms/step - loss: 0.1448 - accuracy: 0.9593 - recall: 0.9390 - precision: 0.9719 - val_loss: 1.9951 - val_accuracy: 0.6429 - val_recall: 0.6286 - val_precision: 0.6667\n",
      "Epoch 63/100\n",
      "10/10 [==============================] - 4s 445ms/step - loss: 0.1336 - accuracy: 0.9525 - recall: 0.9390 - precision: 0.9618 - val_loss: 2.8117 - val_accuracy: 0.5429 - val_recall: 0.5286 - val_precision: 0.5522\n",
      "Epoch 64/100\n",
      "10/10 [==============================] - 5s 463ms/step - loss: 0.1595 - accuracy: 0.9525 - recall: 0.9220 - precision: 0.9611 - val_loss: 2.1081 - val_accuracy: 0.6286 - val_recall: 0.6000 - val_precision: 0.6462\n",
      "Epoch 65/100\n",
      "10/10 [==============================] - 4s 443ms/step - loss: 0.0748 - accuracy: 0.9831 - recall: 0.9729 - precision: 0.9863 - val_loss: 2.2157 - val_accuracy: 0.5286 - val_recall: 0.5286 - val_precision: 0.5692\n",
      "Epoch 66/100\n",
      "10/10 [==============================] - 4s 452ms/step - loss: 0.0692 - accuracy: 0.9864 - recall: 0.9763 - precision: 0.9897 - val_loss: 2.0960 - val_accuracy: 0.5857 - val_recall: 0.5857 - val_precision: 0.6119\n",
      "Epoch 67/100\n",
      "10/10 [==============================] - 4s 481ms/step - loss: 0.0534 - accuracy: 0.9966 - recall: 0.9966 - precision: 1.0000 - val_loss: 2.2816 - val_accuracy: 0.5714 - val_recall: 0.5571 - val_precision: 0.5909\n",
      "Epoch 68/100\n",
      "10/10 [==============================] - 5s 452ms/step - loss: 0.0495 - accuracy: 1.0000 - recall: 0.9932 - precision: 1.0000 - val_loss: 2.1297 - val_accuracy: 0.6286 - val_recall: 0.5857 - val_precision: 0.6212\n",
      "Epoch 69/100\n",
      "10/10 [==============================] - 5s 464ms/step - loss: 0.0463 - accuracy: 0.9966 - recall: 0.9932 - precision: 1.0000 - val_loss: 2.1867 - val_accuracy: 0.6143 - val_recall: 0.5857 - val_precision: 0.6029\n",
      "Epoch 70/100\n",
      "10/10 [==============================] - 5s 460ms/step - loss: 0.0377 - accuracy: 1.0000 - recall: 0.9966 - precision: 1.0000 - val_loss: 2.0609 - val_accuracy: 0.6143 - val_recall: 0.6000 - val_precision: 0.6364\n",
      "Epoch 71/100\n",
      "10/10 [==============================] - 4s 435ms/step - loss: 0.0342 - accuracy: 0.9966 - recall: 0.9966 - precision: 1.0000 - val_loss: 2.1759 - val_accuracy: 0.6143 - val_recall: 0.6000 - val_precision: 0.6087\n",
      "Epoch 72/100\n",
      "10/10 [==============================] - 4s 431ms/step - loss: 0.0309 - accuracy: 1.0000 - recall: 0.9966 - precision: 1.0000 - val_loss: 2.0965 - val_accuracy: 0.6000 - val_recall: 0.5571 - val_precision: 0.6000\n",
      "Epoch 73/100\n",
      "10/10 [==============================] - 5s 455ms/step - loss: 0.0325 - accuracy: 0.9966 - recall: 0.9966 - precision: 1.0000 - val_loss: 2.1650 - val_accuracy: 0.6000 - val_recall: 0.5714 - val_precision: 0.5970\n",
      "Epoch 74/100\n",
      "10/10 [==============================] - 4s 423ms/step - loss: 0.0307 - accuracy: 1.0000 - recall: 0.9966 - precision: 1.0000 - val_loss: 2.2028 - val_accuracy: 0.6286 - val_recall: 0.6143 - val_precision: 0.6324\n",
      "Epoch 75/100\n",
      "10/10 [==============================] - 4s 428ms/step - loss: 0.0312 - accuracy: 1.0000 - recall: 0.9966 - precision: 1.0000 - val_loss: 2.1998 - val_accuracy: 0.5857 - val_recall: 0.5571 - val_precision: 0.5735\n",
      "Epoch 76/100\n",
      "10/10 [==============================] - 4s 431ms/step - loss: 0.0282 - accuracy: 1.0000 - recall: 0.9966 - precision: 1.0000 - val_loss: 2.1924 - val_accuracy: 0.6000 - val_recall: 0.5857 - val_precision: 0.6212\n",
      "Epoch 77/100\n",
      "10/10 [==============================] - 4s 427ms/step - loss: 0.0271 - accuracy: 1.0000 - recall: 1.0000 - precision: 1.0000 - val_loss: 2.3255 - val_accuracy: 0.6429 - val_recall: 0.6286 - val_precision: 0.6471\n",
      "Epoch 78/100\n",
      "10/10 [==============================] - 4s 436ms/step - loss: 0.0235 - accuracy: 1.0000 - recall: 1.0000 - precision: 1.0000 - val_loss: 2.2420 - val_accuracy: 0.6286 - val_recall: 0.6000 - val_precision: 0.6176\n",
      "Epoch 79/100\n",
      "10/10 [==============================] - 4s 426ms/step - loss: 0.0233 - accuracy: 1.0000 - recall: 0.9966 - precision: 1.0000 - val_loss: 2.3224 - val_accuracy: 0.6143 - val_recall: 0.5857 - val_precision: 0.6119\n",
      "Epoch 80/100\n",
      "10/10 [==============================] - 4s 435ms/step - loss: 0.0193 - accuracy: 1.0000 - recall: 1.0000 - precision: 1.0000 - val_loss: 2.2963 - val_accuracy: 0.5857 - val_recall: 0.5571 - val_precision: 0.5735\n",
      "Epoch 81/100\n",
      "10/10 [==============================] - 4s 440ms/step - loss: 0.0203 - accuracy: 1.0000 - recall: 1.0000 - precision: 1.0000 - val_loss: 2.3404 - val_accuracy: 0.6286 - val_recall: 0.5857 - val_precision: 0.6119\n",
      "Epoch 82/100\n",
      "10/10 [==============================] - 5s 456ms/step - loss: 0.0187 - accuracy: 1.0000 - recall: 1.0000 - precision: 1.0000 - val_loss: 2.4086 - val_accuracy: 0.6000 - val_recall: 0.5857 - val_precision: 0.6212\n",
      "Epoch 83/100\n",
      "10/10 [==============================] - 4s 474ms/step - loss: 0.0169 - accuracy: 1.0000 - recall: 1.0000 - precision: 1.0000 - val_loss: 2.3684 - val_accuracy: 0.6143 - val_recall: 0.5857 - val_precision: 0.6308\n",
      "Epoch 84/100\n",
      "10/10 [==============================] - 4s 451ms/step - loss: 0.0154 - accuracy: 1.0000 - recall: 1.0000 - precision: 1.0000 - val_loss: 2.3940 - val_accuracy: 0.6000 - val_recall: 0.5857 - val_precision: 0.6119\n",
      "Epoch 85/100\n",
      "10/10 [==============================] - 4s 445ms/step - loss: 0.0148 - accuracy: 1.0000 - recall: 1.0000 - precision: 1.0000 - val_loss: 2.3893 - val_accuracy: 0.6143 - val_recall: 0.5857 - val_precision: 0.6029\n",
      "Epoch 86/100\n",
      "10/10 [==============================] - 4s 444ms/step - loss: 0.0154 - accuracy: 1.0000 - recall: 1.0000 - precision: 1.0000 - val_loss: 2.4683 - val_accuracy: 0.6000 - val_recall: 0.5857 - val_precision: 0.6029\n",
      "Epoch 87/100\n",
      "10/10 [==============================] - 4s 443ms/step - loss: 0.0139 - accuracy: 1.0000 - recall: 1.0000 - precision: 1.0000 - val_loss: 2.4046 - val_accuracy: 0.6143 - val_recall: 0.5857 - val_precision: 0.6029\n",
      "Epoch 88/100\n",
      "10/10 [==============================] - 4s 444ms/step - loss: 0.0145 - accuracy: 1.0000 - recall: 1.0000 - precision: 1.0000 - val_loss: 2.4390 - val_accuracy: 0.5714 - val_recall: 0.5714 - val_precision: 0.5882\n",
      "Epoch 89/100\n",
      "10/10 [==============================] - 4s 441ms/step - loss: 0.0137 - accuracy: 1.0000 - recall: 1.0000 - precision: 1.0000 - val_loss: 2.4240 - val_accuracy: 0.6143 - val_recall: 0.5857 - val_precision: 0.6119\n",
      "Epoch 90/100\n",
      "10/10 [==============================] - 5s 457ms/step - loss: 0.0141 - accuracy: 1.0000 - recall: 1.0000 - precision: 1.0000 - val_loss: 2.4604 - val_accuracy: 0.6143 - val_recall: 0.5857 - val_precision: 0.6119\n",
      "Epoch 91/100\n",
      "10/10 [==============================] - 4s 456ms/step - loss: 0.0148 - accuracy: 1.0000 - recall: 1.0000 - precision: 1.0000 - val_loss: 2.5292 - val_accuracy: 0.6143 - val_recall: 0.6143 - val_precision: 0.6418\n",
      "Epoch 92/100\n",
      "10/10 [==============================] - 4s 445ms/step - loss: 0.0132 - accuracy: 1.0000 - recall: 1.0000 - precision: 1.0000 - val_loss: 2.4416 - val_accuracy: 0.6000 - val_recall: 0.5857 - val_precision: 0.6029\n",
      "Epoch 93/100\n",
      "10/10 [==============================] - 5s 491ms/step - loss: 0.0128 - accuracy: 1.0000 - recall: 1.0000 - precision: 1.0000 - val_loss: 2.5706 - val_accuracy: 0.6143 - val_recall: 0.6000 - val_precision: 0.6087\n",
      "Epoch 94/100\n",
      "10/10 [==============================] - 4s 452ms/step - loss: 0.0125 - accuracy: 1.0000 - recall: 1.0000 - precision: 1.0000 - val_loss: 2.4760 - val_accuracy: 0.6000 - val_recall: 0.5857 - val_precision: 0.6119\n",
      "Epoch 95/100\n",
      "10/10 [==============================] - 4s 482ms/step - loss: 0.0113 - accuracy: 1.0000 - recall: 1.0000 - precision: 1.0000 - val_loss: 2.5112 - val_accuracy: 0.6000 - val_recall: 0.5857 - val_precision: 0.6029\n",
      "Epoch 96/100\n",
      "10/10 [==============================] - 4s 451ms/step - loss: 0.0117 - accuracy: 1.0000 - recall: 1.0000 - precision: 1.0000 - val_loss: 2.5414 - val_accuracy: 0.6000 - val_recall: 0.5857 - val_precision: 0.6029\n",
      "Epoch 97/100\n",
      "10/10 [==============================] - 4s 439ms/step - loss: 0.0107 - accuracy: 1.0000 - recall: 1.0000 - precision: 1.0000 - val_loss: 2.5077 - val_accuracy: 0.5714 - val_recall: 0.5571 - val_precision: 0.5735\n",
      "Epoch 98/100\n",
      "10/10 [==============================] - 4s 437ms/step - loss: 0.0098 - accuracy: 1.0000 - recall: 1.0000 - precision: 1.0000 - val_loss: 2.5306 - val_accuracy: 0.6143 - val_recall: 0.6000 - val_precision: 0.6269\n",
      "Epoch 99/100\n",
      "10/10 [==============================] - 4s 429ms/step - loss: 0.0100 - accuracy: 1.0000 - recall: 1.0000 - precision: 1.0000 - val_loss: 2.5328 - val_accuracy: 0.6000 - val_recall: 0.5857 - val_precision: 0.6029\n",
      "Epoch 100/100\n",
      "10/10 [==============================] - 5s 467ms/step - loss: 0.0096 - accuracy: 1.0000 - recall: 1.0000 - precision: 1.0000 - val_loss: 2.5400 - val_accuracy: 0.5857 - val_recall: 0.5714 - val_precision: 0.5882\n"
     ]
    }
   ],
   "source": [
    "history2 = model2.fit(train_data, epochs = 100, validation_data = validation_data,\n",
    "    batch_size = 32)"
   ]
  },
  {
   "cell_type": "markdown",
   "id": "c8bab984-7b2b-4f76-a9f5-6a602073040a",
   "metadata": {},
   "source": [
    "#### Adding Results to DF"
   ]
  },
  {
   "cell_type": "code",
   "execution_count": 80,
   "id": "8a770765-0648-44e8-a7ad-5e5233906301",
   "metadata": {},
   "outputs": [],
   "source": [
    "results_df2['train_accuracy'].iloc[2] = 0"
   ]
  },
  {
   "cell_type": "code",
   "execution_count": 81,
   "id": "3c154054-be3c-4f6f-801c-51e77b12578b",
   "metadata": {},
   "outputs": [],
   "source": [
    "results_df2['train_recall'].iloc[2] = 0"
   ]
  },
  {
   "cell_type": "code",
   "execution_count": 82,
   "id": "8a86b2f4-0288-4c47-9246-522ffb9e94db",
   "metadata": {},
   "outputs": [],
   "source": [
    "results_df2['train_precision'].iloc[2] = 0"
   ]
  },
  {
   "cell_type": "code",
   "execution_count": 83,
   "id": "3d82435f-8344-4b68-88de-6b4a0667a86d",
   "metadata": {},
   "outputs": [],
   "source": [
    "results_df2['val_accuracy'].iloc[2] = 0"
   ]
  },
  {
   "cell_type": "code",
   "execution_count": 84,
   "id": "2bfe493a-c9cd-465d-a33d-965bd35c59fc",
   "metadata": {},
   "outputs": [],
   "source": [
    "results_df2['val_recall'].iloc[2] = 0"
   ]
  },
  {
   "cell_type": "code",
   "execution_count": 85,
   "id": "ebd6107a-4f8d-45b1-91d6-954c222810e4",
   "metadata": {},
   "outputs": [],
   "source": [
    "results_df2['val_precision'].iloc[2] = 0"
   ]
  },
  {
   "cell_type": "code",
   "execution_count": 86,
   "id": "1c727f21-36ba-41f7-9eff-6bad88e68d6d",
   "metadata": {},
   "outputs": [
    {
     "data": {
      "image/png": "[encoded data removed]",
      "text/plain": [
       "<Figure size 432x288 with 1 Axes>"
      ]
     },
     "metadata": {
      "needs_background": "light"
     },
     "output_type": "display_data"
    }
   ],
   "source": [
    "plt.plot(history2.history['accuracy'], label='Train Accuracy')\n",
    "plt.plot(history2.history['val_accuracy'], label = 'Val Accuracy')\n",
    "plt.plot(history2.history['precision'], label = 'precision')\n",
    "plt.plot(history2.history['val_precision'], label = 'val_precision')\n",
    "plt.plot(history2.history['recall'], label = 'recall')\n",
    "plt.plot(history2.history['val_recall'], label = 'val_recall')\n",
    "plt.legend() \n",
    "plt.yticks([0,0.2,0.4,0.6, 0.8,1]) \n",
    "plt.xlabel('Epoch')\n",
    "plt.ylabel('Metric')\n",
    "plt.title('Train vs Validation DF Results');"
   ]
  },
  {
   "cell_type": "markdown",
   "id": "b8d6a8da-1597-4462-b0a7-8ed9df5255a4",
   "metadata": {},
   "source": []
  },
  {
   "cell_type": "code",
   "execution_count": 87,
   "id": "30a24a72-4808-4299-9754-781475de3216",
   "metadata": {},
   "outputs": [
    {
     "data": {
      "image/png": "[encoded data removed]",
      "text/plain": [
       "<Figure size 432x288 with 1 Axes>"
      ]
     },
     "metadata": {
      "needs_background": "light"
     },
     "output_type": "display_data"
    }
   ],
   "source": [
    "plt.plot(history2.history['loss'], label = 'Train Loss')\n",
    "plt.plot(history2.history['val_loss'], label = 'Val Loss')\n",
    "plt.legend()\n",
    "plt.xlabel('Epoch')\n",
    "plt.ylabel('Loss')\n",
    "plt.title('Train vs Validation Loss Results');"
   ]
  },
  {
   "cell_type": "markdown",
   "id": "2f88e237-a5a7-4f67-bde7-7d61cdddc8e6",
   "metadata": {},
   "source": [
    "### Test Data "
   ]
  },
  {
   "cell_type": "code",
   "execution_count": 88,
   "id": "50b0e564-66be-4f9a-a4b3-17d03d2e3e90",
   "metadata": {},
   "outputs": [],
   "source": [
    "# reference: https://towardsdatascience.com/confusion-matrix-for-your-multi-class-machine-learning-model-ff9aa3bf7826"
   ]
  },
  {
   "cell_type": "code",
   "execution_count": 89,
   "id": "056579ab-b7a3-45d2-bee6-7664f7ac0482",
   "metadata": {},
   "outputs": [
    {
     "name": "stdout",
     "output_type": "stream",
     "text": [
      "3/3 [==============================] - 1s 356ms/step - loss: 4.0898 - accuracy: 0.4778 - recall: 0.4778 - precision: 0.4886\n"
     ]
    }
   ],
   "source": [
    "model2.evaluate(test_data)\n",
    "\n",
    "preds2 = model2.predict(test_data) > 0.5\n",
    "\n",
    "preds2 = preds2.astype(int)\n",
    "\n",
    "test_data_values = test_data.labels \n",
    "\n",
    "cm = confusion_matrix(test_data_values, preds2.argmax(axis=1))"
   ]
  },
  {
   "cell_type": "markdown",
   "id": "c1b14a69-d4bd-431e-a02a-af0126d9d1fc",
   "metadata": {},
   "source": [
    "#### Adding Results to DF"
   ]
  },
  {
   "cell_type": "code",
   "execution_count": 90,
   "id": "9c2d86c3-c969-4f56-8b1e-9a30786c4dbe",
   "metadata": {},
   "outputs": [],
   "source": [
    "results_df2['test_accuracy'].iloc[2] =  0"
   ]
  },
  {
   "cell_type": "code",
   "execution_count": 91,
   "id": "b3a3590d-1348-4a90-bb4c-119aa56f68e8",
   "metadata": {},
   "outputs": [],
   "source": [
    "results_df2['test_precision'].iloc[2] =  0"
   ]
  },
  {
   "cell_type": "code",
   "execution_count": 92,
   "id": "3e6707ec-8414-41b0-bea4-b0e428b624f5",
   "metadata": {},
   "outputs": [],
   "source": [
    "results_df2['test_recall'].iloc[2] =  0"
   ]
  },
  {
   "cell_type": "markdown",
   "id": "ffa8636e-e5a8-423e-96d3-42b3ff0f1b60",
   "metadata": {},
   "source": [
    "#### Confusion Matrix"
   ]
  },
  {
   "cell_type": "code",
   "execution_count": 93,
   "id": "4e54af14-cf7e-4fef-ba1b-78c694680936",
   "metadata": {},
   "outputs": [
    {
     "name": "stdout",
     "output_type": "stream",
     "text": [
      "              effusion  normal  otitis_media  tube  unclear\n",
      "effusion             2       2             1     0        3\n",
      "normal               2      19             1     9        3\n",
      "otitis_media         0       1             7     4        4\n",
      "tube                 0       5             0    13        1\n",
      "unclear              2       6             0     3        2\n"
     ]
    }
   ],
   "source": [
    "print(pd.DataFrame(cm, index = ['effusion', 'normal', 'otitis_media', 'tube', 'unclear'], columns = ['effusion', 'normal', 'otitis_media', 'tube', 'unclear']))\n",
    "#Confusion Matrix\n",
    "#Row is True Class \n",
    "#Column is Predicted Class \n",
    "#Diag Match"
   ]
  },
  {
   "cell_type": "markdown",
   "id": "da605a57-d273-46bc-84a3-85268031a4e9",
   "metadata": {},
   "source": [
    "#### Classification Report "
   ]
  },
  {
   "cell_type": "code",
   "execution_count": 94,
   "id": "3736d366-1bd6-4921-9e4a-f28e3d580941",
   "metadata": {},
   "outputs": [
    {
     "name": "stdout",
     "output_type": "stream",
     "text": [
      "              precision    recall  f1-score   support\n",
      "\n",
      "    effusion       0.33      0.25      0.29         8\n",
      "      normal       0.58      0.56      0.57        34\n",
      "otitis_media       0.78      0.44      0.56        16\n",
      "        tube       0.45      0.68      0.54        19\n",
      "     unclear       0.15      0.15      0.15        13\n",
      "\n",
      "    accuracy                           0.48        90\n",
      "   macro avg       0.46      0.42      0.42        90\n",
      "weighted avg       0.50      0.48      0.48        90\n",
      "\n"
     ]
    }
   ],
   "source": [
    "print(classification_report(test_data_values, preds2.argmax(axis=1), target_names = ['effusion', 'normal', 'otitis_media', 'tube', 'unclear']))\n",
    "#F1 Score is the 2*((precision*recall)/(precision+recall)) \n",
    "#TP/(TP+FP)\n",
    "#TP/(TP+FN)."
   ]
  },
  {
   "cell_type": "markdown",
   "id": "1b2f9933-8b5a-40b4-b1cf-9b84c6b3b54f",
   "metadata": {},
   "source": [
    "## Model 3: Changing Layers and Using Early Stopping "
   ]
  },
  {
   "cell_type": "code",
   "execution_count": 95,
   "id": "a7168963-7505-4be7-a073-0990d87947b8",
   "metadata": {},
   "outputs": [],
   "source": [
    "early_stop = EarlyStopping(patience = 5)"
   ]
  },
  {
   "cell_type": "code",
   "execution_count": 96,
   "id": "4f7461c1-fc6b-4341-b3c5-225ff8cc0104",
   "metadata": {},
   "outputs": [],
   "source": [
    "model3 = Sequential()\n",
    "model3.add(Flatten())\n",
    "model3.add(Dense(100, activation = 'relu'))\n",
    "model3.add(Dense(50, activation = 'relu'))\n",
    "model3.add(Dense(5, activation = 'softmax'))\n",
    "\n",
    "model3.compile(loss = 'categorical_crossentropy', optimizer = 'adam', metrics = ['accuracy', 'Recall', 'Precision'])"
   ]
  },
  {
   "cell_type": "code",
   "execution_count": 97,
   "id": "4b640079-4c36-4627-80bc-5d0008e1710d",
   "metadata": {
    "collapsed": true,
    "jupyter": {
     "outputs_hidden": true
    },
    "tags": []
   },
   "outputs": [
    {
     "name": "stdout",
     "output_type": "stream",
     "text": [
      "Epoch 1/80\n",
      "10/10 [==============================] - 6s 522ms/step - loss: 41.4674 - accuracy: 0.2678 - recall: 0.2441 - precision: 0.2738 - val_loss: 23.5109 - val_accuracy: 0.1714 - val_recall: 0.1714 - val_precision: 0.1714\n",
      "Epoch 2/80\n",
      "10/10 [==============================] - 4s 454ms/step - loss: 14.5383 - accuracy: 0.2915 - recall: 0.2881 - precision: 0.2911 - val_loss: 10.3405 - val_accuracy: 0.4000 - val_recall: 0.3857 - val_precision: 0.3913\n",
      "Epoch 3/80\n",
      "10/10 [==============================] - 4s 414ms/step - loss: 6.7801 - accuracy: 0.3932 - recall: 0.3932 - precision: 0.4014 - val_loss: 7.0408 - val_accuracy: 0.3429 - val_recall: 0.3429 - val_precision: 0.3636\n",
      "Epoch 4/80\n",
      "10/10 [==============================] - 5s 466ms/step - loss: 5.8754 - accuracy: 0.3763 - recall: 0.3729 - precision: 0.3754 - val_loss: 5.6595 - val_accuracy: 0.2571 - val_recall: 0.2429 - val_precision: 0.2500\n",
      "Epoch 5/80\n",
      "10/10 [==============================] - 5s 473ms/step - loss: 4.7682 - accuracy: 0.4542 - recall: 0.4475 - precision: 0.4583 - val_loss: 2.9957 - val_accuracy: 0.5286 - val_recall: 0.5286 - val_precision: 0.5606\n",
      "Epoch 6/80\n",
      "10/10 [==============================] - 5s 478ms/step - loss: 4.1183 - accuracy: 0.4881 - recall: 0.4847 - precision: 0.4881 - val_loss: 5.1928 - val_accuracy: 0.4857 - val_recall: 0.4857 - val_precision: 0.4857\n",
      "Epoch 7/80\n",
      "10/10 [==============================] - 5s 459ms/step - loss: 4.3579 - accuracy: 0.5729 - recall: 0.5729 - precision: 0.5788 - val_loss: 4.0649 - val_accuracy: 0.4857 - val_recall: 0.4429 - val_precision: 0.4627\n",
      "Epoch 8/80\n",
      "10/10 [==============================] - 4s 437ms/step - loss: 3.7996 - accuracy: 0.5729 - recall: 0.5695 - precision: 0.5833 - val_loss: 3.9402 - val_accuracy: 0.5571 - val_recall: 0.5429 - val_precision: 0.5588\n",
      "Epoch 9/80\n",
      "10/10 [==============================] - 4s 441ms/step - loss: 3.4594 - accuracy: 0.6068 - recall: 0.6000 - precision: 0.6103 - val_loss: 3.7991 - val_accuracy: 0.5286 - val_recall: 0.5286 - val_precision: 0.5362\n",
      "Epoch 10/80\n",
      "10/10 [==============================] - 5s 462ms/step - loss: 1.5601 - accuracy: 0.6678 - recall: 0.6644 - precision: 0.6735 - val_loss: 3.5795 - val_accuracy: 0.5000 - val_recall: 0.5000 - val_precision: 0.5000\n"
     ]
    }
   ],
   "source": [
    "history3 = model3.fit(train_data, epochs = 80, validation_data = validation_data,\n",
    "    batch_size = 32, callbacks=[early_stop])"
   ]
  },
  {
   "cell_type": "markdown",
   "id": "72ed89cc-98dd-4a72-9351-d79d18283488",
   "metadata": {},
   "source": [
    "#### Adding Results to DF"
   ]
  },
  {
   "cell_type": "code",
   "execution_count": 98,
   "id": "69bbd18a-5bbd-4f4c-857e-7aac544f184e",
   "metadata": {},
   "outputs": [],
   "source": [
    "results_df2['train_accuracy'].iloc[3] = 0"
   ]
  },
  {
   "cell_type": "code",
   "execution_count": 99,
   "id": "56ce31c1-afde-490f-b015-ccffc9efe301",
   "metadata": {},
   "outputs": [],
   "source": [
    "results_df2['train_recall'].iloc[3] = 0"
   ]
  },
  {
   "cell_type": "code",
   "execution_count": 100,
   "id": "23dd3703-8a73-4efa-bf49-d769f485148a",
   "metadata": {},
   "outputs": [],
   "source": [
    "results_df2['train_precision'].iloc[3] = 0"
   ]
  },
  {
   "cell_type": "code",
   "execution_count": 101,
   "id": "11764241-7722-49b7-ac8f-60634763241d",
   "metadata": {},
   "outputs": [],
   "source": [
    "results_df2['val_accuracy'].iloc[3] = 0"
   ]
  },
  {
   "cell_type": "code",
   "execution_count": 102,
   "id": "7f2b805b-7346-44cd-abb0-af0fab5e40dc",
   "metadata": {},
   "outputs": [],
   "source": [
    "results_df2['val_recall'].iloc[3] = 0"
   ]
  },
  {
   "cell_type": "code",
   "execution_count": 103,
   "id": "3b9ba000-bc33-4783-b780-adadbd758abb",
   "metadata": {},
   "outputs": [],
   "source": [
    "results_df2['val_precision'].iloc[3] = 0"
   ]
  },
  {
   "cell_type": "code",
   "execution_count": 104,
   "id": "45ee2682-e4db-497c-b8fd-c4d22ee935b7",
   "metadata": {},
   "outputs": [
    {
     "data": {
      "image/png": "[encoded data removed]",
      "text/plain": [
       "<Figure size 432x288 with 1 Axes>"
      ]
     },
     "metadata": {
      "needs_background": "light"
     },
     "output_type": "display_data"
    }
   ],
   "source": [
    "plt.plot(history3.history['accuracy'], label='Train Accuracy')\n",
    "plt.plot(history3.history['val_accuracy'], label = 'Val Accuracy')\n",
    "plt.plot(history3.history['precision'], label = 'precision')\n",
    "plt.plot(history3.history['val_precision'], label = 'val_precision')\n",
    "plt.plot(history3.history['recall'], label = 'recall')\n",
    "plt.plot(history3.history['val_recall'], label = 'val_recall')\n",
    "plt.legend() \n",
    "plt.yticks([0,0.2,0.4,0.6, 0.8,1]) \n",
    "plt.xlabel('Epoch')\n",
    "plt.ylabel('Metric')\n",
    "plt.title('Train vs Validation Metric Results');\n"
   ]
  },
  {
   "cell_type": "markdown",
   "id": "be662769-ad25-499f-aa59-e899fa619d72",
   "metadata": {},
   "source": []
  },
  {
   "cell_type": "code",
   "execution_count": 105,
   "id": "bff8b2b4-6025-4911-9203-0de00d928274",
   "metadata": {},
   "outputs": [
    {
     "data": {
      "image/png": "[encoded data removed]",
      "text/plain": [
       "<Figure size 432x288 with 1 Axes>"
      ]
     },
     "metadata": {
      "needs_background": "light"
     },
     "output_type": "display_data"
    }
   ],
   "source": [
    "plt.plot(history3.history['loss'], label = 'Train Loss')\n",
    "plt.plot(history3.history['val_loss'], label = 'Val Loss')\n",
    "plt.legend()\n",
    "plt.xlabel('Epoch')\n",
    "plt.ylabel('Loss')\n",
    "plt.title('Train vs Validation Loss Results');"
   ]
  },
  {
   "cell_type": "markdown",
   "id": "9b0f728e-5f42-4e1e-a26e-1c426ca846fc",
   "metadata": {},
   "source": [
    "### Test Data"
   ]
  },
  {
   "cell_type": "code",
   "execution_count": 106,
   "id": "7af1dabe-8792-4024-92d3-d592c8b3919b",
   "metadata": {},
   "outputs": [],
   "source": [
    "# reference: https://towardsdatascience.com/confusion-matrix-for-your-multi-class-machine-learning-model-ff9aa3bf7826"
   ]
  },
  {
   "cell_type": "code",
   "execution_count": 107,
   "id": "dc5c119d-e29b-4235-a6a9-987f5ceba7b0",
   "metadata": {},
   "outputs": [
    {
     "name": "stdout",
     "output_type": "stream",
     "text": [
      "3/3 [==============================] - 1s 347ms/step - loss: 6.4974 - accuracy: 0.3222 - recall: 0.3222 - precision: 0.3222\n"
     ]
    }
   ],
   "source": [
    "model3.evaluate(test_data)\n",
    "\n",
    "preds3 = model3.predict(test_data) > 0.5\n",
    "\n",
    "preds3 = preds3.astype(int)\n",
    "\n",
    "test_data_values = test_data.labels \n",
    "\n",
    "cm = confusion_matrix(test_data_values, preds3.argmax(axis=1))"
   ]
  },
  {
   "cell_type": "markdown",
   "id": "ebdc0c61-c724-4d0b-94b8-3f7cf1429924",
   "metadata": {},
   "source": [
    "#### Adding Results to DF"
   ]
  },
  {
   "cell_type": "code",
   "execution_count": 108,
   "id": "6cbfafe4-4fd6-41a7-9d4f-b08eaa8b92c5",
   "metadata": {},
   "outputs": [],
   "source": [
    "results_df2['test_precision'].iloc[3] =  0"
   ]
  },
  {
   "cell_type": "code",
   "execution_count": 109,
   "id": "5aa3ee49-c950-4fc4-a804-27f135a3f7ef",
   "metadata": {},
   "outputs": [],
   "source": [
    "results_df2['test_recall'].iloc[3] = 0."
   ]
  },
  {
   "cell_type": "code",
   "execution_count": 110,
   "id": "ee3c7bce-d845-4735-9a9b-bf763171d583",
   "metadata": {},
   "outputs": [],
   "source": [
    "results_df2['test_accuracy'].iloc[3] = 0"
   ]
  },
  {
   "cell_type": "markdown",
   "id": "779fdb62-93b9-4078-8fa1-864714b133b5",
   "metadata": {},
   "source": [
    "#### Confusion Matrix"
   ]
  },
  {
   "cell_type": "code",
   "execution_count": 111,
   "id": "8c0e321e-9c20-4d91-a8f4-4a602591381b",
   "metadata": {},
   "outputs": [
    {
     "name": "stdout",
     "output_type": "stream",
     "text": [
      "              effusion  normal  otitis_media  tube  unclear\n",
      "effusion             1       2             2     3        0\n",
      "normal               0       9             2    21        2\n",
      "otitis_media         0       0             0    13        3\n",
      "tube                 0       1             0    17        1\n",
      "unclear              0       3             0     8        2\n"
     ]
    }
   ],
   "source": [
    "print(pd.DataFrame(cm, index = ['effusion', 'normal', 'otitis_media', 'tube', 'unclear'], columns = ['effusion', 'normal', 'otitis_media', 'tube', 'unclear']))\n",
    "#Confusion Matrix\n",
    "#Row is True Class \n",
    "#Column is Predicted Class \n",
    "#Diag Match"
   ]
  },
  {
   "cell_type": "markdown",
   "id": "db70a5fc-ac24-4383-bc31-202806637018",
   "metadata": {},
   "source": [
    "#### Classification Report "
   ]
  },
  {
   "cell_type": "code",
   "execution_count": 112,
   "id": "37f0b211-9fe1-4751-a848-c708adfec000",
   "metadata": {},
   "outputs": [
    {
     "name": "stdout",
     "output_type": "stream",
     "text": [
      "              precision    recall  f1-score   support\n",
      "\n",
      "    effusion       1.00      0.12      0.22         8\n",
      "      normal       0.60      0.26      0.37        34\n",
      "otitis_media       0.00      0.00      0.00        16\n",
      "        tube       0.27      0.89      0.42        19\n",
      "     unclear       0.25      0.15      0.19        13\n",
      "\n",
      "    accuracy                           0.32        90\n",
      "   macro avg       0.42      0.29      0.24        90\n",
      "weighted avg       0.41      0.32      0.27        90\n",
      "\n"
     ]
    }
   ],
   "source": [
    "print(classification_report(test_data_values, preds3.argmax(axis=1), target_names = ['effusion', 'normal', 'otitis_media', 'tube', 'unclear']))\n",
    "#F1 Score is the 2*((precision*recall)/(precision+recall)) \n",
    "#precision:TP/(TP+FP)\n",
    "#recall:TP/(TP+FN)."
   ]
  },
  {
   "cell_type": "markdown",
   "id": "2aa58768-19ad-4b2b-b307-39a47a41b445",
   "metadata": {},
   "source": [
    "## Model 4: Changing Layers and Dropout"
   ]
  },
  {
   "cell_type": "code",
   "execution_count": 113,
   "id": "33e558ef-bc67-47d5-abbe-347898219dc9",
   "metadata": {},
   "outputs": [],
   "source": [
    "model4 = Sequential()\n",
    "model4.add(Flatten())\n",
    "model4.add(Dense(100, activation = 'relu'))\n",
    "model4.add(Dense(50, activation = 'relu'))\n",
    "model4.add(Dropout(0.1))\n",
    "model4.add(Dense(5, activation = 'softmax'))\n",
    "\n",
    "model4.compile(loss = 'categorical_crossentropy', optimizer = 'adam', metrics = ['accuracy', 'Recall', 'Precision'])"
   ]
  },
  {
   "cell_type": "code",
   "execution_count": 114,
   "id": "cfde4ab2-10e1-48ed-a835-47bf6d7e0f4d",
   "metadata": {
    "tags": []
   },
   "outputs": [
    {
     "name": "stdout",
     "output_type": "stream",
     "text": [
      "Epoch 1/80\n",
      "10/10 [==============================] - 6s 527ms/step - loss: 58.5325 - accuracy: 0.2441 - recall: 0.2339 - precision: 0.2624 - val_loss: 28.3276 - val_accuracy: 0.1714 - val_recall: 0.1714 - val_precision: 0.1714\n",
      "Epoch 2/80\n",
      "10/10 [==============================] - 5s 458ms/step - loss: 23.4342 - accuracy: 0.2644 - recall: 0.2644 - precision: 0.2644 - val_loss: 14.9940 - val_accuracy: 0.1714 - val_recall: 0.1714 - val_precision: 0.1714\n",
      "Epoch 3/80\n",
      "10/10 [==============================] - 5s 503ms/step - loss: 13.2146 - accuracy: 0.3356 - recall: 0.3288 - precision: 0.3345 - val_loss: 4.7769 - val_accuracy: 0.3714 - val_recall: 0.3714 - val_precision: 0.3714\n",
      "Epoch 4/80\n",
      "10/10 [==============================] - 5s 478ms/step - loss: 6.9116 - accuracy: 0.3729 - recall: 0.3627 - precision: 0.3702 - val_loss: 2.4040 - val_accuracy: 0.4714 - val_recall: 0.4429 - val_precision: 0.5345\n",
      "Epoch 5/80\n",
      "10/10 [==============================] - 5s 454ms/step - loss: 6.2440 - accuracy: 0.4678 - recall: 0.4576 - precision: 0.4655 - val_loss: 3.7740 - val_accuracy: 0.4429 - val_recall: 0.4429 - val_precision: 0.4559\n",
      "Epoch 6/80\n",
      "10/10 [==============================] - 5s 472ms/step - loss: 4.2013 - accuracy: 0.4983 - recall: 0.4780 - precision: 0.4930 - val_loss: 2.6163 - val_accuracy: 0.5571 - val_recall: 0.5286 - val_precision: 0.5692\n",
      "Epoch 7/80\n",
      "10/10 [==============================] - 4s 451ms/step - loss: 4.1200 - accuracy: 0.5017 - recall: 0.4949 - precision: 0.5052 - val_loss: 3.5533 - val_accuracy: 0.5429 - val_recall: 0.5429 - val_precision: 0.5507\n",
      "Epoch 8/80\n",
      "10/10 [==============================] - 5s 471ms/step - loss: 2.4633 - accuracy: 0.5559 - recall: 0.5288 - precision: 0.5571 - val_loss: 3.8760 - val_accuracy: 0.4143 - val_recall: 0.3714 - val_precision: 0.4062\n",
      "Epoch 9/80\n",
      "10/10 [==============================] - 5s 476ms/step - loss: 2.7579 - accuracy: 0.4949 - recall: 0.4915 - precision: 0.5197 - val_loss: 2.3286 - val_accuracy: 0.5000 - val_recall: 0.4429 - val_precision: 0.5082\n",
      "Epoch 10/80\n",
      "10/10 [==============================] - 5s 456ms/step - loss: 1.8738 - accuracy: 0.5288 - recall: 0.5153 - precision: 0.5588 - val_loss: 4.0252 - val_accuracy: 0.4143 - val_recall: 0.4000 - val_precision: 0.4375\n",
      "Epoch 11/80\n",
      "10/10 [==============================] - 5s 468ms/step - loss: 2.9401 - accuracy: 0.4983 - recall: 0.4847 - precision: 0.5089 - val_loss: 3.3177 - val_accuracy: 0.4286 - val_recall: 0.4000 - val_precision: 0.4118\n",
      "Epoch 12/80\n",
      "10/10 [==============================] - 5s 457ms/step - loss: 2.1738 - accuracy: 0.5424 - recall: 0.5153 - precision: 0.5588 - val_loss: 2.1404 - val_accuracy: 0.5286 - val_recall: 0.5143 - val_precision: 0.5625\n",
      "Epoch 13/80\n",
      "10/10 [==============================] - 5s 469ms/step - loss: 1.6672 - accuracy: 0.5661 - recall: 0.5186 - precision: 0.5862 - val_loss: 1.6256 - val_accuracy: 0.5286 - val_recall: 0.5143 - val_precision: 0.6316\n",
      "Epoch 14/80\n",
      "10/10 [==============================] - 5s 466ms/step - loss: 1.1830 - accuracy: 0.5119 - recall: 0.3831 - precision: 0.6108 - val_loss: 1.2791 - val_accuracy: 0.5429 - val_recall: 0.3143 - val_precision: 0.6875\n",
      "Epoch 15/80\n",
      "10/10 [==============================] - 5s 481ms/step - loss: 1.4287 - accuracy: 0.5424 - recall: 0.4441 - precision: 0.5771 - val_loss: 1.4678 - val_accuracy: 0.5429 - val_recall: 0.4571 - val_precision: 0.7111\n",
      "Epoch 16/80\n",
      "10/10 [==============================] - 4s 451ms/step - loss: 1.1671 - accuracy: 0.5492 - recall: 0.3356 - precision: 0.6923 - val_loss: 1.4209 - val_accuracy: 0.5714 - val_recall: 0.4429 - val_precision: 0.7209\n",
      "Epoch 17/80\n",
      "10/10 [==============================] - 5s 458ms/step - loss: 1.1896 - accuracy: 0.5966 - recall: 0.3593 - precision: 0.7114 - val_loss: 1.5861 - val_accuracy: 0.5143 - val_recall: 0.4143 - val_precision: 0.5918\n",
      "Epoch 18/80\n",
      "10/10 [==============================] - 5s 469ms/step - loss: 1.0250 - accuracy: 0.6475 - recall: 0.4475 - precision: 0.7811 - val_loss: 1.3965 - val_accuracy: 0.5286 - val_recall: 0.4571 - val_precision: 0.6531\n",
      "Epoch 19/80\n",
      "10/10 [==============================] - 5s 463ms/step - loss: 0.9811 - accuracy: 0.6576 - recall: 0.4644 - precision: 0.8253 - val_loss: 1.4528 - val_accuracy: 0.5429 - val_recall: 0.4000 - val_precision: 0.6222\n",
      "Epoch 20/80\n",
      "10/10 [==============================] - 5s 454ms/step - loss: 0.9320 - accuracy: 0.6712 - recall: 0.5492 - precision: 0.7606 - val_loss: 1.4409 - val_accuracy: 0.5429 - val_recall: 0.4143 - val_precision: 0.6444\n",
      "Epoch 21/80\n",
      "10/10 [==============================] - 5s 460ms/step - loss: 0.9457 - accuracy: 0.6678 - recall: 0.5356 - precision: 0.7633 - val_loss: 1.4980 - val_accuracy: 0.5286 - val_recall: 0.4429 - val_precision: 0.6200\n",
      "Epoch 22/80\n",
      "10/10 [==============================] - 5s 466ms/step - loss: 0.9620 - accuracy: 0.6237 - recall: 0.5051 - precision: 0.7413 - val_loss: 1.5527 - val_accuracy: 0.4714 - val_recall: 0.4143 - val_precision: 0.5370\n",
      "Epoch 23/80\n",
      "10/10 [==============================] - 5s 464ms/step - loss: 1.1228 - accuracy: 0.6271 - recall: 0.3695 - precision: 0.7569 - val_loss: 1.8082 - val_accuracy: 0.4714 - val_recall: 0.3714 - val_precision: 0.4727\n",
      "Epoch 24/80\n",
      "10/10 [==============================] - 5s 462ms/step - loss: 1.2614 - accuracy: 0.5966 - recall: 0.4407 - precision: 0.6771 - val_loss: 1.6727 - val_accuracy: 0.4143 - val_recall: 0.3571 - val_precision: 0.5814\n",
      "Epoch 25/80\n",
      "10/10 [==============================] - 5s 471ms/step - loss: 1.2487 - accuracy: 0.5627 - recall: 0.3458 - precision: 0.7727 - val_loss: 1.5323 - val_accuracy: 0.3143 - val_recall: 0.0429 - val_precision: 1.0000\n",
      "Epoch 26/80\n",
      "10/10 [==============================] - 5s 495ms/step - loss: 1.4000 - accuracy: 0.4814 - recall: 0.2203 - precision: 0.6989 - val_loss: 1.5114 - val_accuracy: 0.3571 - val_recall: 0.0429 - val_precision: 0.7500\n",
      "Epoch 27/80\n",
      "10/10 [==============================] - 4s 449ms/step - loss: 1.3168 - accuracy: 0.5017 - recall: 0.2644 - precision: 0.7647 - val_loss: 1.3976 - val_accuracy: 0.4429 - val_recall: 0.1857 - val_precision: 0.6842\n",
      "Epoch 28/80\n",
      "10/10 [==============================] - 5s 481ms/step - loss: 1.1079 - accuracy: 0.6136 - recall: 0.4034 - precision: 0.8151 - val_loss: 1.6291 - val_accuracy: 0.5429 - val_recall: 0.4571 - val_precision: 0.5714\n",
      "Epoch 29/80\n",
      "10/10 [==============================] - 4s 450ms/step - loss: 1.1843 - accuracy: 0.5695 - recall: 0.3593 - precision: 0.8030 - val_loss: 1.5187 - val_accuracy: 0.4571 - val_recall: 0.2571 - val_precision: 0.5000\n",
      "Epoch 30/80\n",
      "10/10 [==============================] - 4s 446ms/step - loss: 1.2299 - accuracy: 0.5356 - recall: 0.2983 - precision: 0.8000 - val_loss: 1.5086 - val_accuracy: 0.4143 - val_recall: 0.2429 - val_precision: 0.5152\n",
      "Epoch 31/80\n",
      "10/10 [==============================] - 5s 463ms/step - loss: 1.2203 - accuracy: 0.5525 - recall: 0.2915 - precision: 0.8037 - val_loss: 1.4974 - val_accuracy: 0.4714 - val_recall: 0.2857 - val_precision: 0.5263\n",
      "Epoch 32/80\n",
      "10/10 [==============================] - 4s 480ms/step - loss: 1.1344 - accuracy: 0.5831 - recall: 0.3763 - precision: 0.8672 - val_loss: 1.1449 - val_accuracy: 0.6143 - val_recall: 0.3571 - val_precision: 0.8333\n",
      "Epoch 33/80\n",
      "10/10 [==============================] - 4s 436ms/step - loss: 1.0820 - accuracy: 0.6373 - recall: 0.4339 - precision: 0.7901 - val_loss: 1.1967 - val_accuracy: 0.6429 - val_recall: 0.5000 - val_precision: 0.7447\n",
      "Epoch 34/80\n",
      "10/10 [==============================] - 4s 452ms/step - loss: 1.0791 - accuracy: 0.6373 - recall: 0.3492 - precision: 0.9035 - val_loss: 1.1495 - val_accuracy: 0.6286 - val_recall: 0.3714 - val_precision: 0.8667\n",
      "Epoch 35/80\n",
      "10/10 [==============================] - 4s 444ms/step - loss: 1.0449 - accuracy: 0.6237 - recall: 0.4542 - precision: 0.8481 - val_loss: 1.1379 - val_accuracy: 0.6286 - val_recall: 0.4143 - val_precision: 0.7838\n",
      "Epoch 36/80\n",
      "10/10 [==============================] - 5s 461ms/step - loss: 1.0336 - accuracy: 0.6237 - recall: 0.4373 - precision: 0.8716 - val_loss: 1.1593 - val_accuracy: 0.6143 - val_recall: 0.4429 - val_precision: 0.7209\n",
      "Epoch 37/80\n",
      "10/10 [==============================] - 5s 490ms/step - loss: 1.0172 - accuracy: 0.6542 - recall: 0.4576 - precision: 0.8544 - val_loss: 1.1785 - val_accuracy: 0.5857 - val_recall: 0.3429 - val_precision: 0.8276\n",
      "Epoch 38/80\n",
      "10/10 [==============================] - 4s 453ms/step - loss: 1.0502 - accuracy: 0.6237 - recall: 0.3797 - precision: 0.9256 - val_loss: 1.1452 - val_accuracy: 0.6286 - val_recall: 0.4857 - val_precision: 0.7391\n",
      "Epoch 39/80\n",
      "10/10 [==============================] - 4s 442ms/step - loss: 0.9821 - accuracy: 0.6373 - recall: 0.4915 - precision: 0.8382 - val_loss: 1.5416 - val_accuracy: 0.5286 - val_recall: 0.4571 - val_precision: 0.5818\n",
      "Epoch 40/80\n",
      "10/10 [==============================] - 5s 469ms/step - loss: 1.0166 - accuracy: 0.6407 - recall: 0.4203 - precision: 0.8794 - val_loss: 1.1810 - val_accuracy: 0.6429 - val_recall: 0.5000 - val_precision: 0.7292\n",
      "Epoch 41/80\n",
      "10/10 [==============================] - 5s 456ms/step - loss: 0.9552 - accuracy: 0.6373 - recall: 0.4983 - precision: 0.8352 - val_loss: 1.1755 - val_accuracy: 0.6571 - val_recall: 0.4714 - val_precision: 0.7333\n",
      "Epoch 42/80\n",
      "10/10 [==============================] - 4s 451ms/step - loss: 1.0185 - accuracy: 0.6169 - recall: 0.3898 - precision: 0.8915 - val_loss: 1.1307 - val_accuracy: 0.6286 - val_recall: 0.3714 - val_precision: 0.7027\n",
      "Epoch 43/80\n",
      "10/10 [==============================] - 4s 450ms/step - loss: 0.9282 - accuracy: 0.6644 - recall: 0.4949 - precision: 0.8202 - val_loss: 1.4440 - val_accuracy: 0.6000 - val_recall: 0.5143 - val_precision: 0.6667\n",
      "Epoch 44/80\n",
      "10/10 [==============================] - 4s 421ms/step - loss: 0.8779 - accuracy: 0.6746 - recall: 0.5186 - precision: 0.8895 - val_loss: 1.2796 - val_accuracy: 0.6286 - val_recall: 0.4857 - val_precision: 0.6667\n",
      "Epoch 45/80\n",
      "10/10 [==============================] - 4s 425ms/step - loss: 0.8839 - accuracy: 0.6780 - recall: 0.5119 - precision: 0.8779 - val_loss: 1.2543 - val_accuracy: 0.6429 - val_recall: 0.4571 - val_precision: 0.6809\n",
      "Epoch 46/80\n",
      "10/10 [==============================] - 4s 438ms/step - loss: 0.8582 - accuracy: 0.6610 - recall: 0.5288 - precision: 0.8667 - val_loss: 1.2298 - val_accuracy: 0.6286 - val_recall: 0.5000 - val_precision: 0.7143\n",
      "Epoch 47/80\n",
      "10/10 [==============================] - 5s 496ms/step - loss: 0.9606 - accuracy: 0.6542 - recall: 0.4847 - precision: 0.8614 - val_loss: 1.6780 - val_accuracy: 0.5429 - val_recall: 0.5000 - val_precision: 0.6034\n",
      "Epoch 48/80\n",
      "10/10 [==============================] - 5s 472ms/step - loss: 0.9990 - accuracy: 0.6475 - recall: 0.4475 - precision: 0.8302 - val_loss: 1.6593 - val_accuracy: 0.5714 - val_recall: 0.5286 - val_precision: 0.6271\n",
      "Epoch 49/80\n",
      "10/10 [==============================] - 5s 474ms/step - loss: 0.9248 - accuracy: 0.6780 - recall: 0.4814 - precision: 0.8820 - val_loss: 1.1467 - val_accuracy: 0.6286 - val_recall: 0.3857 - val_precision: 0.7297\n",
      "Epoch 50/80\n",
      "10/10 [==============================] - 4s 444ms/step - loss: 0.9236 - accuracy: 0.6746 - recall: 0.5288 - precision: 0.8667 - val_loss: 1.6181 - val_accuracy: 0.4857 - val_recall: 0.2571 - val_precision: 0.6429\n",
      "Epoch 51/80\n",
      "10/10 [==============================] - 4s 445ms/step - loss: 1.2009 - accuracy: 0.5254 - recall: 0.3153 - precision: 0.8158 - val_loss: 1.6171 - val_accuracy: 0.4571 - val_recall: 0.2714 - val_precision: 0.4872\n",
      "Epoch 52/80\n",
      "10/10 [==============================] - 5s 458ms/step - loss: 1.1447 - accuracy: 0.5322 - recall: 0.3424 - precision: 0.8559 - val_loss: 1.9228 - val_accuracy: 0.4429 - val_recall: 0.3714 - val_precision: 0.4906\n",
      "Epoch 53/80\n",
      "10/10 [==============================] - 5s 454ms/step - loss: 1.1199 - accuracy: 0.5458 - recall: 0.3322 - precision: 0.8750 - val_loss: 1.4757 - val_accuracy: 0.4714 - val_recall: 0.3000 - val_precision: 0.6000\n",
      "Epoch 54/80\n",
      "10/10 [==============================] - 5s 469ms/step - loss: 0.9949 - accuracy: 0.6237 - recall: 0.4034 - precision: 0.8947 - val_loss: 1.1630 - val_accuracy: 0.6429 - val_recall: 0.4714 - val_precision: 0.7021\n",
      "Epoch 55/80\n",
      "10/10 [==============================] - 5s 470ms/step - loss: 0.9193 - accuracy: 0.6610 - recall: 0.4949 - precision: 0.8343 - val_loss: 1.2432 - val_accuracy: 0.6000 - val_recall: 0.4857 - val_precision: 0.7083\n",
      "Epoch 56/80\n",
      "10/10 [==============================] - 5s 481ms/step - loss: 1.0106 - accuracy: 0.6000 - recall: 0.4000 - precision: 0.8489 - val_loss: 1.4038 - val_accuracy: 0.4000 - val_recall: 0.1857 - val_precision: 0.6500\n",
      "Epoch 57/80\n",
      "10/10 [==============================] - 5s 465ms/step - loss: 0.9313 - accuracy: 0.6305 - recall: 0.4644 - precision: 0.8726 - val_loss: 1.2563 - val_accuracy: 0.6286 - val_recall: 0.4857 - val_precision: 0.6939\n",
      "Epoch 58/80\n",
      "10/10 [==============================] - 5s 457ms/step - loss: 0.8373 - accuracy: 0.6983 - recall: 0.4712 - precision: 0.9205 - val_loss: 1.2261 - val_accuracy: 0.6429 - val_recall: 0.5571 - val_precision: 0.7222\n",
      "Epoch 59/80\n",
      "10/10 [==============================] - 5s 455ms/step - loss: 0.9557 - accuracy: 0.6475 - recall: 0.4847 - precision: 0.8667 - val_loss: 1.2138 - val_accuracy: 0.6286 - val_recall: 0.4857 - val_precision: 0.6939\n",
      "Epoch 60/80\n",
      "10/10 [==============================] - 5s 455ms/step - loss: 1.0662 - accuracy: 0.6169 - recall: 0.4000 - precision: 0.8551 - val_loss: 1.4617 - val_accuracy: 0.5429 - val_recall: 0.3857 - val_precision: 0.7105\n",
      "Epoch 61/80\n",
      "10/10 [==============================] - 5s 466ms/step - loss: 0.9531 - accuracy: 0.6475 - recall: 0.4373 - precision: 0.9085 - val_loss: 1.5745 - val_accuracy: 0.6286 - val_recall: 0.5571 - val_precision: 0.6500\n",
      "Epoch 62/80\n",
      "10/10 [==============================] - 5s 463ms/step - loss: 0.9495 - accuracy: 0.6508 - recall: 0.4814 - precision: 0.8068 - val_loss: 1.2295 - val_accuracy: 0.6571 - val_recall: 0.5429 - val_precision: 0.7037\n",
      "Epoch 63/80\n",
      "10/10 [==============================] - 4s 447ms/step - loss: 0.7685 - accuracy: 0.6881 - recall: 0.5220 - precision: 0.9167 - val_loss: 1.1374 - val_accuracy: 0.6143 - val_recall: 0.4714 - val_precision: 0.7333\n",
      "Epoch 64/80\n",
      "10/10 [==============================] - 5s 457ms/step - loss: 0.7616 - accuracy: 0.6949 - recall: 0.5424 - precision: 0.9040 - val_loss: 1.2860 - val_accuracy: 0.6714 - val_recall: 0.4857 - val_precision: 0.6800\n",
      "Epoch 65/80\n",
      "10/10 [==============================] - 4s 451ms/step - loss: 0.7733 - accuracy: 0.7017 - recall: 0.5186 - precision: 0.9162 - val_loss: 1.2216 - val_accuracy: 0.6429 - val_recall: 0.5286 - val_precision: 0.6981\n",
      "Epoch 66/80\n",
      "10/10 [==============================] - 5s 467ms/step - loss: 0.7903 - accuracy: 0.6678 - recall: 0.5322 - precision: 0.8533 - val_loss: 1.4486 - val_accuracy: 0.5714 - val_recall: 0.4857 - val_precision: 0.6538\n",
      "Epoch 67/80\n",
      "10/10 [==============================] - 5s 456ms/step - loss: 1.1216 - accuracy: 0.5729 - recall: 0.3864 - precision: 0.8321 - val_loss: 1.4262 - val_accuracy: 0.5286 - val_recall: 0.3286 - val_precision: 0.7188\n",
      "Epoch 68/80\n",
      "10/10 [==============================] - 5s 476ms/step - loss: 0.9059 - accuracy: 0.6441 - recall: 0.4847 - precision: 0.8266 - val_loss: 1.1389 - val_accuracy: 0.6286 - val_recall: 0.4571 - val_precision: 0.7619\n",
      "Epoch 69/80\n",
      "10/10 [==============================] - 4s 448ms/step - loss: 0.8650 - accuracy: 0.6678 - recall: 0.4678 - precision: 0.9200 - val_loss: 1.5682 - val_accuracy: 0.5714 - val_recall: 0.4857 - val_precision: 0.6182\n",
      "Epoch 70/80\n",
      "10/10 [==============================] - 4s 444ms/step - loss: 0.9176 - accuracy: 0.6373 - recall: 0.4814 - precision: 0.8452 - val_loss: 1.4576 - val_accuracy: 0.6429 - val_recall: 0.5429 - val_precision: 0.6909\n",
      "Epoch 71/80\n",
      "10/10 [==============================] - 5s 463ms/step - loss: 0.9245 - accuracy: 0.6441 - recall: 0.4407 - precision: 0.8667 - val_loss: 1.5061 - val_accuracy: 0.4286 - val_recall: 0.2429 - val_precision: 0.5862\n",
      "Epoch 72/80\n",
      "10/10 [==============================] - 5s 471ms/step - loss: 1.0693 - accuracy: 0.6000 - recall: 0.3797 - precision: 0.8819 - val_loss: 1.6024 - val_accuracy: 0.5286 - val_recall: 0.3714 - val_precision: 0.5909\n",
      "Epoch 73/80\n",
      "10/10 [==============================] - 5s 463ms/step - loss: 0.8829 - accuracy: 0.6610 - recall: 0.4983 - precision: 0.8400 - val_loss: 1.1560 - val_accuracy: 0.6714 - val_recall: 0.5143 - val_precision: 0.7660\n",
      "Epoch 74/80\n",
      "10/10 [==============================] - 4s 448ms/step - loss: 0.8816 - accuracy: 0.6712 - recall: 0.4746 - precision: 0.8917 - val_loss: 1.1173 - val_accuracy: 0.6429 - val_recall: 0.4857 - val_precision: 0.7556\n",
      "Epoch 75/80\n",
      "10/10 [==============================] - 5s 458ms/step - loss: 0.7725 - accuracy: 0.7017 - recall: 0.5153 - precision: 0.9212 - val_loss: 1.6871 - val_accuracy: 0.5429 - val_recall: 0.4429 - val_precision: 0.6078\n",
      "Epoch 76/80\n",
      "10/10 [==============================] - 5s 470ms/step - loss: 0.9005 - accuracy: 0.6610 - recall: 0.4814 - precision: 0.8875 - val_loss: 1.4167 - val_accuracy: 0.5714 - val_recall: 0.4000 - val_precision: 0.6222\n",
      "Epoch 77/80\n",
      "10/10 [==============================] - 5s 468ms/step - loss: 0.8182 - accuracy: 0.6746 - recall: 0.4915 - precision: 0.9295 - val_loss: 1.5970 - val_accuracy: 0.6143 - val_recall: 0.5429 - val_precision: 0.6441\n",
      "Epoch 78/80\n",
      "10/10 [==============================] - 5s 461ms/step - loss: 0.8106 - accuracy: 0.6746 - recall: 0.5322 - precision: 0.8971 - val_loss: 1.5839 - val_accuracy: 0.5000 - val_recall: 0.3714 - val_precision: 0.6047\n",
      "Epoch 79/80\n",
      "10/10 [==============================] - 4s 452ms/step - loss: 1.0189 - accuracy: 0.5864 - recall: 0.4000 - precision: 0.9008 - val_loss: 1.7233 - val_accuracy: 0.5143 - val_recall: 0.3714 - val_precision: 0.5532\n",
      "Epoch 80/80\n",
      "10/10 [==============================] - 5s 457ms/step - loss: 0.8058 - accuracy: 0.6644 - recall: 0.4780 - precision: 0.9400 - val_loss: 1.7952 - val_accuracy: 0.6286 - val_recall: 0.5429 - val_precision: 0.6333\n"
     ]
    }
   ],
   "source": [
    "history4 = model4.fit(train_data, epochs = 80, validation_data = validation_data,\n",
    "    batch_size = 32)"
   ]
  },
  {
   "cell_type": "markdown",
   "id": "266de1a8-b271-43ac-bbea-231d7eb3dd7a",
   "metadata": {},
   "source": [
    "#### Adding Results to DF"
   ]
  },
  {
   "cell_type": "code",
   "execution_count": 115,
   "id": "0fef08d7-5c76-47fa-9d6e-58b1e4b03692",
   "metadata": {},
   "outputs": [],
   "source": [
    "results_df2['train_accuracy'].iloc[4] = 0"
   ]
  },
  {
   "cell_type": "code",
   "execution_count": 116,
   "id": "5b3a97bb-e8a4-4cf3-9ad6-d08bad8368da",
   "metadata": {},
   "outputs": [],
   "source": [
    "results_df2['train_recall'].iloc[4] = 0"
   ]
  },
  {
   "cell_type": "code",
   "execution_count": 117,
   "id": "cb10f383-f9d5-4501-8427-e232c05a440d",
   "metadata": {},
   "outputs": [],
   "source": [
    "results_df2['train_precision'].iloc[4] = 0"
   ]
  },
  {
   "cell_type": "code",
   "execution_count": 118,
   "id": "8a0e0810-8d53-4520-869e-e57cc5ee560c",
   "metadata": {},
   "outputs": [],
   "source": [
    "results_df2['val_accuracy'].iloc[4] =0"
   ]
  },
  {
   "cell_type": "code",
   "execution_count": 119,
   "id": "684636d7-1091-4d3f-adf7-e27a93584506",
   "metadata": {},
   "outputs": [],
   "source": [
    "results_df2['val_recall'].iloc[4] = 0"
   ]
  },
  {
   "cell_type": "code",
   "execution_count": 120,
   "id": "b0c22af4-d290-48f5-9291-24395ffa774c",
   "metadata": {},
   "outputs": [],
   "source": [
    "results_df2['val_precision'].iloc[4] = 0"
   ]
  },
  {
   "cell_type": "code",
   "execution_count": 121,
   "id": "1058b1c3-bc56-4153-909f-6ee3c4578afe",
   "metadata": {},
   "outputs": [
    {
     "data": {
      "image/png": "[encoded data removed]",
      "text/plain": [
       "<Figure size 432x288 with 1 Axes>"
      ]
     },
     "metadata": {
      "needs_background": "light"
     },
     "output_type": "display_data"
    }
   ],
   "source": [
    "plt.plot(history4.history['accuracy'], label='Train Accuracy')\n",
    "plt.plot(history4.history['val_accuracy'], label = 'Val Accuracy')\n",
    "plt.plot(history4.history['precision'], label = 'precision')\n",
    "plt.plot(history4.history['val_precision'], label = 'val_precision')\n",
    "plt.plot(history4.history['recall'], label = 'recall')\n",
    "plt.plot(history4.history['val_recall'], label = 'val_recall')\n",
    "plt.legend() \n",
    "plt.yticks([0,0.2,0.4,0.6, 0.8,1]) \n",
    "plt.xlabel('Epoch')\n",
    "plt.ylabel('Metric')\n",
    "plt.title('Train vs Validation Metric Results');\n",
    "\n"
   ]
  },
  {
   "cell_type": "markdown",
   "id": "bbcc63ab-8057-4962-8223-137a3985b600",
   "metadata": {},
   "source": []
  },
  {
   "cell_type": "code",
   "execution_count": 122,
   "id": "a88b9566-ebe7-4f2d-8ead-d563934b3b7b",
   "metadata": {},
   "outputs": [
    {
     "data": {
      "image/png": "[encoded data removed]",
      "text/plain": [
       "<Figure size 432x288 with 1 Axes>"
      ]
     },
     "metadata": {
      "needs_background": "light"
     },
     "output_type": "display_data"
    }
   ],
   "source": [
    "plt.plot(history4.history['loss'], label = 'Train Loss')\n",
    "plt.plot(history4.history['val_loss'], label = 'Val Loss')\n",
    "plt.legend()\n",
    "plt.xlabel('Epoch')\n",
    "plt.ylabel('Loss')\n",
    "plt.title('Train vs Validation Loss Results');"
   ]
  },
  {
   "cell_type": "markdown",
   "id": "6a66e359-5d3c-4f59-bc7f-a06a4399255a",
   "metadata": {},
   "source": [
    "### Test Data "
   ]
  },
  {
   "cell_type": "code",
   "execution_count": 123,
   "id": "4e5530ca-449f-49fc-96a6-13d95f14d09d",
   "metadata": {},
   "outputs": [],
   "source": [
    "# reference: https://towardsdatascience.com/confusion-matrix-for-your-multi-class-machine-learning-model-ff9aa3bf7826"
   ]
  },
  {
   "cell_type": "code",
   "execution_count": 124,
   "id": "f68a04af-2e5d-4aaf-8d36-e0277b4cd478",
   "metadata": {},
   "outputs": [
    {
     "name": "stdout",
     "output_type": "stream",
     "text": [
      "3/3 [==============================] - 1s 302ms/step - loss: 3.4114 - accuracy: 0.4556 - recall: 0.4000 - precision: 0.4800\n"
     ]
    }
   ],
   "source": [
    "model4.evaluate(test_data)\n",
    "\n",
    "preds4 = model4.predict(test_data) > 0.5\n",
    "\n",
    "preds4 = preds4.astype(int)\n",
    "\n",
    "test_data_values = test_data.labels \n",
    "\n",
    "cm = confusion_matrix(test_data_values, preds4.argmax(axis=1))"
   ]
  },
  {
   "cell_type": "markdown",
   "id": "cd9d50a7-82c3-4cd4-a9d8-ba2eb567b6fa",
   "metadata": {},
   "source": [
    "#### Adding Results to DF"
   ]
  },
  {
   "cell_type": "code",
   "execution_count": 125,
   "id": "6aa54ec3-d795-4ae5-8e49-076ccec30d56",
   "metadata": {},
   "outputs": [],
   "source": [
    "results_df2['test_accuracy'].iloc[4] = 0"
   ]
  },
  {
   "cell_type": "code",
   "execution_count": 126,
   "id": "9ccde85d-aa83-4032-88a7-ffafddcc667a",
   "metadata": {},
   "outputs": [],
   "source": [
    "results_df2['test_recall'].iloc[4] = 0"
   ]
  },
  {
   "cell_type": "code",
   "execution_count": 127,
   "id": "3bef484b-78e6-4ad1-8e55-51b6b740b851",
   "metadata": {},
   "outputs": [],
   "source": [
    "results_df2['test_precision'].iloc[4] = 0"
   ]
  },
  {
   "cell_type": "markdown",
   "id": "a3827a67-a53b-404c-80ea-5dcbbc410baf",
   "metadata": {},
   "source": [
    "#### Confusion Matrix "
   ]
  },
  {
   "cell_type": "code",
   "execution_count": 128,
   "id": "494cfb70-8537-4c94-b4eb-a03a2086d66c",
   "metadata": {},
   "outputs": [
    {
     "name": "stdout",
     "output_type": "stream",
     "text": [
      "              effusion  normal  otitis_media  tube  unclear\n",
      "effusion             3       3             0     2        0\n",
      "normal               5      20             0     9        0\n",
      "otitis_media         4       2             0    10        0\n",
      "tube                 1       2             0    16        0\n",
      "unclear              2       7             0     4        0\n"
     ]
    }
   ],
   "source": [
    "print(pd.DataFrame(cm, index = ['effusion', 'normal', 'otitis_media', 'tube', 'unclear'], columns = ['effusion', 'normal', 'otitis_media', 'tube', 'unclear']))\n",
    "#Confusion Matrix\n",
    "#Column is True Class \n",
    "#Row is Predicted Class \n",
    "#Diag Match"
   ]
  },
  {
   "cell_type": "markdown",
   "id": "5f4428e6-0b87-4c87-a49b-eb949bd7aa9e",
   "metadata": {},
   "source": [
    "#### Classification Report "
   ]
  },
  {
   "cell_type": "code",
   "execution_count": 129,
   "id": "4ad0b3cb-9805-4739-ae5b-4dd4e4fdd372",
   "metadata": {},
   "outputs": [
    {
     "name": "stdout",
     "output_type": "stream",
     "text": [
      "              precision    recall  f1-score   support\n",
      "\n",
      "    effusion       0.20      0.38      0.26         8\n",
      "      normal       0.59      0.59      0.59        34\n",
      "otitis_media       0.00      0.00      0.00        16\n",
      "        tube       0.39      0.84      0.53        19\n",
      "     unclear       0.00      0.00      0.00        13\n",
      "\n",
      "    accuracy                           0.43        90\n",
      "   macro avg       0.24      0.36      0.28        90\n",
      "weighted avg       0.32      0.43      0.36        90\n",
      "\n"
     ]
    },
    {
     "name": "stderr",
     "output_type": "stream",
     "text": [
      "/Users/annafunsten/opt/anaconda3/lib/python3.8/site-packages/sklearn/metrics/_classification.py:1245: UndefinedMetricWarning: Precision and F-score are ill-defined and being set to 0.0 in labels with no predicted samples. Use `zero_division` parameter to control this behavior.\n",
      "  _warn_prf(average, modifier, msg_start, len(result))\n",
      "/Users/annafunsten/opt/anaconda3/lib/python3.8/site-packages/sklearn/metrics/_classification.py:1245: UndefinedMetricWarning: Precision and F-score are ill-defined and being set to 0.0 in labels with no predicted samples. Use `zero_division` parameter to control this behavior.\n",
      "  _warn_prf(average, modifier, msg_start, len(result))\n",
      "/Users/annafunsten/opt/anaconda3/lib/python3.8/site-packages/sklearn/metrics/_classification.py:1245: UndefinedMetricWarning: Precision and F-score are ill-defined and being set to 0.0 in labels with no predicted samples. Use `zero_division` parameter to control this behavior.\n",
      "  _warn_prf(average, modifier, msg_start, len(result))\n"
     ]
    }
   ],
   "source": [
    "print(classification_report(test_data_values, preds4.argmax(axis=1), target_names = ['effusion', 'normal', 'otitis_media', 'tube', 'unclear']))\n",
    "#F1 Score is the 2*((precision*recall)/(precision+recall)) \n",
    "#TP/(TP+FP)\n",
    "#TP/(TP+FN)."
   ]
  },
  {
   "cell_type": "markdown",
   "id": "c6f5ef2d-98de-4a38-8374-0f78b4bffa16",
   "metadata": {},
   "source": [
    "## Model 5: Kernal Regularizer with Dropout"
   ]
  },
  {
   "cell_type": "code",
   "execution_count": 130,
   "id": "b7aa1878-b47f-4612-bed2-a8e63bcc9927",
   "metadata": {
    "tags": []
   },
   "outputs": [],
   "source": [
    "model5 = Sequential()\n",
    "model5.add(Flatten())\n",
    "model5.add(Dense(100, activation = 'relu'))\n",
    "model5.add(Dropout(0.1))\n",
    "model5.add(Dense(50, activation = 'relu', kernel_regularizer = l2(0.1)))\n",
    "model5.add(Dense(5, activation = 'softmax'))\n",
    "\n",
    "model5.compile(loss = 'categorical_crossentropy', optimizer = 'adam', metrics = ['accuracy', 'Recall', 'Precision'])"
   ]
  },
  {
   "cell_type": "code",
   "execution_count": 131,
   "id": "1604c3b3-57fd-48b6-9c69-6aa19ae625ba",
   "metadata": {
    "collapsed": true,
    "jupyter": {
     "outputs_hidden": true
    },
    "tags": []
   },
   "outputs": [
    {
     "name": "stdout",
     "output_type": "stream",
     "text": [
      "Epoch 1/80\n",
      "10/10 [==============================] - 6s 512ms/step - loss: 48.9860 - accuracy: 0.2237 - recall: 0.2203 - precision: 0.2330 - val_loss: 12.9764 - val_accuracy: 0.3857 - val_recall: 0.3857 - val_precision: 0.3857\n",
      "Epoch 2/80\n",
      "10/10 [==============================] - 4s 427ms/step - loss: 20.9632 - accuracy: 0.2949 - recall: 0.2949 - precision: 0.2949 - val_loss: 3.0510 - val_accuracy: 0.4143 - val_recall: 0.3714 - val_precision: 0.4127\n",
      "Epoch 3/80\n",
      "10/10 [==============================] - 4s 454ms/step - loss: 14.0694 - accuracy: 0.2610 - recall: 0.2542 - precision: 0.2586 - val_loss: 3.7487 - val_accuracy: 0.3286 - val_recall: 0.3143 - val_precision: 0.3492\n",
      "Epoch 4/80\n",
      "10/10 [==============================] - 4s 455ms/step - loss: 8.3741 - accuracy: 0.3932 - recall: 0.3898 - precision: 0.3993 - val_loss: 2.3875 - val_accuracy: 0.2571 - val_recall: 0.2286 - val_precision: 0.2712\n",
      "Epoch 5/80\n",
      "10/10 [==============================] - 4s 430ms/step - loss: 5.0832 - accuracy: 0.3458 - recall: 0.3051 - precision: 0.3488 - val_loss: 1.9384 - val_accuracy: 0.2429 - val_recall: 0.1571 - val_precision: 0.2245\n",
      "Epoch 6/80\n",
      "10/10 [==============================] - 4s 425ms/step - loss: 2.3221 - accuracy: 0.2441 - recall: 0.1220 - precision: 0.2195 - val_loss: 1.6863 - val_accuracy: 0.1857 - val_recall: 0.0286 - val_precision: 0.2222\n",
      "Epoch 7/80\n",
      "10/10 [==============================] - 4s 426ms/step - loss: 1.6125 - accuracy: 0.4305 - recall: 0.1831 - precision: 0.4696 - val_loss: 1.2721 - val_accuracy: 0.5000 - val_recall: 0.2000 - val_precision: 0.6364\n",
      "Epoch 8/80\n",
      "10/10 [==============================] - 5s 490ms/step - loss: 1.4968 - accuracy: 0.4339 - recall: 0.2542 - precision: 0.5319 - val_loss: 1.3390 - val_accuracy: 0.4429 - val_recall: 0.0714 - val_precision: 0.5556\n",
      "Epoch 9/80\n",
      "10/10 [==============================] - 5s 459ms/step - loss: 1.4336 - accuracy: 0.4475 - recall: 0.0746 - precision: 0.6875 - val_loss: 1.3972 - val_accuracy: 0.4286 - val_recall: 0.0571 - val_precision: 0.6667\n",
      "Epoch 10/80\n",
      "10/10 [==============================] - 5s 464ms/step - loss: 1.2972 - accuracy: 0.5119 - recall: 0.2271 - precision: 0.7882 - val_loss: 1.2805 - val_accuracy: 0.5143 - val_recall: 0.2571 - val_precision: 0.6923\n",
      "Epoch 11/80\n",
      "10/10 [==============================] - 4s 473ms/step - loss: 1.3631 - accuracy: 0.4881 - recall: 0.3763 - precision: 0.6343 - val_loss: 1.3380 - val_accuracy: 0.4429 - val_recall: 0.4143 - val_precision: 0.5686\n",
      "Epoch 12/80\n",
      "10/10 [==============================] - 4s 450ms/step - loss: 1.2805 - accuracy: 0.4644 - recall: 0.2068 - precision: 0.7176 - val_loss: 1.3778 - val_accuracy: 0.3571 - val_recall: 0.0429 - val_precision: 1.0000\n",
      "Epoch 13/80\n",
      "10/10 [==============================] - 5s 448ms/step - loss: 1.3068 - accuracy: 0.4949 - recall: 0.2441 - precision: 0.7129 - val_loss: 1.2911 - val_accuracy: 0.4714 - val_recall: 0.2571 - val_precision: 0.6429\n",
      "Epoch 14/80\n",
      "10/10 [==============================] - 5s 464ms/step - loss: 1.3139 - accuracy: 0.4915 - recall: 0.2678 - precision: 0.6930 - val_loss: 1.6712 - val_accuracy: 0.4143 - val_recall: 0.2714 - val_precision: 0.5758\n",
      "Epoch 15/80\n",
      "10/10 [==============================] - 5s 475ms/step - loss: 1.5126 - accuracy: 0.4542 - recall: 0.2949 - precision: 0.6214 - val_loss: 1.5108 - val_accuracy: 0.4571 - val_recall: 0.3571 - val_precision: 0.5319\n",
      "Epoch 16/80\n",
      "10/10 [==============================] - 5s 473ms/step - loss: 1.3675 - accuracy: 0.4847 - recall: 0.3356 - precision: 0.6600 - val_loss: 1.3007 - val_accuracy: 0.5286 - val_recall: 0.1429 - val_precision: 0.7692\n",
      "Epoch 17/80\n",
      "10/10 [==============================] - 5s 497ms/step - loss: 1.2538 - accuracy: 0.5220 - recall: 0.2644 - precision: 0.7879 - val_loss: 1.3030 - val_accuracy: 0.5143 - val_recall: 0.2857 - val_precision: 0.7692\n",
      "Epoch 18/80\n",
      "10/10 [==============================] - 5s 458ms/step - loss: 1.2506 - accuracy: 0.5085 - recall: 0.3390 - precision: 0.7519 - val_loss: 1.3144 - val_accuracy: 0.5000 - val_recall: 0.1857 - val_precision: 0.8125\n",
      "Epoch 19/80\n",
      "10/10 [==============================] - 5s 463ms/step - loss: 1.5195 - accuracy: 0.4508 - recall: 0.2576 - precision: 0.6129 - val_loss: 1.4735 - val_accuracy: 0.2857 - val_recall: 0.0857 - val_precision: 1.0000\n",
      "Epoch 20/80\n",
      "10/10 [==============================] - 4s 446ms/step - loss: 1.4913 - accuracy: 0.2441 - recall: 0.0542 - precision: 1.0000 - val_loss: 1.5192 - val_accuracy: 0.2429 - val_recall: 0.0143 - val_precision: 1.0000\n",
      "Epoch 21/80\n",
      "10/10 [==============================] - 5s 476ms/step - loss: 1.4499 - accuracy: 0.4542 - recall: 0.0847 - precision: 0.7812 - val_loss: 1.2731 - val_accuracy: 0.5429 - val_recall: 0.1286 - val_precision: 0.7500\n",
      "Epoch 22/80\n",
      "10/10 [==============================] - 5s 464ms/step - loss: 1.2729 - accuracy: 0.4881 - recall: 0.3356 - precision: 0.6781 - val_loss: 1.2393 - val_accuracy: 0.5286 - val_recall: 0.3286 - val_precision: 0.6970\n",
      "Epoch 23/80\n",
      "10/10 [==============================] - 4s 452ms/step - loss: 1.2313 - accuracy: 0.4983 - recall: 0.3322 - precision: 0.7481 - val_loss: 1.3195 - val_accuracy: 0.5000 - val_recall: 0.2000 - val_precision: 0.7000\n",
      "Epoch 24/80\n",
      "10/10 [==============================] - 5s 453ms/step - loss: 1.1859 - accuracy: 0.5220 - recall: 0.3322 - precision: 0.8673 - val_loss: 1.3287 - val_accuracy: 0.4857 - val_recall: 0.3714 - val_precision: 0.6500\n",
      "Epoch 25/80\n",
      "10/10 [==============================] - 4s 446ms/step - loss: 1.2203 - accuracy: 0.5186 - recall: 0.4203 - precision: 0.6667 - val_loss: 1.2319 - val_accuracy: 0.5000 - val_recall: 0.3143 - val_precision: 0.7586\n",
      "Epoch 26/80\n",
      "10/10 [==============================] - 4s 432ms/step - loss: 1.1087 - accuracy: 0.5559 - recall: 0.3932 - precision: 0.8056 - val_loss: 1.2237 - val_accuracy: 0.5429 - val_recall: 0.3571 - val_precision: 0.7143\n",
      "Epoch 27/80\n",
      "10/10 [==============================] - 5s 459ms/step - loss: 1.1096 - accuracy: 0.5458 - recall: 0.4169 - precision: 0.7193 - val_loss: 1.2774 - val_accuracy: 0.4571 - val_recall: 0.3429 - val_precision: 0.6857\n",
      "Epoch 28/80\n",
      "10/10 [==============================] - 4s 447ms/step - loss: 1.1520 - accuracy: 0.5390 - recall: 0.3729 - precision: 0.7586 - val_loss: 1.4552 - val_accuracy: 0.4286 - val_recall: 0.3857 - val_precision: 0.5745\n",
      "Epoch 29/80\n",
      "10/10 [==============================] - 4s 452ms/step - loss: 1.1884 - accuracy: 0.5322 - recall: 0.4305 - precision: 0.7056 - val_loss: 1.2092 - val_accuracy: 0.5143 - val_recall: 0.2857 - val_precision: 0.7407\n",
      "Epoch 30/80\n",
      "10/10 [==============================] - 5s 456ms/step - loss: 1.1185 - accuracy: 0.5288 - recall: 0.3627 - precision: 0.7643 - val_loss: 1.3023 - val_accuracy: 0.4571 - val_recall: 0.3571 - val_precision: 0.6757\n",
      "Epoch 31/80\n",
      "10/10 [==============================] - 4s 438ms/step - loss: 1.1666 - accuracy: 0.5119 - recall: 0.3831 - precision: 0.7244 - val_loss: 1.2887 - val_accuracy: 0.4714 - val_recall: 0.2714 - val_precision: 0.6552\n",
      "Epoch 32/80\n",
      "10/10 [==============================] - 4s 421ms/step - loss: 1.1006 - accuracy: 0.4983 - recall: 0.4000 - precision: 0.7284 - val_loss: 1.2168 - val_accuracy: 0.5143 - val_recall: 0.2429 - val_precision: 0.6800\n",
      "Epoch 33/80\n",
      "10/10 [==============================] - 4s 443ms/step - loss: 1.2400 - accuracy: 0.5153 - recall: 0.3661 - precision: 0.6792 - val_loss: 1.6315 - val_accuracy: 0.3857 - val_recall: 0.3000 - val_precision: 0.5000\n",
      "Epoch 34/80\n",
      "10/10 [==============================] - 4s 444ms/step - loss: 1.2964 - accuracy: 0.4746 - recall: 0.3186 - precision: 0.7231 - val_loss: 1.5051 - val_accuracy: 0.4143 - val_recall: 0.0286 - val_precision: 1.0000\n",
      "Epoch 35/80\n",
      "10/10 [==============================] - 5s 451ms/step - loss: 1.3094 - accuracy: 0.4644 - recall: 0.1729 - precision: 0.7727 - val_loss: 1.3300 - val_accuracy: 0.4286 - val_recall: 0.3571 - val_precision: 0.6579\n",
      "Epoch 36/80\n",
      "10/10 [==============================] - 4s 453ms/step - loss: 1.1194 - accuracy: 0.5220 - recall: 0.4034 - precision: 0.7628 - val_loss: 1.2158 - val_accuracy: 0.4714 - val_recall: 0.3143 - val_precision: 0.6111\n",
      "Epoch 37/80\n",
      "10/10 [==============================] - 5s 454ms/step - loss: 1.1175 - accuracy: 0.5153 - recall: 0.3864 - precision: 0.8143 - val_loss: 1.1814 - val_accuracy: 0.5571 - val_recall: 0.3000 - val_precision: 0.8077\n",
      "Epoch 38/80\n",
      "10/10 [==============================] - 4s 445ms/step - loss: 1.0637 - accuracy: 0.5525 - recall: 0.3966 - precision: 0.7697 - val_loss: 1.2635 - val_accuracy: 0.4714 - val_recall: 0.4000 - val_precision: 0.7179\n",
      "Epoch 39/80\n",
      "10/10 [==============================] - 5s 459ms/step - loss: 1.2450 - accuracy: 0.5017 - recall: 0.2814 - precision: 0.7757 - val_loss: 1.1833 - val_accuracy: 0.6000 - val_recall: 0.2286 - val_precision: 0.8421\n",
      "Epoch 40/80\n",
      "10/10 [==============================] - 5s 453ms/step - loss: 1.1906 - accuracy: 0.5085 - recall: 0.3763 - precision: 0.7303 - val_loss: 1.1569 - val_accuracy: 0.6143 - val_recall: 0.3000 - val_precision: 0.7500\n",
      "Epoch 41/80\n",
      "10/10 [==============================] - 5s 458ms/step - loss: 1.1454 - accuracy: 0.5322 - recall: 0.3356 - precision: 0.7674 - val_loss: 1.2815 - val_accuracy: 0.5000 - val_recall: 0.1571 - val_precision: 0.9167\n",
      "Epoch 42/80\n",
      "10/10 [==============================] - 4s 444ms/step - loss: 1.1149 - accuracy: 0.5559 - recall: 0.3729 - precision: 0.7801 - val_loss: 1.2440 - val_accuracy: 0.5143 - val_recall: 0.4143 - val_precision: 0.6905\n",
      "Epoch 43/80\n",
      "10/10 [==============================] - 4s 456ms/step - loss: 1.0470 - accuracy: 0.5966 - recall: 0.4068 - precision: 0.8163 - val_loss: 1.1506 - val_accuracy: 0.6286 - val_recall: 0.3000 - val_precision: 0.8750\n",
      "Epoch 44/80\n",
      "10/10 [==============================] - 5s 462ms/step - loss: 1.1282 - accuracy: 0.5288 - recall: 0.3966 - precision: 0.7548 - val_loss: 1.3386 - val_accuracy: 0.4286 - val_recall: 0.2429 - val_precision: 0.7083\n",
      "Epoch 45/80\n",
      "10/10 [==============================] - 4s 446ms/step - loss: 1.1934 - accuracy: 0.5458 - recall: 0.3424 - precision: 0.8211 - val_loss: 1.1292 - val_accuracy: 0.6429 - val_recall: 0.2857 - val_precision: 0.8333\n",
      "Epoch 46/80\n",
      "10/10 [==============================] - 5s 461ms/step - loss: 1.1453 - accuracy: 0.5492 - recall: 0.3424 - precision: 0.8417 - val_loss: 1.1592 - val_accuracy: 0.6286 - val_recall: 0.4000 - val_precision: 0.7778\n",
      "Epoch 47/80\n",
      "10/10 [==============================] - 4s 447ms/step - loss: 1.1972 - accuracy: 0.5356 - recall: 0.3085 - precision: 0.7778 - val_loss: 1.3709 - val_accuracy: 0.4000 - val_recall: 0.1714 - val_precision: 1.0000\n",
      "Epoch 48/80\n",
      "10/10 [==============================] - 5s 491ms/step - loss: 1.2502 - accuracy: 0.5085 - recall: 0.3186 - precision: 0.7581 - val_loss: 1.3402 - val_accuracy: 0.4429 - val_recall: 0.1571 - val_precision: 0.8462\n",
      "Epoch 49/80\n",
      "10/10 [==============================] - 4s 454ms/step - loss: 1.1552 - accuracy: 0.5390 - recall: 0.3390 - precision: 0.8065 - val_loss: 1.1254 - val_accuracy: 0.6286 - val_recall: 0.3143 - val_precision: 0.6875\n",
      "Epoch 50/80\n",
      "10/10 [==============================] - 4s 451ms/step - loss: 1.0457 - accuracy: 0.6102 - recall: 0.4373 - precision: 0.7818 - val_loss: 1.1730 - val_accuracy: 0.6571 - val_recall: 0.4143 - val_precision: 0.7632\n",
      "Epoch 51/80\n",
      "10/10 [==============================] - 4s 450ms/step - loss: 0.9713 - accuracy: 0.6102 - recall: 0.4814 - precision: 0.8208 - val_loss: 1.2383 - val_accuracy: 0.5286 - val_recall: 0.4429 - val_precision: 0.6739\n",
      "Epoch 52/80\n",
      "10/10 [==============================] - 4s 452ms/step - loss: 1.0284 - accuracy: 0.6034 - recall: 0.4237 - precision: 0.8224 - val_loss: 1.4371 - val_accuracy: 0.5857 - val_recall: 0.4429 - val_precision: 0.6739\n",
      "Epoch 53/80\n",
      "10/10 [==============================] - 4s 452ms/step - loss: 1.1098 - accuracy: 0.5864 - recall: 0.4169 - precision: 0.7935 - val_loss: 1.1865 - val_accuracy: 0.5857 - val_recall: 0.2571 - val_precision: 0.8571\n",
      "Epoch 54/80\n",
      "10/10 [==============================] - 4s 471ms/step - loss: 1.0497 - accuracy: 0.5898 - recall: 0.3966 - precision: 0.8239 - val_loss: 1.1976 - val_accuracy: 0.5143 - val_recall: 0.3714 - val_precision: 0.7027\n",
      "Epoch 55/80\n",
      "10/10 [==============================] - 4s 448ms/step - loss: 1.0077 - accuracy: 0.5797 - recall: 0.4169 - precision: 0.8255 - val_loss: 1.2478 - val_accuracy: 0.5000 - val_recall: 0.3857 - val_precision: 0.6750\n",
      "Epoch 56/80\n",
      "10/10 [==============================] - 5s 506ms/step - loss: 1.3361 - accuracy: 0.4305 - recall: 0.2305 - precision: 0.7234 - val_loss: 1.3585 - val_accuracy: 0.4286 - val_recall: 0.1286 - val_precision: 1.0000\n",
      "Epoch 57/80\n",
      "10/10 [==============================] - 4s 449ms/step - loss: 1.1253 - accuracy: 0.5322 - recall: 0.3831 - precision: 0.7687 - val_loss: 1.4050 - val_accuracy: 0.5143 - val_recall: 0.4000 - val_precision: 0.5957\n",
      "Epoch 58/80\n",
      "10/10 [==============================] - 5s 460ms/step - loss: 1.0552 - accuracy: 0.6271 - recall: 0.4237 - precision: 0.8446 - val_loss: 1.1463 - val_accuracy: 0.6000 - val_recall: 0.2714 - val_precision: 0.7600\n",
      "Epoch 59/80\n",
      "10/10 [==============================] - 4s 439ms/step - loss: 1.0076 - accuracy: 0.5763 - recall: 0.4610 - precision: 0.7907 - val_loss: 1.1624 - val_accuracy: 0.6143 - val_recall: 0.3857 - val_precision: 0.7500\n",
      "Epoch 60/80\n",
      "10/10 [==============================] - 4s 454ms/step - loss: 0.9926 - accuracy: 0.6203 - recall: 0.4102 - precision: 0.9030 - val_loss: 1.2069 - val_accuracy: 0.5286 - val_recall: 0.4143 - val_precision: 0.7436\n",
      "Epoch 61/80\n",
      "10/10 [==============================] - 4s 444ms/step - loss: 0.9424 - accuracy: 0.6203 - recall: 0.4983 - precision: 0.8033 - val_loss: 1.1472 - val_accuracy: 0.6286 - val_recall: 0.3714 - val_precision: 0.7222\n",
      "Epoch 62/80\n",
      "10/10 [==============================] - 5s 456ms/step - loss: 1.0559 - accuracy: 0.5966 - recall: 0.4169 - precision: 0.8039 - val_loss: 1.2356 - val_accuracy: 0.5571 - val_recall: 0.3143 - val_precision: 0.6875\n",
      "Epoch 63/80\n",
      "10/10 [==============================] - 5s 492ms/step - loss: 1.0410 - accuracy: 0.5797 - recall: 0.4068 - precision: 0.8333 - val_loss: 1.2971 - val_accuracy: 0.5571 - val_recall: 0.3286 - val_precision: 0.6765\n",
      "Epoch 64/80\n",
      "10/10 [==============================] - 4s 446ms/step - loss: 1.0724 - accuracy: 0.5627 - recall: 0.3695 - precision: 0.8450 - val_loss: 1.2132 - val_accuracy: 0.6000 - val_recall: 0.3714 - val_precision: 0.6500\n",
      "Epoch 65/80\n",
      "10/10 [==============================] - 5s 456ms/step - loss: 1.0710 - accuracy: 0.5695 - recall: 0.3966 - precision: 0.7959 - val_loss: 1.1563 - val_accuracy: 0.6286 - val_recall: 0.3286 - val_precision: 0.6970\n",
      "Epoch 66/80\n",
      "10/10 [==============================] - 5s 457ms/step - loss: 0.9802 - accuracy: 0.6339 - recall: 0.4339 - precision: 0.8533 - val_loss: 1.2694 - val_accuracy: 0.5571 - val_recall: 0.4286 - val_precision: 0.6522\n",
      "Epoch 67/80\n",
      "10/10 [==============================] - 4s 436ms/step - loss: 1.0824 - accuracy: 0.5797 - recall: 0.3864 - precision: 0.8201 - val_loss: 1.1449 - val_accuracy: 0.5857 - val_recall: 0.2857 - val_precision: 0.7692\n",
      "Epoch 68/80\n",
      "10/10 [==============================] - 4s 429ms/step - loss: 1.0139 - accuracy: 0.6203 - recall: 0.4678 - precision: 0.7797 - val_loss: 1.1635 - val_accuracy: 0.6000 - val_recall: 0.4000 - val_precision: 0.6667\n",
      "Epoch 69/80\n",
      "10/10 [==============================] - 5s 467ms/step - loss: 0.9505 - accuracy: 0.6339 - recall: 0.4508 - precision: 0.8418 - val_loss: 1.1110 - val_accuracy: 0.6286 - val_recall: 0.4000 - val_precision: 0.7000\n",
      "Epoch 70/80\n",
      "10/10 [==============================] - 4s 446ms/step - loss: 0.9531 - accuracy: 0.6068 - recall: 0.4712 - precision: 0.8274 - val_loss: 1.1161 - val_accuracy: 0.6429 - val_recall: 0.3857 - val_precision: 0.6923\n",
      "Epoch 71/80\n",
      "10/10 [==============================] - 4s 424ms/step - loss: 1.0031 - accuracy: 0.6034 - recall: 0.4305 - precision: 0.8411 - val_loss: 1.2670 - val_accuracy: 0.5571 - val_recall: 0.3286 - val_precision: 0.6970\n",
      "Epoch 72/80\n",
      "10/10 [==============================] - 4s 435ms/step - loss: 1.0023 - accuracy: 0.6203 - recall: 0.4034 - precision: 0.8815 - val_loss: 1.1326 - val_accuracy: 0.6286 - val_recall: 0.4429 - val_precision: 0.7381\n",
      "Epoch 73/80\n",
      "10/10 [==============================] - 4s 453ms/step - loss: 0.9128 - accuracy: 0.6203 - recall: 0.4746 - precision: 0.8434 - val_loss: 1.1544 - val_accuracy: 0.6143 - val_recall: 0.4429 - val_precision: 0.7381\n",
      "Epoch 74/80\n",
      "10/10 [==============================] - 5s 457ms/step - loss: 0.8867 - accuracy: 0.6441 - recall: 0.5051 - precision: 0.8466 - val_loss: 1.2034 - val_accuracy: 0.5571 - val_recall: 0.4429 - val_precision: 0.6889\n",
      "Epoch 75/80\n",
      "10/10 [==============================] - 5s 510ms/step - loss: 0.9068 - accuracy: 0.6508 - recall: 0.4712 - precision: 0.8742 - val_loss: 1.3873 - val_accuracy: 0.5286 - val_recall: 0.4143 - val_precision: 0.6170\n",
      "Epoch 76/80\n",
      "10/10 [==============================] - 5s 461ms/step - loss: 0.9054 - accuracy: 0.6305 - recall: 0.4847 - precision: 0.8512 - val_loss: 1.1779 - val_accuracy: 0.5714 - val_recall: 0.4429 - val_precision: 0.7561\n",
      "Epoch 77/80\n",
      "10/10 [==============================] - 5s 457ms/step - loss: 0.8935 - accuracy: 0.6271 - recall: 0.4746 - precision: 0.8589 - val_loss: 1.1833 - val_accuracy: 0.5714 - val_recall: 0.4429 - val_precision: 0.7381\n",
      "Epoch 78/80\n",
      "10/10 [==============================] - 5s 490ms/step - loss: 0.8957 - accuracy: 0.6373 - recall: 0.4712 - precision: 0.9026 - val_loss: 1.1586 - val_accuracy: 0.6429 - val_recall: 0.4714 - val_precision: 0.7174\n",
      "Epoch 79/80\n",
      "10/10 [==============================] - 4s 442ms/step - loss: 0.9113 - accuracy: 0.6339 - recall: 0.4678 - precision: 0.8734 - val_loss: 1.2072 - val_accuracy: 0.6143 - val_recall: 0.5000 - val_precision: 0.7143\n",
      "Epoch 80/80\n",
      "10/10 [==============================] - 4s 437ms/step - loss: 0.8587 - accuracy: 0.6508 - recall: 0.5119 - precision: 0.8882 - val_loss: 1.1133 - val_accuracy: 0.6571 - val_recall: 0.4571 - val_precision: 0.7111\n"
     ]
    }
   ],
   "source": [
    "history5 = model5.fit(train_data, epochs = 80, validation_data = validation_data,\n",
    "    batch_size = 32)"
   ]
  },
  {
   "cell_type": "markdown",
   "id": "339850b1-d38d-48a2-9182-330f418dba04",
   "metadata": {},
   "source": [
    "#### Adding Results to DF"
   ]
  },
  {
   "cell_type": "code",
   "execution_count": 132,
   "id": "f528c242-465e-4749-a376-b55dd0b40002",
   "metadata": {},
   "outputs": [],
   "source": [
    "results_df2['train_accuracy'].iloc[5] = 0"
   ]
  },
  {
   "cell_type": "code",
   "execution_count": 133,
   "id": "54555175-7b0a-48ea-8960-53cfdb6a60b5",
   "metadata": {},
   "outputs": [],
   "source": [
    "results_df2['train_recall'].iloc[5] = 0"
   ]
  },
  {
   "cell_type": "code",
   "execution_count": 134,
   "id": "b7cb1172-a2be-4940-bd98-01995823ac2c",
   "metadata": {},
   "outputs": [],
   "source": [
    "results_df2['train_precision'].iloc[5] = 0"
   ]
  },
  {
   "cell_type": "code",
   "execution_count": 135,
   "id": "5c83166b-1839-45ae-8e77-d91804125a1d",
   "metadata": {},
   "outputs": [],
   "source": [
    "results_df2['val_accuracy'].iloc[5] = 0"
   ]
  },
  {
   "cell_type": "code",
   "execution_count": 136,
   "id": "a5e8d5ca-67f3-40f1-8ad8-c3005e069086",
   "metadata": {},
   "outputs": [],
   "source": [
    "results_df2['val_recall'].iloc[5] = 0"
   ]
  },
  {
   "cell_type": "code",
   "execution_count": 137,
   "id": "2d4054c7-e31a-4263-8cdf-ee0955721594",
   "metadata": {},
   "outputs": [],
   "source": [
    "results_df2['val_precision'].iloc[5] = 0"
   ]
  },
  {
   "cell_type": "code",
   "execution_count": 138,
   "id": "3ca87a19-3a3a-4094-b2ca-112bcf255a10",
   "metadata": {},
   "outputs": [
    {
     "data": {
      "image/png": "[encoded data removed]",
      "text/plain": [
       "<Figure size 432x288 with 1 Axes>"
      ]
     },
     "metadata": {
      "needs_background": "light"
     },
     "output_type": "display_data"
    }
   ],
   "source": [
    "plt.plot(history5.history['accuracy'], label='Train Accuracy')\n",
    "plt.plot(history5.history['val_accuracy'], label = 'Val Accuracy')\n",
    "plt.plot(history5.history['precision'], label = 'precision')\n",
    "plt.plot(history5.history['val_precision'], label = 'val_precision')\n",
    "plt.plot(history5.history['recall'], label = 'recall')\n",
    "plt.plot(history5.history['val_recall'], label = 'val_recall')\n",
    "plt.legend() \n",
    "plt.yticks([0,0.2,0.4,0.6, 0.8,1]) \n",
    "plt.xlabel('Epoch')\n",
    "plt.ylabel('Metric')\n",
    "plt.title('Train Vs Validation Metric Results');"
   ]
  },
  {
   "cell_type": "markdown",
   "id": "069c1225-525f-44ce-bf6a-544cbbecde12",
   "metadata": {},
   "source": []
  },
  {
   "cell_type": "code",
   "execution_count": 139,
   "id": "0b68d1f5-d8a3-417b-bf07-42187bbcbb9a",
   "metadata": {},
   "outputs": [
    {
     "data": {
      "image/png": "[encoded data removed]",
      "text/plain": [
       "<Figure size 432x288 with 1 Axes>"
      ]
     },
     "metadata": {
      "needs_background": "light"
     },
     "output_type": "display_data"
    }
   ],
   "source": [
    "plt.plot(history5.history['loss'], label = 'Train Loss')\n",
    "plt.plot(history5.history['val_loss'], label = 'Val Loss')\n",
    "plt.legend()\n",
    "plt.xlabel('Epoch')\n",
    "plt.ylabel('Loss')\n",
    "plt.title('Train vs Validation Loss Results');"
   ]
  },
  {
   "cell_type": "markdown",
   "id": "f95b0495-2d30-4448-8b6f-fd9125bfeb9a",
   "metadata": {},
   "source": [
    "### Test Data"
   ]
  },
  {
   "cell_type": "code",
   "execution_count": 140,
   "id": "f72b0329-25d6-426e-bae0-3887f55baa17",
   "metadata": {},
   "outputs": [],
   "source": [
    "# reference: https://towardsdatascience.com/confusion-matrix-for-your-multi-class-machine-learning-model-ff9aa3bf7826"
   ]
  },
  {
   "cell_type": "code",
   "execution_count": 141,
   "id": "d71103c0-ccaf-423a-b51f-0419628a4893",
   "metadata": {},
   "outputs": [
    {
     "name": "stdout",
     "output_type": "stream",
     "text": [
      "3/3 [==============================] - 1s 293ms/step - loss: 1.7146 - accuracy: 0.4333 - recall: 0.3333 - precision: 0.6122\n",
      "WARNING:tensorflow:5 out of the last 16 calls to <function Model.make_predict_function.<locals>.predict_function at 0x7fcf5c8fcaf0> triggered tf.function retracing. Tracing is expensive and the excessive number of tracings could be due to (1) creating @tf.function repeatedly in a loop, (2) passing tensors with different shapes, (3) passing Python objects instead of tensors. For (1), please define your @tf.function outside of the loop. For (2), @tf.function has experimental_relax_shapes=True option that relaxes argument shapes that can avoid unnecessary retracing. For (3), please refer to https://www.tensorflow.org/guide/function#controlling_retracing and https://www.tensorflow.org/api_docs/python/tf/function for  more details.\n"
     ]
    }
   ],
   "source": [
    "model5.evaluate(test_data)\n",
    "\n",
    "preds5 = model5.predict(test_data) > 0.5\n",
    "\n",
    "preds5 = preds5.astype(int)\n",
    "\n",
    "test_data_values = test_data.labels \n",
    "\n",
    "cm = confusion_matrix(test_data_values, preds5.argmax(axis=1))"
   ]
  },
  {
   "cell_type": "markdown",
   "id": "580a25bf-4f7c-4339-8e40-c96db59e7ebc",
   "metadata": {},
   "source": [
    "#### Adding Results to DF"
   ]
  },
  {
   "cell_type": "code",
   "execution_count": 142,
   "id": "39fc86fb-5526-49b4-adfc-c2948adebda2",
   "metadata": {},
   "outputs": [],
   "source": [
    "results_df2['test_accuracy'].iloc[5] = 0"
   ]
  },
  {
   "cell_type": "code",
   "execution_count": 143,
   "id": "ba64e5d6-8465-4372-b013-1a3c3a326b83",
   "metadata": {},
   "outputs": [],
   "source": [
    "results_df2['test_recall'].iloc[5] = 0"
   ]
  },
  {
   "cell_type": "code",
   "execution_count": 144,
   "id": "8b0247c3-4ce8-4006-af9c-ad2be1f8bef2",
   "metadata": {},
   "outputs": [],
   "source": [
    "results_df2['test_precision'].iloc[5]  =  0"
   ]
  },
  {
   "cell_type": "markdown",
   "id": "3a1fb7f0-d5b8-4c5c-b251-fb63464a58d4",
   "metadata": {},
   "source": [
    "#### Confusion Matrix"
   ]
  },
  {
   "cell_type": "code",
   "execution_count": 145,
   "id": "d2581405-5ac6-4bf5-a8e3-cab9e097ece3",
   "metadata": {},
   "outputs": [
    {
     "name": "stdout",
     "output_type": "stream",
     "text": [
      "              effusion  normal  otitis_media  tube  unclear\n",
      "effusion             6       2             0     0        0\n",
      "normal              10      19             0     5        0\n",
      "otitis_media        10       1             1     4        0\n",
      "tube                 8       1             0    10        0\n",
      "unclear              7       6             0     0        0\n"
     ]
    }
   ],
   "source": [
    "print(pd.DataFrame(cm, index = ['effusion', 'normal', 'otitis_media', 'tube', 'unclear'], columns = ['effusion', 'normal', 'otitis_media', 'tube', 'unclear']))\n",
    "#Confusion Matrix\n",
    "#Column is True Class \n",
    "#Row is Predicted Class \n",
    "#Diag Match"
   ]
  },
  {
   "cell_type": "markdown",
   "id": "a7cb8425-2644-4c30-ae32-a0c7f6e1a9d7",
   "metadata": {},
   "source": [
    "#### Classification Report "
   ]
  },
  {
   "cell_type": "code",
   "execution_count": 146,
   "id": "95528ac8-8186-447f-b7ba-968f72964fe8",
   "metadata": {},
   "outputs": [
    {
     "name": "stdout",
     "output_type": "stream",
     "text": [
      "              precision    recall  f1-score   support\n",
      "\n",
      "    effusion       0.15      0.75      0.24         8\n",
      "      normal       0.66      0.56      0.60        34\n",
      "otitis_media       1.00      0.06      0.12        16\n",
      "        tube       0.53      0.53      0.53        19\n",
      "     unclear       0.00      0.00      0.00        13\n",
      "\n",
      "    accuracy                           0.40        90\n",
      "   macro avg       0.47      0.38      0.30        90\n",
      "weighted avg       0.55      0.40      0.38        90\n",
      "\n"
     ]
    },
    {
     "name": "stderr",
     "output_type": "stream",
     "text": [
      "/Users/annafunsten/opt/anaconda3/lib/python3.8/site-packages/sklearn/metrics/_classification.py:1245: UndefinedMetricWarning: Precision and F-score are ill-defined and being set to 0.0 in labels with no predicted samples. Use `zero_division` parameter to control this behavior.\n",
      "  _warn_prf(average, modifier, msg_start, len(result))\n",
      "/Users/annafunsten/opt/anaconda3/lib/python3.8/site-packages/sklearn/metrics/_classification.py:1245: UndefinedMetricWarning: Precision and F-score are ill-defined and being set to 0.0 in labels with no predicted samples. Use `zero_division` parameter to control this behavior.\n",
      "  _warn_prf(average, modifier, msg_start, len(result))\n",
      "/Users/annafunsten/opt/anaconda3/lib/python3.8/site-packages/sklearn/metrics/_classification.py:1245: UndefinedMetricWarning: Precision and F-score are ill-defined and being set to 0.0 in labels with no predicted samples. Use `zero_division` parameter to control this behavior.\n",
      "  _warn_prf(average, modifier, msg_start, len(result))\n"
     ]
    }
   ],
   "source": [
    "print(classification_report(test_data_values, preds5.argmax(axis=1), target_names = ['effusion', 'normal', 'otitis_media', 'tube', 'unclear']))\n",
    "#F1 Score is the 2*((precision*recall)/(precision+recall)) \n",
    "#TP/(TP+FP)\n",
    "#TP/(TP+FN)."
   ]
  },
  {
   "cell_type": "markdown",
   "id": "5369e304-fbf5-481e-8bc2-b97a0011cc54",
   "metadata": {},
   "source": [
    "## Model 6: Adding Convolutional Operation"
   ]
  },
  {
   "cell_type": "code",
   "execution_count": 147,
   "id": "c1d615d2-5886-4969-90df-fd90cf45b2d9",
   "metadata": {},
   "outputs": [],
   "source": [
    "model6 = Sequential()\n",
    "model6.add(Conv2D(filters = 10, kernel_size = (3, 3), activation = 'relu'))\n",
    "model6.add(Flatten())\n",
    "model6.add(Dense(100, activation = 'relu'))\n",
    "model6.add(Dropout(0.1))\n",
    "model6.add(Dense(50, activation = 'relu'))\n",
    "model6.add(Dense(5, activation = 'softmax'))\n",
    "\n",
    "model6.compile(loss = 'categorical_crossentropy', optimizer = 'adam', metrics = ['accuracy', 'Recall', 'Precision'])\n"
   ]
  },
  {
   "cell_type": "code",
   "execution_count": 148,
   "id": "757c9e04-05ea-4637-b8d9-16e9b28526a8",
   "metadata": {
    "tags": []
   },
   "outputs": [
    {
     "name": "stdout",
     "output_type": "stream",
     "text": [
      "Epoch 1/80\n",
      "10/10 [==============================] - 8s 728ms/step - loss: 44.4657 - accuracy: 0.2475 - recall: 0.2407 - precision: 0.2710 - val_loss: 26.1506 - val_accuracy: 0.2143 - val_recall: 0.2143 - val_precision: 0.2143\n",
      "Epoch 2/80\n",
      "10/10 [==============================] - 7s 657ms/step - loss: 18.1654 - accuracy: 0.3220 - recall: 0.3153 - precision: 0.3174 - val_loss: 3.6591 - val_accuracy: 0.3857 - val_recall: 0.3429 - val_precision: 0.4000\n",
      "Epoch 3/80\n",
      "10/10 [==============================] - 7s 666ms/step - loss: 6.0110 - accuracy: 0.3593 - recall: 0.3525 - precision: 0.3649 - val_loss: 2.5005 - val_accuracy: 0.2857 - val_recall: 0.2571 - val_precision: 0.2903\n",
      "Epoch 4/80\n",
      "10/10 [==============================] - 7s 666ms/step - loss: 3.3125 - accuracy: 0.4068 - recall: 0.3729 - precision: 0.4167 - val_loss: 1.5589 - val_accuracy: 0.5143 - val_recall: 0.5000 - val_precision: 0.5932\n",
      "Epoch 5/80\n",
      "10/10 [==============================] - 7s 672ms/step - loss: 1.5591 - accuracy: 0.5186 - recall: 0.4610 - precision: 0.5812 - val_loss: 1.1675 - val_accuracy: 0.5143 - val_recall: 0.3571 - val_precision: 0.6579\n",
      "Epoch 6/80\n",
      "10/10 [==============================] - 6s 615ms/step - loss: 1.2852 - accuracy: 0.5525 - recall: 0.4102 - precision: 0.6402 - val_loss: 1.2324 - val_accuracy: 0.5571 - val_recall: 0.3571 - val_precision: 0.6579\n",
      "Epoch 7/80\n",
      "10/10 [==============================] - 6s 642ms/step - loss: 1.1915 - accuracy: 0.5932 - recall: 0.4746 - precision: 0.6863 - val_loss: 1.2095 - val_accuracy: 0.5143 - val_recall: 0.3143 - val_precision: 0.7333\n",
      "Epoch 8/80\n",
      "10/10 [==============================] - 6s 669ms/step - loss: 1.1060 - accuracy: 0.6068 - recall: 0.4373 - precision: 0.7049 - val_loss: 1.1218 - val_accuracy: 0.5571 - val_recall: 0.3143 - val_precision: 0.8462\n",
      "Epoch 9/80\n",
      "10/10 [==============================] - 7s 663ms/step - loss: 0.9499 - accuracy: 0.6881 - recall: 0.5153 - precision: 0.7876 - val_loss: 1.1270 - val_accuracy: 0.5857 - val_recall: 0.3714 - val_precision: 0.6500\n",
      "Epoch 10/80\n",
      "10/10 [==============================] - 6s 619ms/step - loss: 0.8379 - accuracy: 0.7153 - recall: 0.5695 - precision: 0.8038 - val_loss: 0.9885 - val_accuracy: 0.6429 - val_recall: 0.4286 - val_precision: 0.6977\n",
      "Epoch 11/80\n",
      "10/10 [==============================] - 7s 673ms/step - loss: 0.8290 - accuracy: 0.7017 - recall: 0.5898 - precision: 0.7909 - val_loss: 1.1892 - val_accuracy: 0.5857 - val_recall: 0.5000 - val_precision: 0.7447\n",
      "Epoch 12/80\n",
      "10/10 [==============================] - 6s 631ms/step - loss: 0.9166 - accuracy: 0.6814 - recall: 0.5322 - precision: 0.8051 - val_loss: 1.2216 - val_accuracy: 0.6000 - val_recall: 0.4857 - val_precision: 0.6538\n",
      "Epoch 13/80\n",
      "10/10 [==============================] - 7s 692ms/step - loss: 0.7159 - accuracy: 0.7525 - recall: 0.5966 - precision: 0.8263 - val_loss: 1.0504 - val_accuracy: 0.6714 - val_recall: 0.4571 - val_precision: 0.7273\n",
      "Epoch 14/80\n",
      "10/10 [==============================] - 7s 669ms/step - loss: 0.6763 - accuracy: 0.7864 - recall: 0.6610 - precision: 0.8824 - val_loss: 1.2564 - val_accuracy: 0.4857 - val_recall: 0.4000 - val_precision: 0.6222\n",
      "Epoch 15/80\n",
      "10/10 [==============================] - 6s 634ms/step - loss: 0.6436 - accuracy: 0.7695 - recall: 0.6678 - precision: 0.8528 - val_loss: 0.9815 - val_accuracy: 0.6857 - val_recall: 0.5000 - val_precision: 0.7292\n",
      "Epoch 16/80\n",
      "10/10 [==============================] - 7s 654ms/step - loss: 0.6139 - accuracy: 0.7966 - recall: 0.7051 - precision: 0.8525 - val_loss: 0.9062 - val_accuracy: 0.7000 - val_recall: 0.5286 - val_precision: 0.7551\n",
      "Epoch 17/80\n",
      "10/10 [==============================] - 6s 640ms/step - loss: 0.4359 - accuracy: 0.8610 - recall: 0.7864 - precision: 0.9170 - val_loss: 1.0636 - val_accuracy: 0.6857 - val_recall: 0.6143 - val_precision: 0.7544\n",
      "Epoch 18/80\n",
      "10/10 [==============================] - 6s 637ms/step - loss: 0.4188 - accuracy: 0.8712 - recall: 0.8136 - precision: 0.9195 - val_loss: 1.0626 - val_accuracy: 0.6714 - val_recall: 0.6429 - val_precision: 0.7377\n",
      "Epoch 19/80\n",
      "10/10 [==============================] - 6s 629ms/step - loss: 0.3478 - accuracy: 0.8780 - recall: 0.8339 - precision: 0.9145 - val_loss: 0.8929 - val_accuracy: 0.7000 - val_recall: 0.6286 - val_precision: 0.7458\n",
      "Epoch 20/80\n",
      "10/10 [==============================] - 6s 635ms/step - loss: 0.3048 - accuracy: 0.9288 - recall: 0.8881 - precision: 0.9597 - val_loss: 1.0759 - val_accuracy: 0.6429 - val_recall: 0.6000 - val_precision: 0.7500\n",
      "Epoch 21/80\n",
      "10/10 [==============================] - 6s 628ms/step - loss: 0.2464 - accuracy: 0.9288 - recall: 0.8915 - precision: 0.9529 - val_loss: 1.1005 - val_accuracy: 0.6857 - val_recall: 0.6000 - val_precision: 0.7500\n",
      "Epoch 22/80\n",
      "10/10 [==============================] - 6s 628ms/step - loss: 0.2595 - accuracy: 0.9051 - recall: 0.8644 - precision: 0.9341 - val_loss: 0.9912 - val_accuracy: 0.6857 - val_recall: 0.6429 - val_precision: 0.6818\n",
      "Epoch 23/80\n",
      "10/10 [==============================] - 6s 641ms/step - loss: 0.2720 - accuracy: 0.9220 - recall: 0.8983 - precision: 0.9464 - val_loss: 1.3493 - val_accuracy: 0.6143 - val_recall: 0.5857 - val_precision: 0.6406\n",
      "Epoch 24/80\n",
      "10/10 [==============================] - 6s 625ms/step - loss: 0.2653 - accuracy: 0.9322 - recall: 0.9085 - precision: 0.9470 - val_loss: 1.1037 - val_accuracy: 0.7143 - val_recall: 0.6571 - val_precision: 0.7541\n",
      "Epoch 25/80\n",
      "10/10 [==============================] - 6s 624ms/step - loss: 0.2140 - accuracy: 0.9492 - recall: 0.9051 - precision: 0.9570 - val_loss: 1.4024 - val_accuracy: 0.6714 - val_recall: 0.6571 - val_precision: 0.6866\n",
      "Epoch 26/80\n",
      "10/10 [==============================] - 6s 627ms/step - loss: 0.2305 - accuracy: 0.9390 - recall: 0.9017 - precision: 0.9534 - val_loss: 1.3021 - val_accuracy: 0.6286 - val_recall: 0.6000 - val_precision: 0.6667\n",
      "Epoch 27/80\n",
      "10/10 [==============================] - 6s 606ms/step - loss: 0.1918 - accuracy: 0.9559 - recall: 0.9322 - precision: 0.9683 - val_loss: 1.3869 - val_accuracy: 0.6286 - val_recall: 0.6000 - val_precision: 0.6562\n",
      "Epoch 28/80\n",
      "10/10 [==============================] - 6s 612ms/step - loss: 0.1723 - accuracy: 0.9424 - recall: 0.9254 - precision: 0.9579 - val_loss: 1.2639 - val_accuracy: 0.7000 - val_recall: 0.6143 - val_precision: 0.6719\n",
      "Epoch 29/80\n",
      "10/10 [==============================] - 6s 657ms/step - loss: 0.1585 - accuracy: 0.9559 - recall: 0.9424 - precision: 0.9686 - val_loss: 1.3609 - val_accuracy: 0.6571 - val_recall: 0.6286 - val_precision: 0.6769\n",
      "Epoch 30/80\n",
      "10/10 [==============================] - 6s 631ms/step - loss: 0.1904 - accuracy: 0.9559 - recall: 0.9356 - precision: 0.9650 - val_loss: 1.7046 - val_accuracy: 0.6571 - val_recall: 0.6571 - val_precision: 0.6765\n",
      "Epoch 31/80\n",
      "10/10 [==============================] - 6s 616ms/step - loss: 0.1869 - accuracy: 0.9390 - recall: 0.9119 - precision: 0.9573 - val_loss: 1.5315 - val_accuracy: 0.6857 - val_recall: 0.6429 - val_precision: 0.7031\n",
      "Epoch 32/80\n",
      "10/10 [==============================] - 6s 621ms/step - loss: 0.1522 - accuracy: 0.9424 - recall: 0.9288 - precision: 0.9682 - val_loss: 1.5999 - val_accuracy: 0.6714 - val_recall: 0.6286 - val_precision: 0.6769\n",
      "Epoch 33/80\n",
      "10/10 [==============================] - 6s 612ms/step - loss: 0.1295 - accuracy: 0.9695 - recall: 0.9559 - precision: 0.9724 - val_loss: 1.5123 - val_accuracy: 0.6571 - val_recall: 0.6000 - val_precision: 0.6562\n",
      "Epoch 34/80\n",
      "10/10 [==============================] - 6s 613ms/step - loss: 0.0995 - accuracy: 0.9695 - recall: 0.9661 - precision: 0.9828 - val_loss: 1.5966 - val_accuracy: 0.6571 - val_recall: 0.6429 - val_precision: 0.6716\n",
      "Epoch 35/80\n",
      "10/10 [==============================] - 6s 662ms/step - loss: 0.1400 - accuracy: 0.9627 - recall: 0.9627 - precision: 0.9726 - val_loss: 1.4102 - val_accuracy: 0.6571 - val_recall: 0.6429 - val_precision: 0.6716\n",
      "Epoch 36/80\n",
      "10/10 [==============================] - 6s 619ms/step - loss: 0.0951 - accuracy: 0.9763 - recall: 0.9763 - precision: 0.9897 - val_loss: 1.4129 - val_accuracy: 0.6857 - val_recall: 0.6571 - val_precision: 0.6970\n",
      "Epoch 37/80\n",
      "10/10 [==============================] - 6s 633ms/step - loss: 0.1013 - accuracy: 0.9661 - recall: 0.9593 - precision: 0.9692 - val_loss: 1.5848 - val_accuracy: 0.6571 - val_recall: 0.6571 - val_precision: 0.6866\n",
      "Epoch 38/80\n",
      "10/10 [==============================] - 6s 634ms/step - loss: 0.1102 - accuracy: 0.9661 - recall: 0.9593 - precision: 0.9826 - val_loss: 1.3221 - val_accuracy: 0.7000 - val_recall: 0.6857 - val_precision: 0.7059\n",
      "Epoch 39/80\n",
      "10/10 [==============================] - 6s 603ms/step - loss: 0.0904 - accuracy: 0.9729 - recall: 0.9661 - precision: 0.9828 - val_loss: 1.2995 - val_accuracy: 0.7000 - val_recall: 0.6571 - val_precision: 0.7419\n",
      "Epoch 40/80\n",
      "10/10 [==============================] - 6s 613ms/step - loss: 0.1097 - accuracy: 0.9695 - recall: 0.9627 - precision: 0.9759 - val_loss: 1.5101 - val_accuracy: 0.6714 - val_recall: 0.6571 - val_precision: 0.6667\n",
      "Epoch 41/80\n",
      "10/10 [==============================] - 6s 638ms/step - loss: 0.0908 - accuracy: 0.9864 - recall: 0.9797 - precision: 0.9863 - val_loss: 1.3841 - val_accuracy: 0.7143 - val_recall: 0.6714 - val_precision: 0.7344\n",
      "Epoch 42/80\n",
      "10/10 [==============================] - 6s 624ms/step - loss: 0.0799 - accuracy: 0.9797 - recall: 0.9763 - precision: 0.9796 - val_loss: 1.4522 - val_accuracy: 0.6286 - val_recall: 0.6143 - val_precision: 0.6515\n",
      "Epoch 43/80\n",
      "10/10 [==============================] - 6s 606ms/step - loss: 0.0992 - accuracy: 0.9729 - recall: 0.9661 - precision: 0.9760 - val_loss: 1.5745 - val_accuracy: 0.6143 - val_recall: 0.6000 - val_precision: 0.6462\n",
      "Epoch 44/80\n",
      "10/10 [==============================] - 6s 626ms/step - loss: 0.1835 - accuracy: 0.9458 - recall: 0.9356 - precision: 0.9583 - val_loss: 1.4103 - val_accuracy: 0.6857 - val_recall: 0.6857 - val_precision: 0.7273\n",
      "Epoch 45/80\n",
      "10/10 [==============================] - 6s 620ms/step - loss: 0.0593 - accuracy: 0.9797 - recall: 0.9763 - precision: 0.9863 - val_loss: 1.2920 - val_accuracy: 0.7429 - val_recall: 0.6857 - val_precision: 0.7385\n",
      "Epoch 46/80\n",
      "10/10 [==============================] - 6s 651ms/step - loss: 0.1070 - accuracy: 0.9525 - recall: 0.9525 - precision: 0.9690 - val_loss: 1.4926 - val_accuracy: 0.6714 - val_recall: 0.6571 - val_precision: 0.6765\n",
      "Epoch 47/80\n",
      "10/10 [==============================] - 6s 603ms/step - loss: 0.0565 - accuracy: 0.9932 - recall: 0.9864 - precision: 0.9932 - val_loss: 1.5116 - val_accuracy: 0.6571 - val_recall: 0.6571 - val_precision: 0.6866\n",
      "Epoch 48/80\n",
      "10/10 [==============================] - 6s 605ms/step - loss: 0.0435 - accuracy: 0.9831 - recall: 0.9831 - precision: 0.9831 - val_loss: 1.3973 - val_accuracy: 0.7000 - val_recall: 0.6571 - val_precision: 0.7077\n",
      "Epoch 49/80\n",
      "10/10 [==============================] - 6s 623ms/step - loss: 0.0441 - accuracy: 0.9932 - recall: 0.9898 - precision: 0.9966 - val_loss: 1.7532 - val_accuracy: 0.6857 - val_recall: 0.6857 - val_precision: 0.7059\n",
      "Epoch 50/80\n",
      "10/10 [==============================] - 6s 617ms/step - loss: 0.0401 - accuracy: 0.9898 - recall: 0.9898 - precision: 1.0000 - val_loss: 1.6655 - val_accuracy: 0.7000 - val_recall: 0.6714 - val_precision: 0.6912\n",
      "Epoch 51/80\n",
      "10/10 [==============================] - 6s 622ms/step - loss: 0.0442 - accuracy: 0.9831 - recall: 0.9797 - precision: 0.9897 - val_loss: 1.7803 - val_accuracy: 0.6429 - val_recall: 0.6429 - val_precision: 0.6716\n",
      "Epoch 52/80\n",
      "10/10 [==============================] - 6s 633ms/step - loss: 0.0676 - accuracy: 0.9831 - recall: 0.9797 - precision: 0.9830 - val_loss: 1.6492 - val_accuracy: 0.6714 - val_recall: 0.6714 - val_precision: 0.6812\n",
      "Epoch 53/80\n",
      "10/10 [==============================] - 6s 668ms/step - loss: 0.0646 - accuracy: 0.9831 - recall: 0.9831 - precision: 0.9966 - val_loss: 1.9472 - val_accuracy: 0.6714 - val_recall: 0.6429 - val_precision: 0.6716\n",
      "Epoch 54/80\n",
      "10/10 [==============================] - 6s 620ms/step - loss: 0.0356 - accuracy: 0.9932 - recall: 0.9932 - precision: 0.9932 - val_loss: 1.6227 - val_accuracy: 0.6714 - val_recall: 0.6429 - val_precision: 0.6818\n",
      "Epoch 55/80\n",
      "10/10 [==============================] - 6s 655ms/step - loss: 0.0601 - accuracy: 0.9797 - recall: 0.9763 - precision: 0.9829 - val_loss: 1.7303 - val_accuracy: 0.6571 - val_recall: 0.6429 - val_precision: 0.6522\n",
      "Epoch 56/80\n",
      "10/10 [==============================] - 6s 613ms/step - loss: 0.0370 - accuracy: 0.9898 - recall: 0.9898 - precision: 0.9898 - val_loss: 2.0622 - val_accuracy: 0.6857 - val_recall: 0.6857 - val_precision: 0.6857\n",
      "Epoch 57/80\n",
      "10/10 [==============================] - 6s 627ms/step - loss: 0.0308 - accuracy: 0.9966 - recall: 0.9932 - precision: 1.0000 - val_loss: 1.5439 - val_accuracy: 0.6857 - val_recall: 0.6571 - val_precision: 0.7077\n",
      "Epoch 58/80\n",
      "10/10 [==============================] - 6s 611ms/step - loss: 0.0420 - accuracy: 0.9932 - recall: 0.9864 - precision: 0.9932 - val_loss: 1.8776 - val_accuracy: 0.6286 - val_recall: 0.6143 - val_precision: 0.6515\n",
      "Epoch 59/80\n",
      "10/10 [==============================] - 6s 658ms/step - loss: 0.0528 - accuracy: 0.9763 - recall: 0.9729 - precision: 0.9795 - val_loss: 1.8295 - val_accuracy: 0.6429 - val_recall: 0.6286 - val_precision: 0.6567\n",
      "Epoch 60/80\n",
      "10/10 [==============================] - 6s 617ms/step - loss: 0.0681 - accuracy: 0.9864 - recall: 0.9831 - precision: 0.9898 - val_loss: 2.0182 - val_accuracy: 0.6857 - val_recall: 0.6857 - val_precision: 0.6957\n",
      "Epoch 61/80\n",
      "10/10 [==============================] - 6s 613ms/step - loss: 0.0521 - accuracy: 0.9864 - recall: 0.9864 - precision: 0.9898 - val_loss: 1.8685 - val_accuracy: 0.6857 - val_recall: 0.6714 - val_precision: 0.6912\n",
      "Epoch 62/80\n",
      "10/10 [==============================] - 6s 655ms/step - loss: 0.0424 - accuracy: 0.9898 - recall: 0.9898 - precision: 0.9898 - val_loss: 1.9549 - val_accuracy: 0.6857 - val_recall: 0.6857 - val_precision: 0.7059\n",
      "Epoch 63/80\n",
      "10/10 [==============================] - 6s 627ms/step - loss: 0.0398 - accuracy: 0.9864 - recall: 0.9831 - precision: 0.9864 - val_loss: 1.9371 - val_accuracy: 0.7000 - val_recall: 0.6857 - val_precision: 0.6957\n",
      "Epoch 64/80\n",
      "10/10 [==============================] - 7s 646ms/step - loss: 0.0247 - accuracy: 0.9966 - recall: 0.9966 - precision: 0.9966 - val_loss: 1.8512 - val_accuracy: 0.7000 - val_recall: 0.6714 - val_precision: 0.6912\n",
      "Epoch 65/80\n",
      "10/10 [==============================] - 7s 665ms/step - loss: 0.0408 - accuracy: 0.9898 - recall: 0.9864 - precision: 0.9898 - val_loss: 1.9076 - val_accuracy: 0.7000 - val_recall: 0.6857 - val_precision: 0.7273\n",
      "Epoch 66/80\n",
      "10/10 [==============================] - 6s 627ms/step - loss: 0.0236 - accuracy: 0.9966 - recall: 0.9966 - precision: 0.9966 - val_loss: 1.8421 - val_accuracy: 0.7000 - val_recall: 0.7000 - val_precision: 0.7101\n",
      "Epoch 67/80\n",
      "10/10 [==============================] - 6s 622ms/step - loss: 0.0441 - accuracy: 0.9898 - recall: 0.9864 - precision: 0.9898 - val_loss: 2.2178 - val_accuracy: 0.6857 - val_recall: 0.6714 - val_precision: 0.6912\n",
      "Epoch 68/80\n",
      "10/10 [==============================] - 6s 622ms/step - loss: 0.0508 - accuracy: 0.9831 - recall: 0.9797 - precision: 0.9863 - val_loss: 2.0374 - val_accuracy: 0.7286 - val_recall: 0.7000 - val_precision: 0.7313\n",
      "Epoch 69/80\n",
      "10/10 [==============================] - 6s 612ms/step - loss: 0.0610 - accuracy: 0.9831 - recall: 0.9831 - precision: 0.9864 - val_loss: 1.9283 - val_accuracy: 0.7143 - val_recall: 0.7000 - val_precision: 0.7206\n",
      "Epoch 70/80\n",
      "10/10 [==============================] - 6s 636ms/step - loss: 0.0458 - accuracy: 0.9898 - recall: 0.9864 - precision: 0.9898 - val_loss: 2.0245 - val_accuracy: 0.6857 - val_recall: 0.6714 - val_precision: 0.6812\n",
      "Epoch 71/80\n",
      "10/10 [==============================] - 6s 621ms/step - loss: 0.0379 - accuracy: 0.9831 - recall: 0.9831 - precision: 0.9898 - val_loss: 2.2101 - val_accuracy: 0.6714 - val_recall: 0.6714 - val_precision: 0.6812\n",
      "Epoch 72/80\n",
      "10/10 [==============================] - 6s 656ms/step - loss: 0.0770 - accuracy: 0.9695 - recall: 0.9695 - precision: 0.9761 - val_loss: 1.9905 - val_accuracy: 0.7143 - val_recall: 0.7000 - val_precision: 0.7313\n",
      "Epoch 73/80\n",
      "10/10 [==============================] - 6s 679ms/step - loss: 0.0534 - accuracy: 0.9864 - recall: 0.9864 - precision: 0.9898 - val_loss: 2.0793 - val_accuracy: 0.6714 - val_recall: 0.6571 - val_precision: 0.6866\n",
      "Epoch 74/80\n",
      "10/10 [==============================] - 6s 633ms/step - loss: 0.0585 - accuracy: 0.9831 - recall: 0.9831 - precision: 0.9898 - val_loss: 1.8742 - val_accuracy: 0.6714 - val_recall: 0.6714 - val_precision: 0.6812\n",
      "Epoch 75/80\n",
      "10/10 [==============================] - 6s 633ms/step - loss: 0.0570 - accuracy: 0.9831 - recall: 0.9797 - precision: 0.9830 - val_loss: 1.8333 - val_accuracy: 0.6571 - val_recall: 0.6571 - val_precision: 0.6765\n",
      "Epoch 76/80\n",
      "10/10 [==============================] - 7s 660ms/step - loss: 0.0427 - accuracy: 0.9932 - recall: 0.9932 - precision: 0.9932 - val_loss: 1.8567 - val_accuracy: 0.6429 - val_recall: 0.6143 - val_precision: 0.6418\n",
      "Epoch 77/80\n",
      "10/10 [==============================] - 7s 675ms/step - loss: 0.0416 - accuracy: 0.9898 - recall: 0.9864 - precision: 0.9932 - val_loss: 1.9610 - val_accuracy: 0.7286 - val_recall: 0.7143 - val_precision: 0.7246\n",
      "Epoch 78/80\n",
      "10/10 [==============================] - 7s 700ms/step - loss: 0.0234 - accuracy: 0.9932 - recall: 0.9932 - precision: 0.9966 - val_loss: 2.2039 - val_accuracy: 0.6714 - val_recall: 0.6714 - val_precision: 0.6714\n",
      "Epoch 79/80\n",
      "10/10 [==============================] - 6s 628ms/step - loss: 0.0211 - accuracy: 0.9966 - recall: 0.9932 - precision: 0.9966 - val_loss: 2.1433 - val_accuracy: 0.7000 - val_recall: 0.6714 - val_precision: 0.6912\n",
      "Epoch 80/80\n",
      "10/10 [==============================] - 6s 628ms/step - loss: 0.0344 - accuracy: 0.9864 - recall: 0.9864 - precision: 0.9864 - val_loss: 2.0379 - val_accuracy: 0.7143 - val_recall: 0.6857 - val_precision: 0.7164\n"
     ]
    }
   ],
   "source": [
    "history6 = model6.fit(train_data, epochs = 80, validation_data = validation_data,\n",
    "    batch_size = 32)"
   ]
  },
  {
   "cell_type": "markdown",
   "id": "8d138564-db0f-4ae9-a30b-267883e8927f",
   "metadata": {},
   "source": [
    "#### Adding Results to DF"
   ]
  },
  {
   "cell_type": "code",
   "execution_count": 149,
   "id": "76a9cf59-8589-4f0b-a9fe-102408a531e7",
   "metadata": {},
   "outputs": [],
   "source": [
    "results_df2['train_accuracy'].iloc[6] = 0\n",
    "\n",
    "results_df2['train_precision'].iloc[6] = 0\n",
    "\n",
    "results_df2['train_recall'].iloc[6] = 0\n",
    "\n",
    "results_df2['val_accuracy'].iloc[6] = 0\n",
    "\n",
    "results_df2['val_precision'].iloc[6] =0\n",
    "\n",
    "results_df2['val_recall'].iloc[6] = 0"
   ]
  },
  {
   "cell_type": "code",
   "execution_count": 150,
   "id": "7722dc2b-1d87-4f8f-a2ac-a0e97f1b30f3",
   "metadata": {},
   "outputs": [
    {
     "data": {
      "image/png": "[encoded data removed]",
      "text/plain": [
       "<Figure size 432x288 with 1 Axes>"
      ]
     },
     "metadata": {
      "needs_background": "light"
     },
     "output_type": "display_data"
    }
   ],
   "source": [
    "plt.plot(history6.history['accuracy'], label='Train Accuracy')\n",
    "plt.plot(history6.history['val_accuracy'], label = 'Val Accuracy')\n",
    "plt.plot(history6.history['precision'], label = 'precision')\n",
    "plt.plot(history6.history['val_precision'], label = 'val_precision')\n",
    "plt.plot(history6.history['recall'], label = 'recall')\n",
    "plt.plot(history6.history['val_recall'], label = 'val_recall')\n",
    "plt.legend() \n",
    "plt.yticks([0,0.2,0.4,0.6, 0.8,1]) \n",
    "plt.xlabel('Epoch')\n",
    "plt.ylabel('Metric')\n",
    "plt.title('Train vs Validation Metric Results');"
   ]
  },
  {
   "cell_type": "markdown",
   "id": "f62e1adf-5ff9-459b-ac9c-8e7ab1c95c2a",
   "metadata": {},
   "source": []
  },
  {
   "cell_type": "code",
   "execution_count": 151,
   "id": "b10d9f60-804d-4db7-a82f-8b78a3fc46ee",
   "metadata": {},
   "outputs": [
    {
     "data": {
      "image/png": "[encoded data removed]",
      "text/plain": [
       "<Figure size 432x288 with 1 Axes>"
      ]
     },
     "metadata": {
      "needs_background": "light"
     },
     "output_type": "display_data"
    }
   ],
   "source": [
    "plt.plot(history6.history['loss'], label = 'Train Loss')\n",
    "plt.plot(history6.history['val_loss'], label = 'Val Loss')\n",
    "plt.legend()\n",
    "plt.xlabel('Epoch')\n",
    "plt.ylabel('Loss')\n",
    "plt.title('Train vs Validation Loss Results');"
   ]
  },
  {
   "cell_type": "markdown",
   "id": "6d6e45dc-5ab1-4479-9889-1e0499d01ea4",
   "metadata": {},
   "source": [
    "### Test Data"
   ]
  },
  {
   "cell_type": "code",
   "execution_count": 152,
   "id": "7e505c92-14b2-4bb7-ad88-819ae59f0336",
   "metadata": {},
   "outputs": [],
   "source": [
    "# reference: https://towardsdatascience.com/confusion-matrix-for-your-multi-class-machine-learning-model-ff9aa3bf7826"
   ]
  },
  {
   "cell_type": "code",
   "execution_count": 153,
   "id": "0c3cd9d4-9267-43fa-b40c-dd19134f8fc8",
   "metadata": {},
   "outputs": [
    {
     "name": "stdout",
     "output_type": "stream",
     "text": [
      "3/3 [==============================] - 1s 320ms/step - loss: 2.6727 - accuracy: 0.5667 - recall: 0.5556 - precision: 0.5747\n",
      "WARNING:tensorflow:5 out of the last 13 calls to <function Model.make_predict_function.<locals>.predict_function at 0x7fcdfa5c2c10> triggered tf.function retracing. Tracing is expensive and the excessive number of tracings could be due to (1) creating @tf.function repeatedly in a loop, (2) passing tensors with different shapes, (3) passing Python objects instead of tensors. For (1), please define your @tf.function outside of the loop. For (2), @tf.function has experimental_relax_shapes=True option that relaxes argument shapes that can avoid unnecessary retracing. For (3), please refer to https://www.tensorflow.org/guide/function#controlling_retracing and https://www.tensorflow.org/api_docs/python/tf/function for  more details.\n"
     ]
    }
   ],
   "source": [
    "model6.evaluate(test_data)\n",
    "\n",
    "preds6 = model6.predict(test_data) > 0.5\n",
    "\n",
    "preds6 = preds6.astype(int)\n",
    "\n",
    "test_data_values = test_data.labels \n",
    "\n",
    "cm = confusion_matrix(test_data_values, preds6.argmax(axis=1))"
   ]
  },
  {
   "cell_type": "markdown",
   "id": "e83e2316-9ee1-4b56-aabd-a5dd059d21a6",
   "metadata": {},
   "source": [
    "#### Adding Results to DF"
   ]
  },
  {
   "cell_type": "code",
   "execution_count": 154,
   "id": "51a22e2c-d3e8-4503-95fc-b9a6635c6a4e",
   "metadata": {},
   "outputs": [],
   "source": [
    "results_df2['test_accuracy'].iloc[6] = 0\n",
    "\n",
    "results_df2['test_precision'].iloc[6] = 0\n",
    "\n",
    "results_df2['test_recall'].iloc[6] = 0"
   ]
  },
  {
   "cell_type": "markdown",
   "id": "d4399ee5-6e13-4fca-af73-fb564ca4b2ee",
   "metadata": {},
   "source": [
    "#### Confusion Matrix"
   ]
  },
  {
   "cell_type": "code",
   "execution_count": 155,
   "id": "4e580f2a-8c2f-4fd4-b99b-5ad2c463c879",
   "metadata": {},
   "outputs": [
    {
     "name": "stdout",
     "output_type": "stream",
     "text": [
      "              effusion  normal  otitis_media  tube  unclear\n",
      "effusion             2       1             5     0        0\n",
      "normal               3      20             5     6        0\n",
      "otitis_media         0       1            11     1        3\n",
      "tube                 1       1             1    16        0\n",
      "unclear              3       4             2     3        1\n"
     ]
    }
   ],
   "source": [
    "print(pd.DataFrame(cm, index = ['effusion', 'normal', 'otitis_media', 'tube', 'unclear'], columns = ['effusion', 'normal', 'otitis_media', 'tube', 'unclear']))\n",
    "#Confusion Matrix\n",
    "#Row is True Class \n",
    "#Column is Predicted Class \n",
    "#Diag Match"
   ]
  },
  {
   "cell_type": "markdown",
   "id": "e048607c-5550-4a51-a170-6a0c5c809790",
   "metadata": {},
   "source": [
    "#### Classification Report "
   ]
  },
  {
   "cell_type": "code",
   "execution_count": 156,
   "id": "9c1f5544-31ca-4da6-8179-84ad1bd007ee",
   "metadata": {},
   "outputs": [
    {
     "name": "stdout",
     "output_type": "stream",
     "text": [
      "              precision    recall  f1-score   support\n",
      "\n",
      "    effusion       0.22      0.25      0.24         8\n",
      "      normal       0.74      0.59      0.66        34\n",
      "otitis_media       0.46      0.69      0.55        16\n",
      "        tube       0.62      0.84      0.71        19\n",
      "     unclear       0.25      0.08      0.12        13\n",
      "\n",
      "    accuracy                           0.56        90\n",
      "   macro avg       0.46      0.49      0.45        90\n",
      "weighted avg       0.55      0.56      0.53        90\n",
      "\n"
     ]
    }
   ],
   "source": [
    "print(classification_report(test_data_values, preds6.argmax(axis=1), target_names = ['effusion', 'normal', 'otitis_media', 'tube', 'unclear']))\n",
    "#F1 Score is the 2*((precision*recall)/(precision+recall)) \n",
    "#TP/(TP+FP)\n",
    "#TP/(TP+FN)."
   ]
  },
  {
   "cell_type": "markdown",
   "id": "9caa6a87-da57-4967-a6df-363defd2f7eb",
   "metadata": {},
   "source": [
    "## Model 7: Convolutional Operation and Max Pooling"
   ]
  },
  {
   "cell_type": "code",
   "execution_count": 157,
   "id": "37267a1c-5810-4b82-a36b-28e25917f6db",
   "metadata": {},
   "outputs": [],
   "source": [
    "model7 = Sequential()\n",
    "model7.add(Conv2D(filters = 10, kernel_size = (3, 3), activation = 'relu'))\n",
    "model7.add(MaxPool2D((2, 2)))\n",
    "model7.add(Flatten())\n",
    "model7.add(Dense(100, activation = 'relu'))\n",
    "model7.add(Dropout(0.1))\n",
    "model7.add(Dense(5, activation = 'softmax'))\n",
    "\n",
    "model7.compile(loss = 'categorical_crossentropy', optimizer = 'adam', metrics = ['accuracy', 'Recall', 'Precision'])"
   ]
  },
  {
   "cell_type": "code",
   "execution_count": 158,
   "id": "e8faef67-d0ce-4729-ae51-235d84999e10",
   "metadata": {
    "tags": []
   },
   "outputs": [
    {
     "name": "stdout",
     "output_type": "stream",
     "text": [
      "Epoch 1/80\n",
      "10/10 [==============================] - 7s 606ms/step - loss: 23.9189 - accuracy: 0.2339 - recall: 0.2102 - precision: 0.2385 - val_loss: 6.2265 - val_accuracy: 0.3857 - val_recall: 0.3857 - val_precision: 0.3913\n",
      "Epoch 2/80\n",
      "10/10 [==============================] - 5s 494ms/step - loss: 3.8188 - accuracy: 0.4102 - recall: 0.3559 - precision: 0.4134 - val_loss: 1.5673 - val_accuracy: 0.4143 - val_recall: 0.3571 - val_precision: 0.6098\n",
      "Epoch 3/80\n",
      "10/10 [==============================] - 5s 496ms/step - loss: 1.4981 - accuracy: 0.5186 - recall: 0.4169 - precision: 0.5325 - val_loss: 1.3245 - val_accuracy: 0.5857 - val_recall: 0.3429 - val_precision: 0.6486\n",
      "Epoch 4/80\n",
      "10/10 [==============================] - 5s 520ms/step - loss: 1.0967 - accuracy: 0.6305 - recall: 0.3864 - precision: 0.8028 - val_loss: 1.2714 - val_accuracy: 0.5286 - val_recall: 0.1857 - val_precision: 0.6500\n",
      "Epoch 5/80\n",
      "10/10 [==============================] - 5s 529ms/step - loss: 1.0016 - accuracy: 0.6576 - recall: 0.3831 - precision: 0.8188 - val_loss: 1.2300 - val_accuracy: 0.5714 - val_recall: 0.5000 - val_precision: 0.6364\n",
      "Epoch 6/80\n",
      "10/10 [==============================] - 5s 501ms/step - loss: 0.8728 - accuracy: 0.6881 - recall: 0.4949 - precision: 0.7807 - val_loss: 1.0076 - val_accuracy: 0.6286 - val_recall: 0.4714 - val_precision: 0.6875\n",
      "Epoch 7/80\n",
      "10/10 [==============================] - 5s 511ms/step - loss: 0.7965 - accuracy: 0.7458 - recall: 0.5220 - precision: 0.8280 - val_loss: 1.1482 - val_accuracy: 0.6286 - val_recall: 0.5714 - val_precision: 0.6897\n",
      "Epoch 8/80\n",
      " 6/10 [=================>............] - ETA: 1s - loss: 0.6629 - accuracy: 0.8024 - recall: 0.6228 - precision: 0.8966"
     ]
    },
    {
     "ename": "KeyboardInterrupt",
     "evalue": "",
     "output_type": "error",
     "traceback": [
      "\u001b[0;31m---------------------------------------------------------------------------\u001b[0m",
      "\u001b[0;31mKeyboardInterrupt\u001b[0m                         Traceback (most recent call last)",
      "\u001b[0;32m<ipython-input-158-b61c0e60d2ab>\u001b[0m in \u001b[0;36m<module>\u001b[0;34m\u001b[0m\n\u001b[0;32m----> 1\u001b[0;31m history7 = model7.fit(train_data, epochs = 80, validation_data = validation_data,\n\u001b[0m\u001b[1;32m      2\u001b[0m     batch_size = 32, callbacks=[early_stop])\n",
      "\u001b[0;32m~/opt/anaconda3/lib/python3.8/site-packages/tensorflow/python/keras/engine/training.py\u001b[0m in \u001b[0;36mfit\u001b[0;34m(self, x, y, batch_size, epochs, verbose, callbacks, validation_split, validation_data, shuffle, class_weight, sample_weight, initial_epoch, steps_per_epoch, validation_steps, validation_batch_size, validation_freq, max_queue_size, workers, use_multiprocessing)\u001b[0m\n\u001b[1;32m   1181\u001b[0m                 _r=1):\n\u001b[1;32m   1182\u001b[0m               \u001b[0mcallbacks\u001b[0m\u001b[0;34m.\u001b[0m\u001b[0mon_train_batch_begin\u001b[0m\u001b[0;34m(\u001b[0m\u001b[0mstep\u001b[0m\u001b[0;34m)\u001b[0m\u001b[0;34m\u001b[0m\u001b[0;34m\u001b[0m\u001b[0m\n\u001b[0;32m-> 1183\u001b[0;31m               \u001b[0mtmp_logs\u001b[0m \u001b[0;34m=\u001b[0m \u001b[0mself\u001b[0m\u001b[0;34m.\u001b[0m\u001b[0mtrain_function\u001b[0m\u001b[0;34m(\u001b[0m\u001b[0miterator\u001b[0m\u001b[0;34m)\u001b[0m\u001b[0;34m\u001b[0m\u001b[0;34m\u001b[0m\u001b[0m\n\u001b[0m\u001b[1;32m   1184\u001b[0m               \u001b[0;32mif\u001b[0m \u001b[0mdata_handler\u001b[0m\u001b[0;34m.\u001b[0m\u001b[0mshould_sync\u001b[0m\u001b[0;34m:\u001b[0m\u001b[0;34m\u001b[0m\u001b[0;34m\u001b[0m\u001b[0m\n\u001b[1;32m   1185\u001b[0m                 \u001b[0mcontext\u001b[0m\u001b[0;34m.\u001b[0m\u001b[0masync_wait\u001b[0m\u001b[0;34m(\u001b[0m\u001b[0;34m)\u001b[0m\u001b[0;34m\u001b[0m\u001b[0;34m\u001b[0m\u001b[0m\n",
      "\u001b[0;32m~/opt/anaconda3/lib/python3.8/site-packages/tensorflow/python/eager/def_function.py\u001b[0m in \u001b[0;36m__call__\u001b[0;34m(self, *args, **kwds)\u001b[0m\n\u001b[1;32m    887\u001b[0m \u001b[0;34m\u001b[0m\u001b[0m\n\u001b[1;32m    888\u001b[0m       \u001b[0;32mwith\u001b[0m \u001b[0mOptionalXlaContext\u001b[0m\u001b[0;34m(\u001b[0m\u001b[0mself\u001b[0m\u001b[0;34m.\u001b[0m\u001b[0m_jit_compile\u001b[0m\u001b[0;34m)\u001b[0m\u001b[0;34m:\u001b[0m\u001b[0;34m\u001b[0m\u001b[0;34m\u001b[0m\u001b[0m\n\u001b[0;32m--> 889\u001b[0;31m         \u001b[0mresult\u001b[0m \u001b[0;34m=\u001b[0m \u001b[0mself\u001b[0m\u001b[0;34m.\u001b[0m\u001b[0m_call\u001b[0m\u001b[0;34m(\u001b[0m\u001b[0;34m*\u001b[0m\u001b[0margs\u001b[0m\u001b[0;34m,\u001b[0m \u001b[0;34m**\u001b[0m\u001b[0mkwds\u001b[0m\u001b[0;34m)\u001b[0m\u001b[0;34m\u001b[0m\u001b[0;34m\u001b[0m\u001b[0m\n\u001b[0m\u001b[1;32m    890\u001b[0m \u001b[0;34m\u001b[0m\u001b[0m\n\u001b[1;32m    891\u001b[0m       \u001b[0mnew_tracing_count\u001b[0m \u001b[0;34m=\u001b[0m \u001b[0mself\u001b[0m\u001b[0;34m.\u001b[0m\u001b[0mexperimental_get_tracing_count\u001b[0m\u001b[0;34m(\u001b[0m\u001b[0;34m)\u001b[0m\u001b[0;34m\u001b[0m\u001b[0;34m\u001b[0m\u001b[0m\n",
      "\u001b[0;32m~/opt/anaconda3/lib/python3.8/site-packages/tensorflow/python/eager/def_function.py\u001b[0m in \u001b[0;36m_call\u001b[0;34m(self, *args, **kwds)\u001b[0m\n\u001b[1;32m    915\u001b[0m       \u001b[0;31m# In this case we have created variables on the first call, so we run the\u001b[0m\u001b[0;34m\u001b[0m\u001b[0;34m\u001b[0m\u001b[0;34m\u001b[0m\u001b[0m\n\u001b[1;32m    916\u001b[0m       \u001b[0;31m# defunned version which is guaranteed to never create variables.\u001b[0m\u001b[0;34m\u001b[0m\u001b[0;34m\u001b[0m\u001b[0;34m\u001b[0m\u001b[0m\n\u001b[0;32m--> 917\u001b[0;31m       \u001b[0;32mreturn\u001b[0m \u001b[0mself\u001b[0m\u001b[0;34m.\u001b[0m\u001b[0m_stateless_fn\u001b[0m\u001b[0;34m(\u001b[0m\u001b[0;34m*\u001b[0m\u001b[0margs\u001b[0m\u001b[0;34m,\u001b[0m \u001b[0;34m**\u001b[0m\u001b[0mkwds\u001b[0m\u001b[0;34m)\u001b[0m  \u001b[0;31m# pylint: disable=not-callable\u001b[0m\u001b[0;34m\u001b[0m\u001b[0;34m\u001b[0m\u001b[0m\n\u001b[0m\u001b[1;32m    918\u001b[0m     \u001b[0;32melif\u001b[0m \u001b[0mself\u001b[0m\u001b[0;34m.\u001b[0m\u001b[0m_stateful_fn\u001b[0m \u001b[0;32mis\u001b[0m \u001b[0;32mnot\u001b[0m \u001b[0;32mNone\u001b[0m\u001b[0;34m:\u001b[0m\u001b[0;34m\u001b[0m\u001b[0;34m\u001b[0m\u001b[0m\n\u001b[1;32m    919\u001b[0m       \u001b[0;31m# Release the lock early so that multiple threads can perform the call\u001b[0m\u001b[0;34m\u001b[0m\u001b[0;34m\u001b[0m\u001b[0;34m\u001b[0m\u001b[0m\n",
      "\u001b[0;32m~/opt/anaconda3/lib/python3.8/site-packages/tensorflow/python/eager/function.py\u001b[0m in \u001b[0;36m__call__\u001b[0;34m(self, *args, **kwargs)\u001b[0m\n\u001b[1;32m   3021\u001b[0m       (graph_function,\n\u001b[1;32m   3022\u001b[0m        filtered_flat_args) = self._maybe_define_function(args, kwargs)\n\u001b[0;32m-> 3023\u001b[0;31m     return graph_function._call_flat(\n\u001b[0m\u001b[1;32m   3024\u001b[0m         filtered_flat_args, captured_inputs=graph_function.captured_inputs)  # pylint: disable=protected-access\n\u001b[1;32m   3025\u001b[0m \u001b[0;34m\u001b[0m\u001b[0m\n",
      "\u001b[0;32m~/opt/anaconda3/lib/python3.8/site-packages/tensorflow/python/eager/function.py\u001b[0m in \u001b[0;36m_call_flat\u001b[0;34m(self, args, captured_inputs, cancellation_manager)\u001b[0m\n\u001b[1;32m   1958\u001b[0m         and executing_eagerly):\n\u001b[1;32m   1959\u001b[0m       \u001b[0;31m# No tape is watching; skip to running the function.\u001b[0m\u001b[0;34m\u001b[0m\u001b[0;34m\u001b[0m\u001b[0;34m\u001b[0m\u001b[0m\n\u001b[0;32m-> 1960\u001b[0;31m       return self._build_call_outputs(self._inference_function.call(\n\u001b[0m\u001b[1;32m   1961\u001b[0m           ctx, args, cancellation_manager=cancellation_manager))\n\u001b[1;32m   1962\u001b[0m     forward_backward = self._select_forward_and_backward_functions(\n",
      "\u001b[0;32m~/opt/anaconda3/lib/python3.8/site-packages/tensorflow/python/eager/function.py\u001b[0m in \u001b[0;36mcall\u001b[0;34m(self, ctx, args, cancellation_manager)\u001b[0m\n\u001b[1;32m    589\u001b[0m       \u001b[0;32mwith\u001b[0m \u001b[0m_InterpolateFunctionError\u001b[0m\u001b[0;34m(\u001b[0m\u001b[0mself\u001b[0m\u001b[0;34m)\u001b[0m\u001b[0;34m:\u001b[0m\u001b[0;34m\u001b[0m\u001b[0;34m\u001b[0m\u001b[0m\n\u001b[1;32m    590\u001b[0m         \u001b[0;32mif\u001b[0m \u001b[0mcancellation_manager\u001b[0m \u001b[0;32mis\u001b[0m \u001b[0;32mNone\u001b[0m\u001b[0;34m:\u001b[0m\u001b[0;34m\u001b[0m\u001b[0;34m\u001b[0m\u001b[0m\n\u001b[0;32m--> 591\u001b[0;31m           outputs = execute.execute(\n\u001b[0m\u001b[1;32m    592\u001b[0m               \u001b[0mstr\u001b[0m\u001b[0;34m(\u001b[0m\u001b[0mself\u001b[0m\u001b[0;34m.\u001b[0m\u001b[0msignature\u001b[0m\u001b[0;34m.\u001b[0m\u001b[0mname\u001b[0m\u001b[0;34m)\u001b[0m\u001b[0;34m,\u001b[0m\u001b[0;34m\u001b[0m\u001b[0;34m\u001b[0m\u001b[0m\n\u001b[1;32m    593\u001b[0m               \u001b[0mnum_outputs\u001b[0m\u001b[0;34m=\u001b[0m\u001b[0mself\u001b[0m\u001b[0;34m.\u001b[0m\u001b[0m_num_outputs\u001b[0m\u001b[0;34m,\u001b[0m\u001b[0;34m\u001b[0m\u001b[0;34m\u001b[0m\u001b[0m\n",
      "\u001b[0;32m~/opt/anaconda3/lib/python3.8/site-packages/tensorflow/python/eager/execute.py\u001b[0m in \u001b[0;36mquick_execute\u001b[0;34m(op_name, num_outputs, inputs, attrs, ctx, name)\u001b[0m\n\u001b[1;32m     57\u001b[0m   \u001b[0;32mtry\u001b[0m\u001b[0;34m:\u001b[0m\u001b[0;34m\u001b[0m\u001b[0;34m\u001b[0m\u001b[0m\n\u001b[1;32m     58\u001b[0m     \u001b[0mctx\u001b[0m\u001b[0;34m.\u001b[0m\u001b[0mensure_initialized\u001b[0m\u001b[0;34m(\u001b[0m\u001b[0;34m)\u001b[0m\u001b[0;34m\u001b[0m\u001b[0;34m\u001b[0m\u001b[0m\n\u001b[0;32m---> 59\u001b[0;31m     tensors = pywrap_tfe.TFE_Py_Execute(ctx._handle, device_name, op_name,\n\u001b[0m\u001b[1;32m     60\u001b[0m                                         inputs, attrs, num_outputs)\n\u001b[1;32m     61\u001b[0m   \u001b[0;32mexcept\u001b[0m \u001b[0mcore\u001b[0m\u001b[0;34m.\u001b[0m\u001b[0m_NotOkStatusException\u001b[0m \u001b[0;32mas\u001b[0m \u001b[0me\u001b[0m\u001b[0;34m:\u001b[0m\u001b[0;34m\u001b[0m\u001b[0;34m\u001b[0m\u001b[0m\n",
      "\u001b[0;31mKeyboardInterrupt\u001b[0m: "
     ]
    }
   ],
   "source": [
    "history7 = model7.fit(train_data, epochs = 80, validation_data = validation_data,\n",
    "    batch_size = 32, callbacks=[early_stop])"
   ]
  },
  {
   "cell_type": "markdown",
   "id": "10b64926-184a-4a1c-9cb4-4cc4b2954db5",
   "metadata": {},
   "source": [
    "#### Adding Results to DF"
   ]
  },
  {
   "cell_type": "code",
   "execution_count": null,
   "id": "cf78305a-0b6a-491f-99cc-3aa987b36f08",
   "metadata": {},
   "outputs": [],
   "source": [
    "results_df2['train_accuracy'].iloc[7] = 0\n",
    "\n",
    "results_df2['train_precision'].iloc[7] = 0\n",
    "\n",
    "results_df2['train_recall'].iloc[7] = 0\n",
    "\n",
    "results_df2['val_accuracy'].iloc[7] = 0\n",
    "\n",
    "results_df2['val_precision'].iloc[7] = 0\n",
    "\n",
    "results_df2['val_recall'].iloc[7] = 0"
   ]
  },
  {
   "cell_type": "code",
   "execution_count": null,
   "id": "6731a0a7-4a47-4cf5-b7b4-ce4fac3f5616",
   "metadata": {},
   "outputs": [],
   "source": [
    "plt.plot(history7.history['accuracy'], label='Train Accuracy')\n",
    "plt.plot(history7.history['val_accuracy'], label = 'Val Accuracy')\n",
    "plt.plot(history7.history['precision'], label = 'precision')\n",
    "plt.plot(history7.history['val_precision'], label = 'val_precision')\n",
    "plt.plot(history7.history['recall'], label = 'recall')\n",
    "plt.plot(history7.history['val_recall'], label = 'val_recall')\n",
    "plt.legend() \n",
    "plt.yticks([0,0.2,0.4,0.6, 0.8,1]) \n",
    "plt.xlabel('Epoch')\n",
    "plt.ylabel('Metric')\n",
    "plt.title('Train vs Validation Metric Results');"
   ]
  },
  {
   "cell_type": "markdown",
   "id": "c6685d60-eb8f-4d4b-bc1e-e82b063a8e4e",
   "metadata": {},
   "source": []
  },
  {
   "cell_type": "code",
   "execution_count": null,
   "id": "b9a5136f-a821-46ac-a852-b35cda3f7c63",
   "metadata": {},
   "outputs": [],
   "source": [
    "plt.plot(history7.history['loss'], label = 'Train Loss')\n",
    "plt.plot(history7.history['val_loss'], label = 'Val Loss')\n",
    "plt.legend()\n",
    "plt.xlabel('Epoch')\n",
    "plt.ylabel('Loss')\n",
    "plt.title('Train vs Validation Loss Results');"
   ]
  },
  {
   "cell_type": "markdown",
   "id": "b3661676-99c0-4f0e-acd5-d07634f05af0",
   "metadata": {},
   "source": [
    "### Test Data "
   ]
  },
  {
   "cell_type": "code",
   "execution_count": null,
   "id": "caabc0fb-288a-4f48-97ce-41aa92d57cb6",
   "metadata": {},
   "outputs": [],
   "source": [
    "# reference: https://towardsdatascience.com/confusion-matrix-for-your-multi-class-machine-learning-model-ff9aa3bf7826"
   ]
  },
  {
   "cell_type": "code",
   "execution_count": null,
   "id": "eb93b1f9-45f7-41ab-b3aa-9ba5553108be",
   "metadata": {
    "tags": []
   },
   "outputs": [],
   "source": [
    "model7.evaluate(test_data)\n",
    "\n",
    "preds7 = model7.predict(test_data) > 0.5\n",
    "\n",
    "preds7 = preds7.astype(int)\n",
    "\n",
    "test_data_values = test_data.labels \n",
    "\n",
    "cm = confusion_matrix(test_data_values, preds7.argmax(axis=1))"
   ]
  },
  {
   "cell_type": "markdown",
   "id": "02dcdf98-f236-48a7-b9dc-b5bfea6e1cd8",
   "metadata": {},
   "source": [
    "#### Adding Results to DF"
   ]
  },
  {
   "cell_type": "code",
   "execution_count": null,
   "id": "2268b265-ff10-49ea-8a7d-52ac7baa4b74",
   "metadata": {},
   "outputs": [],
   "source": [
    "results_df2['test_accuracy'].iloc[7] = 0\n",
    "\n",
    "results_df2['test_precision'].iloc[7] = 0\n",
    "\n",
    "results_df2['test_recall'].iloc[7] = 0"
   ]
  },
  {
   "cell_type": "markdown",
   "id": "18001563-6734-4e8a-b832-3fe34669c2a7",
   "metadata": {},
   "source": [
    "#### Confusion Matrix"
   ]
  },
  {
   "cell_type": "code",
   "execution_count": null,
   "id": "c41b9623-ec3c-4475-8997-c30280240ba2",
   "metadata": {},
   "outputs": [],
   "source": [
    "print(pd.DataFrame(cm, index = ['effusion', 'normal', 'otitis_media', 'tube', 'unclear'], columns = ['effusion', 'normal', 'otitis_media', 'tube', 'unclear']))\n",
    "#Confusion Matrix\n",
    "#Column is True Class \n",
    "#Row is Predicted Class \n",
    "#Diag Match"
   ]
  },
  {
   "cell_type": "markdown",
   "id": "d7d189e4-8a77-42f7-8b97-997efca867ae",
   "metadata": {},
   "source": [
    "#### Classification Report "
   ]
  },
  {
   "cell_type": "code",
   "execution_count": null,
   "id": "d4094c5f-1abf-43ab-b91a-3109f1268556",
   "metadata": {},
   "outputs": [],
   "source": [
    "print(classification_report(test_data_values, preds7.argmax(axis=1), target_names = ['effusion', 'normal', 'otitis_media', 'tube', 'unclear']))\n",
    "#F1 Score is the 2*((precision*recall)/(precision+recall)) \n",
    "#TP/(TP+FP)\n",
    "#TP/(TP+FN)."
   ]
  },
  {
   "cell_type": "markdown",
   "id": "3335aac9-7f5d-47ad-bfa8-9103633491e4",
   "metadata": {},
   "source": [
    "## Model 8: Adding Prebuilt Networks InceptionV3"
   ]
  },
  {
   "cell_type": "code",
   "execution_count": null,
   "id": "46903300-5436-4244-b1cb-d6694fcfd429",
   "metadata": {},
   "outputs": [],
   "source": [
    "train_gen_aug = ImageDataGenerator(rescale = 1/255.,\n",
    "                                   shear_range = 0.1, \n",
    "                                   zoom_range = 0.2, \n",
    "                                   horizontal_flip = True, \n",
    "                                   vertical_flip = True,\n",
    "                                  validation_split=0.2)"
   ]
  },
  {
   "cell_type": "code",
   "execution_count": null,
   "id": "bd73bd8b-1e6d-4b04-9156-9a137a33def0",
   "metadata": {},
   "outputs": [],
   "source": [
    "test_gen_aug = ImageDataGenerator(rescale = 1/255.,\n",
    "                                   shear_range = 0.1, \n",
    "                                   zoom_range = 0.2, \n",
    "                                   horizontal_flip = True, \n",
    "                                   vertical_flip = True)"
   ]
  },
  {
   "cell_type": "code",
   "execution_count": null,
   "id": "9e211976-9d2b-42b7-8bf9-ad554a3d9437",
   "metadata": {},
   "outputs": [],
   "source": [
    "train_aug = train_gen_aug.flow_from_directory('/Users/annafunsten/Desktop/dsir-322/capstone/Ear-Infection-Identifier/data/middle_ear_images_2/train/', subset = 'training')\n",
    "\n",
    "valid_aug = train_gen_aug.flow_from_directory('/Users/annafunsten/Desktop/dsir-322/capstone/Ear-Infection-Identifier/data/middle_ear_images_2/train/', subset = 'validation')"
   ]
  },
  {
   "cell_type": "code",
   "execution_count": null,
   "id": "c1ce8153-4e7b-4159-a3ca-7e573bd0727d",
   "metadata": {},
   "outputs": [],
   "source": [
    "test_data_aug = test_gen_aug.flow_from_directory('/Users/annafunsten/Desktop/dsir-322/capstone/Ear-Infection-Identifier/data/middle_ear_images_2/test/', shuffle = False)"
   ]
  },
  {
   "cell_type": "code",
   "execution_count": null,
   "id": "118a2a71-8162-4c24-bc55-45cb5daeac70",
   "metadata": {},
   "outputs": [],
   "source": [
    "conv_base = InceptionV3(include_top=False, input_shape = (150, 150, 3))"
   ]
  },
  {
   "cell_type": "code",
   "execution_count": null,
   "id": "21892636-2054-4520-afb4-84560ca16bb3",
   "metadata": {},
   "outputs": [],
   "source": [
    "preds = conv_base.predict(train_aug)"
   ]
  },
  {
   "cell_type": "code",
   "execution_count": null,
   "id": "2c64b856-5329-4fa2-a216-ec8cd3231f3b",
   "metadata": {},
   "outputs": [],
   "source": [
    "preds_val = conv_base.predict(valid_aug)"
   ]
  },
  {
   "cell_type": "code",
   "execution_count": null,
   "id": "e4bb7b18-7f8e-43e8-ae1e-d1972f3fec2b",
   "metadata": {},
   "outputs": [],
   "source": [
    "model8 = Sequential()\n",
    "model8.add(Flatten())\n",
    "model8.add(Dense(100, activation = 'relu'))\n",
    "model8.add(Dropout(0.1))\n",
    "model8.add(Dense(5, activation = 'softmax'))\n",
    "\n",
    "model8.compile(loss = 'categorical_crossentropy', optimizer = 'adam', metrics = ['accuracy', 'Recall', 'Precision'])"
   ]
  },
  {
   "cell_type": "code",
   "execution_count": null,
   "id": "7bc7185f-9ae9-4dc8-a5e8-22daecce8112",
   "metadata": {
    "tags": []
   },
   "outputs": [],
   "source": [
    "y_train = train_aug.labels \n",
    "y_train_binarized = to_categorical(y_train)\n",
    "\n",
    "y_valid = valid_aug.labels \n",
    "y_valid_binarized = to_categorical(y_valid)"
   ]
  },
  {
   "cell_type": "code",
   "execution_count": null,
   "id": "cfa0a296-7f9f-4e6a-8994-27f44dd00809",
   "metadata": {
    "tags": []
   },
   "outputs": [],
   "source": [
    "history8 = model8.fit(preds, y_train_binarized, epochs = 30, validation_data = (preds_val, y_valid_binarized),\n",
    "    batch_size = 32)"
   ]
  },
  {
   "cell_type": "markdown",
   "id": "c8ae1f17-a881-4941-a9da-4098ad9d7533",
   "metadata": {},
   "source": [
    "#### Adding Results to DF"
   ]
  },
  {
   "cell_type": "code",
   "execution_count": null,
   "id": "49ab06a8-d8da-447b-847e-a28dd3454f8d",
   "metadata": {},
   "outputs": [],
   "source": [
    "results_df2['train_accuracy'].iloc[8] = 0\n",
    "\n",
    "results_df2['train_recall'].iloc[8] = 0\n",
    "\n",
    "results_df2['train_precision'].iloc[8] = 0\n",
    "\n",
    "results_df2['val_accuracy'].iloc[8] = 0\n",
    "\n",
    "results_df2['val_recall'].iloc[8] =  0\n",
    "\n",
    "results_df2['val_precision'].iloc[8] = 0\n"
   ]
  },
  {
   "cell_type": "code",
   "execution_count": null,
   "id": "022526e5-4ebe-4fc6-82ac-a7a1afff8bdb",
   "metadata": {},
   "outputs": [],
   "source": [
    "plt.plot(history8.history['accuracy'], label='Train Accuracy')\n",
    "plt.plot(history8.history['val_accuracy'], label = 'Val Accuracy')\n",
    "plt.plot(history8.history['precision'], label = 'precision')\n",
    "plt.plot(history8.history['val_precision'], label = 'val_precision')\n",
    "plt.plot(history8.history['recall'], label = 'recall')\n",
    "plt.plot(history8.history['val_recall'], label = 'val_recall')\n",
    "plt.legend() \n",
    "plt.yticks([0,0.2,0.4,0.6, 0.8,1]) \n",
    "plt.xlabel('Epoch')\n",
    "plt.ylabel('Accuracy')\n",
    "plt.title('Train vs Validation Metric Results');"
   ]
  },
  {
   "cell_type": "markdown",
   "id": "44bbf0dd-639d-4aa8-b138-19993b86b063",
   "metadata": {},
   "source": []
  },
  {
   "cell_type": "code",
   "execution_count": null,
   "id": "5ebaf4bb-a4ce-4504-a52d-f6c3bf9f8340",
   "metadata": {},
   "outputs": [],
   "source": [
    "plt.plot(history8.history['loss'], label = 'Train Loss')\n",
    "plt.plot(history8.history['val_loss'], label = 'Val Loss')\n",
    "plt.legend()\n",
    "plt.xlabel('Epoch')\n",
    "plt.ylabel('Loss')\n",
    "plt.title('Train vs Validation Loss Results');"
   ]
  },
  {
   "cell_type": "markdown",
   "id": "6007fd7c-efe8-4e75-a4f2-047d5d65fa03",
   "metadata": {},
   "source": [
    "### Test Data"
   ]
  },
  {
   "cell_type": "code",
   "execution_count": null,
   "id": "d72c3b51-cb62-484a-831c-7d30f7bcbcf1",
   "metadata": {},
   "outputs": [],
   "source": [
    "# reference: https://towardsdatascience.com/confusion-matrix-for-your-multi-class-machine-learning-model-ff9aa3bf7826"
   ]
  },
  {
   "cell_type": "code",
   "execution_count": null,
   "id": "d9f59627-f543-40e7-908b-8b097845e54d",
   "metadata": {},
   "outputs": [],
   "source": [
    "test_preds = conv_base.predict(test_data_aug)"
   ]
  },
  {
   "cell_type": "code",
   "execution_count": null,
   "id": "b026313e-456e-4bcc-bc59-090ab2620b96",
   "metadata": {
    "tags": []
   },
   "outputs": [],
   "source": [
    "model8.evaluate(test_preds)\n",
    "\n",
    "preds8 = model8.predict(test_preds) > 0.5\n",
    "\n",
    "preds8 = preds8.astype(int)\n",
    "\n",
    "test_data_values = test_data.labels \n",
    "\n",
    "cm = confusion_matrix(test_data_values, preds8.argmax(axis=1))"
   ]
  },
  {
   "cell_type": "markdown",
   "id": "1d045df3-779d-4248-b43b-0516c8e1bbb1",
   "metadata": {},
   "source": [
    "#### Adding Results to DF"
   ]
  },
  {
   "cell_type": "code",
   "execution_count": null,
   "id": "fb5f630a-31d4-4848-89d3-fe7e0a23ae6f",
   "metadata": {},
   "outputs": [],
   "source": [
    "results_df2['test_accuracy'].iloc[8] = 0\n",
    "\n",
    "results_df2['test_recall'].iloc[8] = 0\n",
    "\n",
    "results_df2['test_precision'].iloc[8] = 0"
   ]
  },
  {
   "cell_type": "markdown",
   "id": "f76fff98-0613-4ded-b0ae-ba517fe1d271",
   "metadata": {},
   "source": [
    "#### Confusion Matrix"
   ]
  },
  {
   "cell_type": "code",
   "execution_count": null,
   "id": "4f7e26f6-49c8-4330-a69b-71598d39daa6",
   "metadata": {},
   "outputs": [],
   "source": [
    "print(pd.DataFrame(cm, index = ['effusion', 'normal', 'otitis_media', 'tube', 'unclear'], columns = ['effusion', 'normal', 'otitis_media', 'tube', 'unclear']))\n",
    "#Confusion Matrix\n",
    "#Row is True Class \n",
    "#Column is Predicted Class \n",
    "#Diag Match\n"
   ]
  },
  {
   "cell_type": "markdown",
   "id": "7ce0ae0b-6f36-4462-a585-ae80203edec5",
   "metadata": {},
   "source": [
    "#### Classification Matrix "
   ]
  },
  {
   "cell_type": "code",
   "execution_count": null,
   "id": "a0c0492d-6679-4ce6-9fd4-048dd92b893a",
   "metadata": {},
   "outputs": [],
   "source": [
    "print(classification_report(test_data_values, preds8.argmax(axis=1), target_names = ['effusion', 'normal', 'otitis_media', 'tube', 'unclear']))\n",
    "#F1 Score is the 2*((precision*recall)/(precision+recall)) \n",
    "#TP/(TP+FP)\n",
    "#TP/(TP+FN)."
   ]
  },
  {
   "cell_type": "markdown",
   "id": "7a5635eb-7fd2-47f8-9eeb-3e78415583c2",
   "metadata": {},
   "source": [
    "## Model 9: Adding Prebuilt Networks Xception"
   ]
  },
  {
   "cell_type": "code",
   "execution_count": null,
   "id": "5099cb10-6e0e-48fd-9efe-6ce3c522d6a8",
   "metadata": {},
   "outputs": [],
   "source": [
    "conv_base9 = Xception(include_top=False, input_shape = (150, 150, 3))"
   ]
  },
  {
   "cell_type": "code",
   "execution_count": null,
   "id": "eabb164f-e2e7-434b-b37b-c0d23f6764d6",
   "metadata": {},
   "outputs": [],
   "source": [
    "preds9 = conv_base9.predict(train_aug)"
   ]
  },
  {
   "cell_type": "code",
   "execution_count": null,
   "id": "6a5e21bd-0945-4934-a458-3307780173a8",
   "metadata": {},
   "outputs": [],
   "source": [
    "preds_val9 = conv_base9.predict(valid_aug)"
   ]
  },
  {
   "cell_type": "code",
   "execution_count": null,
   "id": "cfb1866c-5a6c-4c3e-b7dc-6784fd350f50",
   "metadata": {},
   "outputs": [],
   "source": [
    "model9 = Sequential()\n",
    "model9.add(GlobalAveragePooling2D())\n",
    "model9.add(Dense(100, activation = 'relu'))\n",
    "model9.add(Dropout(0.1))\n",
    "model9.add(Dense(5, activation = 'softmax'))\n",
    "\n",
    "model9.compile(loss = 'categorical_crossentropy', optimizer = 'adam', metrics = ['accuracy', 'Recall', 'Precision'])"
   ]
  },
  {
   "cell_type": "code",
   "execution_count": null,
   "id": "1d000da7-455c-4d00-8e97-dc3bc801f0c0",
   "metadata": {},
   "outputs": [],
   "source": [
    "y_train = train_aug.labels \n",
    "y_train_binarized = to_categorical(y_train)\n",
    "\n",
    "y_valid = valid_aug.labels \n",
    "y_valid_binarized = to_categorical(y_valid)"
   ]
  },
  {
   "cell_type": "code",
   "execution_count": null,
   "id": "361e3831-d551-4a9e-9358-00da71852e2f",
   "metadata": {
    "tags": []
   },
   "outputs": [],
   "source": [
    "history9 = model9.fit(preds9, y_train_binarized, epochs = 30, validation_data = (preds_val9, y_valid_binarized),\n",
    "    batch_size = 32)"
   ]
  },
  {
   "cell_type": "markdown",
   "id": "1e1677c3-8445-4fff-86da-7d945d533431",
   "metadata": {},
   "source": [
    "#### Adding Results to DF"
   ]
  },
  {
   "cell_type": "code",
   "execution_count": null,
   "id": "1829b79a-39ab-43ce-a7ad-d702280078ba",
   "metadata": {},
   "outputs": [],
   "source": [
    "results_df2['train_accuracy'].iloc[9] = 0\n",
    "\n",
    "results_df2['train_recall'].iloc[9] =  0\n",
    "\n",
    "results_df2['train_precision'].iloc[9] =  0\n",
    "\n",
    "results_df2['val_accuracy'].iloc[9] = 0 \n",
    "\n",
    "results_df2['val_recall'].iloc[9] = 0\n",
    "\n",
    "results_df2['val_precision'].iloc[9] = 0  "
   ]
  },
  {
   "cell_type": "code",
   "execution_count": null,
   "id": "d7478a6f-7d21-4303-ba11-eef9ee363409",
   "metadata": {},
   "outputs": [],
   "source": [
    "plt.plot(history9.history['accuracy'], label='Train Accuracy')\n",
    "plt.plot(history9.history['val_accuracy'], label = 'Val Accuracy')\n",
    "plt.plot(history9.history['precision'], label = 'precision')\n",
    "plt.plot(history9.history['val_precision'], label = 'val_precision')\n",
    "plt.plot(history9.history['recall'], label = 'recall')\n",
    "plt.plot(history9.history['val_recall'], label = 'val_recall')\n",
    "plt.legend() \n",
    "plt.yticks([0,0.2,0.4,0.6, 0.8,1]) \n",
    "plt.xlabel('Epoch')\n",
    "plt.ylabel('Metric')\n",
    "plt.title('Train vs Validation Metric Results');"
   ]
  },
  {
   "cell_type": "markdown",
   "id": "0b66e9fd-cbc2-4a27-b5e4-8367471c77f8",
   "metadata": {},
   "source": []
  },
  {
   "cell_type": "code",
   "execution_count": null,
   "id": "1f937acf-021f-4f31-9def-55c63a3d3e2b",
   "metadata": {},
   "outputs": [],
   "source": [
    "plt.plot(history9.history['loss'], label = 'Train Loss')\n",
    "plt.plot(history9.history['val_loss'], label = 'Val Loss')\n",
    "plt.legend()\n",
    "plt.xlabel('Epoch')\n",
    "plt.ylabel('Loss')\n",
    "plt.title('Train vs Validation Loss Results');"
   ]
  },
  {
   "cell_type": "markdown",
   "id": "8eb1870e-2f6e-4c54-80bb-1e97fa8fc28c",
   "metadata": {},
   "source": [
    "### Test Data"
   ]
  },
  {
   "cell_type": "code",
   "execution_count": null,
   "id": "797a48c9-20d0-4f83-a6fa-855c153fdecd",
   "metadata": {},
   "outputs": [],
   "source": [
    "# reference: https://towardsdatascience.com/confusion-matrix-for-your-multi-class-machine-learning-model-ff9aa3bf7826"
   ]
  },
  {
   "cell_type": "code",
   "execution_count": null,
   "id": "d9c9be17-5f72-48a9-a18a-181a2b528eab",
   "metadata": {},
   "outputs": [],
   "source": [
    "preds9_test = conv_base9.predict(test_data_aug)\n",
    "model9.evaluate(preds9_test)\n",
    "\n",
    "preds9 = model9.predict(preds9_test) > 0.5\n",
    "\n",
    "preds9 = preds9.astype(int)\n",
    "\n",
    "test_data_values = test_data.labels \n",
    "\n",
    "cm = confusion_matrix(test_data_values, preds9.argmax(axis=1))"
   ]
  },
  {
   "cell_type": "markdown",
   "id": "5cf8576d-9f37-4ce5-8adf-791272fd9cd3",
   "metadata": {},
   "source": [
    "#### Adding Results to DF"
   ]
  },
  {
   "cell_type": "code",
   "execution_count": null,
   "id": "99a2a31d-391c-4b9c-8c07-4c4a0d6a49af",
   "metadata": {},
   "outputs": [],
   "source": [
    "\n",
    "results_df2['test_accuracy'].iloc[9] = 0\n",
    "\n",
    "results_df2['test_recall'].iloc[9] = 0\n",
    "\n",
    "results_df2['test_precision'].iloc[9] = 0\n"
   ]
  },
  {
   "cell_type": "markdown",
   "id": "1f4ecc26-e1d6-4dca-ba09-05bb0caea50a",
   "metadata": {},
   "source": [
    "#### Confusion Matrix"
   ]
  },
  {
   "cell_type": "code",
   "execution_count": null,
   "id": "0a2098a2-bb38-4927-a5c6-901388b1abba",
   "metadata": {},
   "outputs": [],
   "source": [
    "print(pd.DataFrame(cm, index =['effusion', 'normal', 'otitis_media', 'tube', 'unclear'], columns = ['effusion', 'normal', 'otitis_media', 'tube', 'unclear']))\n",
    "#Confusion Matrix\n",
    "#Row is True Class \n",
    "#Column is Predicted Class \n",
    "#Diag Match"
   ]
  },
  {
   "cell_type": "markdown",
   "id": "5dd46545-934a-4561-b04f-da68d63039aa",
   "metadata": {},
   "source": [
    "#### Classification Report"
   ]
  },
  {
   "cell_type": "code",
   "execution_count": null,
   "id": "8d64cec6-5e68-4eb5-91e5-aa4a72b7f26c",
   "metadata": {},
   "outputs": [],
   "source": [
    "print(classification_report(test_data_values, preds9.argmax(axis=1), target_names = ['effusion', 'normal', 'otitis_media', 'tube', 'unclear']))\n",
    "#F1 Score is the 2*((precision*recall)/(precision+recall)) \n",
    "#TP/(TP+FP)\n",
    "#TP/(TP+FN)."
   ]
  },
  {
   "cell_type": "markdown",
   "id": "81e933e3-99c7-4133-99a9-ec0407575558",
   "metadata": {},
   "source": [
    "## Model 10: Adding Prebuilt Networks VGG16"
   ]
  },
  {
   "cell_type": "code",
   "execution_count": null,
   "id": "946ea95f-0835-4e2f-bd25-f375a620bdeb",
   "metadata": {},
   "outputs": [],
   "source": [
    "conv_base10 = VGG16(include_top=False, input_shape = (150, 150, 3))"
   ]
  },
  {
   "cell_type": "code",
   "execution_count": null,
   "id": "956fb667-a696-4d32-a1c7-684765c0e709",
   "metadata": {},
   "outputs": [],
   "source": [
    "preds10 = conv_base10.predict(train_aug)"
   ]
  },
  {
   "cell_type": "code",
   "execution_count": null,
   "id": "facc85c8-bd01-462e-b205-d8d038db3518",
   "metadata": {},
   "outputs": [],
   "source": [
    "preds_val10 = conv_base10.predict(valid_aug)"
   ]
  },
  {
   "cell_type": "code",
   "execution_count": null,
   "id": "2bf6b6d4-9743-4e08-957c-43c08f90b3d3",
   "metadata": {},
   "outputs": [],
   "source": [
    "model10 = Sequential()\n",
    "model10.add(GlobalAveragePooling2D())\n",
    "model10.add(Dense(100, activation = 'relu'))\n",
    "model10.add(Dropout(0.1))\n",
    "model10.add(Dense(5, activation = 'softmax'))\n",
    "\n",
    "model10.compile(loss = 'categorical_crossentropy', optimizer = 'adam', metrics = ['effusion', 'normal', 'otitis_media', 'tube', 'unclear'])"
   ]
  },
  {
   "cell_type": "code",
   "execution_count": null,
   "id": "9629d366-7fc8-4164-8fdb-0da6bb058030",
   "metadata": {},
   "outputs": [],
   "source": [
    "y_train = train_aug.labels \n",
    "y_train_binarized = to_categorical(y_train)\n",
    "\n",
    "y_valid = valid_aug.labels \n",
    "y_valid_binarized = to_categorical(y_valid)"
   ]
  },
  {
   "cell_type": "code",
   "execution_count": null,
   "id": "d6e5bd47-f506-4933-aa44-9c1b146f0412",
   "metadata": {
    "tags": []
   },
   "outputs": [],
   "source": [
    "history10 = model10.fit(preds10, y_train_binarized, epochs = 100, validation_data = (preds_val10, y_valid_binarized),\n",
    "    batch_size = 30)"
   ]
  },
  {
   "cell_type": "markdown",
   "id": "936e7e51-02ff-4b23-84ec-abcca1b1cd77",
   "metadata": {},
   "source": [
    "#### Adding Results to DF"
   ]
  },
  {
   "cell_type": "code",
   "execution_count": null,
   "id": "d2405c85-e00a-4258-ab48-07ebffb47071",
   "metadata": {},
   "outputs": [],
   "source": [
    "results_df2['train_accuracy'].iloc[10] = 0\n",
    "\n",
    "results_df2['train_recall'].iloc[10] = 0\n",
    "\n",
    "results_df2['train_precision'].iloc[10] = 0\n",
    "\n",
    "results_df2['val_accuracy'].iloc[10] = 0\n",
    "\n",
    "results_df2['val_recall'].iloc[10] = 0\n",
    "\n",
    "results_df2['val_precision'].iloc[10] = 0\n"
   ]
  },
  {
   "cell_type": "code",
   "execution_count": null,
   "id": "fc0ee67b-2ac4-4c4f-9575-96b3ebabdab6",
   "metadata": {},
   "outputs": [],
   "source": [
    "plt.plot(history10.history['accuracy'], label='Train Accuracy')\n",
    "plt.plot(history10.history['val_accuracy'], label = 'Val Accuracy')\n",
    "plt.plot(history10.history['precision'], label = 'precision')\n",
    "plt.plot(history10.history['val_precision'], label = 'val_precision')\n",
    "plt.plot(history10.history['recall'], label = 'recall')\n",
    "plt.plot(history10.history['val_recall'], label = 'val_recall')\n",
    "plt.legend() \n",
    "plt.yticks([0,0.2,0.4,0.6, 0.8,1]) \n",
    "plt.xlabel('Epoch')\n",
    "plt.ylabel('Metric')\n",
    "plt.title('Train vs Validation Metric Results');"
   ]
  },
  {
   "cell_type": "markdown",
   "id": "83ce0377-173f-407e-b25f-40e97913e81e",
   "metadata": {},
   "source": []
  },
  {
   "cell_type": "code",
   "execution_count": null,
   "id": "34ca2f4d-7cec-4690-9023-4e0eaa69803a",
   "metadata": {},
   "outputs": [],
   "source": [
    "plt.plot(history10.history['loss'], label = 'Train Loss')\n",
    "plt.plot(history10.history['val_loss'], label = 'Val Loss')\n",
    "plt.legend()\n",
    "plt.xlabel('Epoch')\n",
    "plt.ylabel('Loss')\n",
    "plt.title('Train vs Validation Loss Results');"
   ]
  },
  {
   "cell_type": "markdown",
   "id": "0fe56210-c195-40f1-a8e9-f9e9a2531d54",
   "metadata": {},
   "source": [
    "### Test Data"
   ]
  },
  {
   "cell_type": "code",
   "execution_count": null,
   "id": "0b504b8f-197d-4bf8-9dc9-d73126c8d15a",
   "metadata": {},
   "outputs": [],
   "source": [
    "# reference: https://towardsdatascience.com/confusion-matrix-for-your-multi-class-machine-learning-model-ff9aa3bf7826"
   ]
  },
  {
   "cell_type": "code",
   "execution_count": null,
   "id": "e3702cd5-c7f1-4b3e-873c-e562f6162e73",
   "metadata": {},
   "outputs": [],
   "source": [
    "preds10_test = conv_base10.predict(test_data_aug)"
   ]
  },
  {
   "cell_type": "code",
   "execution_count": null,
   "id": "94eaf037-9b97-4332-a48b-c02defe6108b",
   "metadata": {},
   "outputs": [],
   "source": [
    "model10.evaluate(preds10_test)\n",
    "\n",
    "preds10 = model10.predict(preds10_test) > 0.5\n",
    "\n",
    "preds10 = preds10.astype(int)\n",
    "\n",
    "test_data_values = test_data.labels \n",
    "\n",
    "cm = confusion_matrix(test_data_values, preds10.argmax(axis=1))"
   ]
  },
  {
   "cell_type": "markdown",
   "id": "d3365ef9-9dd1-4abb-8aaf-6cf586f98967",
   "metadata": {},
   "source": [
    "#### Adding Result to DF"
   ]
  },
  {
   "cell_type": "code",
   "execution_count": null,
   "id": "fe297d7b-9e9a-4100-9557-4862da116a89",
   "metadata": {},
   "outputs": [],
   "source": [
    "results_df2['test_accuracy'].iloc[10] = 0 \n",
    "\n",
    "results_df2['test_recall'].iloc[10] = 0\n",
    "\n",
    "results_df2['test_precision'].iloc[10] = 0\n"
   ]
  },
  {
   "cell_type": "markdown",
   "id": "392fa9fe-1d8f-4d74-9f55-2f05e2dacfce",
   "metadata": {},
   "source": [
    "#### Confusion Matrix "
   ]
  },
  {
   "cell_type": "code",
   "execution_count": null,
   "id": "a52521a4-5860-4bb0-88ff-04544289c109",
   "metadata": {},
   "outputs": [],
   "source": [
    "print(pd.DataFrame(cm, index = ['effusion', 'normal', 'otitis_media', 'tube', 'unclear'], columns = ['effusion', 'normal', 'otitis_media', 'tube', 'unclear']))\n",
    "#Confusion Matrix\n",
    "#Row is True Class \n",
    "#Column is Predicted Class \n",
    "#Diag Match"
   ]
  },
  {
   "cell_type": "markdown",
   "id": "5e6742a3-a8ba-4bc9-a015-3425ab886829",
   "metadata": {},
   "source": [
    "#### Classification Report "
   ]
  },
  {
   "cell_type": "code",
   "execution_count": null,
   "id": "182eb684-8099-468d-8446-593591b9229b",
   "metadata": {},
   "outputs": [],
   "source": [
    "print(classification_report(test_data_values, preds10.argmax(axis=1), target_names = ['effusion', 'normal', 'otitis_media', 'tube', 'unclear']))\n",
    "#F1 Score is the 2*((precision*recall)/(precision+recall)) \n",
    "#TP/(TP+FP)\n",
    "#TP/(TP+FN)."
   ]
  },
  {
   "cell_type": "markdown",
   "id": "0f8ea330-6f12-4704-a9b9-cd7a6ba080fc",
   "metadata": {},
   "source": [
    "## Model 11: Adding Prebuilt Networks MobileNetV2"
   ]
  },
  {
   "cell_type": "code",
   "execution_count": null,
   "id": "2e28a8f8-c3d8-4d87-8ce7-e20c106a038b",
   "metadata": {
    "tags": []
   },
   "outputs": [],
   "source": [
    "conv_base11 = MobileNetV2(include_top=False, input_shape = (150, 150, 3))\n",
    "\n",
    "preds11 = conv_base11.predict(train_aug)\n",
    "\n",
    "preds_val11 = conv_base11.predict(valid_aug)\n",
    "\n",
    "model11 = Sequential()\n",
    "model11.add(GlobalAveragePooling2D())\n",
    "model11.add(Dense(100, activation = 'relu'))\n",
    "model11.add(Dropout(0.1))\n",
    "model11.add(Dense(50, activation = 'relu'))\n",
    "model11.add(Dense(5, activation = 'softmax'))\n",
    "\n",
    "model11.compile(loss = 'categorical_crossentropy', optimizer = 'adam', metrics = ['accuracy', 'Recall', 'Precision'])\n",
    "\n",
    "y_train = train_aug.labels \n",
    "y_train_binarized = to_categorical(y_train)\n",
    "\n",
    "y_valid = valid_aug.labels \n",
    "y_valid_binarized = to_categorical(y_valid)\n",
    "\n",
    "history11 = model11.fit(preds11, y_train_binarized, epochs = 100, validation_data = (preds_val11, y_valid_binarized),\n",
    "    batch_size = 30)\n",
    "\n"
   ]
  },
  {
   "cell_type": "markdown",
   "id": "9d880cde-6679-46c2-b47e-9356f4e4f360",
   "metadata": {},
   "source": [
    "#### Adding Results to DF"
   ]
  },
  {
   "cell_type": "code",
   "execution_count": null,
   "id": "07b94ec6-e9ad-44b6-ad41-d8fae139f49a",
   "metadata": {},
   "outputs": [],
   "source": [
    "results_df2['train_accuracy'].iloc[11] = 0\n",
    "\n",
    "results_df2['train_recall'].iloc[11] = 0\n",
    "\n",
    "results_df2['train_precision'].iloc[11] = 0\n",
    "\n",
    "results_df2['val_accuracy'].iloc[11] = 0\n",
    "\n",
    "results_df2['val_recall'].iloc[11] = 0\n",
    "\n",
    "results_df2['val_precision'].iloc[11] =  0"
   ]
  },
  {
   "cell_type": "code",
   "execution_count": null,
   "id": "b59c4487-dc5e-4b29-83c5-78a7981a5346",
   "metadata": {},
   "outputs": [],
   "source": [
    "plt.plot(history11.history['accuracy'], label='Train Accuracy')\n",
    "plt.plot(history11.history['val_accuracy'], label = 'Val Accuracy')\n",
    "plt.plot(history11.history['precision'], label = 'precision')\n",
    "plt.plot(history11.history['val_precision'], label = 'val_precision')\n",
    "plt.plot(history11.history['recall'], label = 'recall')\n",
    "plt.plot(history11.history['val_recall'], label = 'val_recall')\n",
    "plt.legend() \n",
    "plt.yticks([0,0.2,0.4,0.6, 0.8,1]) \n",
    "plt.xlabel('Epoch')\n",
    "plt.ylabel('Metric')\n",
    "plt.title('Train vs Validation Metric Results');"
   ]
  },
  {
   "cell_type": "markdown",
   "id": "f3cdcbca-c463-4c5a-bf1e-c1fb799bdcb6",
   "metadata": {},
   "source": []
  },
  {
   "cell_type": "code",
   "execution_count": null,
   "id": "e1748ea5-476d-4782-9ab7-01eb45a5cbf1",
   "metadata": {},
   "outputs": [],
   "source": [
    "plt.plot(history11.history['loss'], label = 'Train Loss')\n",
    "plt.plot(history11.history['val_loss'], label = 'Val Loss')\n",
    "plt.legend()\n",
    "plt.xlabel('Epoch')\n",
    "plt.ylabel('Loss')\n",
    "plt.title('Train vs Validation Loss Results');"
   ]
  },
  {
   "cell_type": "markdown",
   "id": "bebb56d9-87e1-413b-91bf-8ee0dcc2b51e",
   "metadata": {},
   "source": [
    "### Test Data"
   ]
  },
  {
   "cell_type": "code",
   "execution_count": null,
   "id": "0d71e8ae-d670-44b1-8b7f-e8fd4f159537",
   "metadata": {},
   "outputs": [],
   "source": [
    "# reference: https://towardsdatascience.com/confusion-matrix-for-your-multi-class-machine-learning-model-ff9aa3bf7826"
   ]
  },
  {
   "cell_type": "code",
   "execution_count": null,
   "id": "dcc47755-3cbb-4291-a19c-731eb2d2d214",
   "metadata": {},
   "outputs": [],
   "source": [
    "preds11_test = conv_base11.predict(test_data_aug)"
   ]
  },
  {
   "cell_type": "code",
   "execution_count": null,
   "id": "e457ca7c-baca-4831-8e16-a9a7dde19fc4",
   "metadata": {},
   "outputs": [],
   "source": [
    "model11.evaluate(preds11_test)\n",
    "\n",
    "preds11 = model11.predict(preds11_test) > 0.5\n",
    "\n",
    "preds11 = preds11.astype(int)\n",
    "\n",
    "test_data_values = test_data.labels \n",
    "\n",
    "cm = confusion_matrix(test_data_values, preds11.argmax(axis=1))"
   ]
  },
  {
   "cell_type": "markdown",
   "id": "efbcaf36-9941-4952-8000-883257ee80a1",
   "metadata": {},
   "source": [
    "#### Adding Result to DF"
   ]
  },
  {
   "cell_type": "code",
   "execution_count": null,
   "id": "31a881ed-25aa-475b-ad29-524e9a8c3b52",
   "metadata": {},
   "outputs": [],
   "source": [
    "results_df2['test_accuracy'].iloc[11] = 0\n",
    "\n",
    "results_df2['test_recall'].iloc[11] = 0\n",
    "\n",
    "results_df2['test_precision'].iloc[11] = 0"
   ]
  },
  {
   "cell_type": "markdown",
   "id": "e3f02309-7f1b-4ea8-9dba-67cd64749a4b",
   "metadata": {},
   "source": [
    "#### Confusion Matrix"
   ]
  },
  {
   "cell_type": "code",
   "execution_count": null,
   "id": "ce273563-4c9f-4b05-b56f-4dd375174ce6",
   "metadata": {},
   "outputs": [],
   "source": [
    "print(pd.DataFrame(cm, index = ['effusion', 'normal', 'otitis_media', 'tube', 'unclear'], columns = ['effusion', 'normal', 'otitis_media', 'tube', 'unclear']))\n",
    "#Confusion Matrix\n",
    "#Row is True Class \n",
    "#Column is Predicted Class \n",
    "#Diag Match"
   ]
  },
  {
   "cell_type": "markdown",
   "id": "b9e4dd55-479d-4313-a4ab-62d8c5124608",
   "metadata": {},
   "source": [
    "#### Classification Report "
   ]
  },
  {
   "cell_type": "code",
   "execution_count": null,
   "id": "45228c37-9d42-4ac1-9a18-459ade3706d0",
   "metadata": {},
   "outputs": [],
   "source": [
    "print(classification_report(test_data_values, preds11.argmax(axis=1), target_names = ['effusion', 'normal', 'otitis_media', 'tube', 'unclear']))\n",
    "#F1 Score is the 2*((precision*recall)/(precision+recall)) \n",
    "#TP/(TP+FP)\n",
    "#TP/(TP+FN)."
   ]
  },
  {
   "cell_type": "markdown",
   "id": "7e37d881-c68d-44a1-9d89-fddc5a07835c",
   "metadata": {},
   "source": [
    "## Model 12: Experimenting with Convolutional Layers and Pooling (Adding Augmented Images)"
   ]
  },
  {
   "cell_type": "code",
   "execution_count": null,
   "id": "846a6f38-a161-4816-85b2-6f4647436d17",
   "metadata": {},
   "outputs": [],
   "source": [
    "model12 = Sequential()\n",
    "model12.add(Conv2D(filters = 10, kernel_size = (3, 3), activation = 'relu'))\n",
    "model12.add(MaxPool2D((2, 2)))\n",
    "model12.add(Flatten())\n",
    "model12.add(Dense(100, activation = 'relu'))\n",
    "model12.add(Dropout(0.1))\n",
    "model12.add(Dense(5, activation = 'softmax'))\n",
    "\n",
    "model12.compile(loss = 'categorical_crossentropy', optimizer = 'adam', metrics = ['accuracy', 'Recall', 'Precision'])"
   ]
  },
  {
   "cell_type": "code",
   "execution_count": null,
   "id": "927315e9-33f7-4396-b10d-b76a94c03762",
   "metadata": {
    "tags": []
   },
   "outputs": [],
   "source": [
    "history12 = model12.fit(train_aug, epochs = 80, validation_data = valid_aug)"
   ]
  },
  {
   "cell_type": "markdown",
   "id": "5896907d-a52a-413c-864b-db63145cd618",
   "metadata": {},
   "source": [
    "#### Adding Result to DF"
   ]
  },
  {
   "cell_type": "code",
   "execution_count": null,
   "id": "2327d97b-b739-4a2e-9d60-bb0d0ec93df5",
   "metadata": {},
   "outputs": [],
   "source": [
    "results_df2['train_accuracy'].iloc[12] = 0\n",
    "\n",
    "results_df2['train_recall'].iloc[12] = 0\n",
    "\n",
    "results_df2['train_precision'].iloc[12] = 0\n",
    "\n",
    "results_df2['val_accuracy'].iloc[12] = 0\n",
    "\n",
    "results_df2['val_recall'].iloc[12] = 0\n",
    "\n",
    "results_df2['val_precision'].iloc[12] =  0"
   ]
  },
  {
   "cell_type": "code",
   "execution_count": null,
   "id": "38535b12-bc6d-4891-917b-265dfe4dab11",
   "metadata": {},
   "outputs": [],
   "source": [
    "plt.plot(history12.history['accuracy'], label='Train Accuracy')\n",
    "plt.plot(history12.history['val_accuracy'], label = 'Val Accuracy')\n",
    "plt.plot(history12.history['precision'], label = 'precision')\n",
    "plt.plot(history12.history['val_precision'], label = 'val_precision')\n",
    "plt.plot(history12.history['recall'], label = 'recall')\n",
    "plt.plot(history12.history['val_recall'], label = 'val_recall')\n",
    "plt.legend() \n",
    "plt.yticks([0,0.2,0.4,0.6, 0.8,1]) \n",
    "plt.xlabel('Epoch')\n",
    "plt.ylabel('Metric')\n",
    "plt.title('Train vs Validation Metric Results');\n"
   ]
  },
  {
   "cell_type": "markdown",
   "id": "f1e4c719-ea54-40e2-ad08-ef8291467ffd",
   "metadata": {},
   "source": []
  },
  {
   "cell_type": "code",
   "execution_count": null,
   "id": "28143eb3-8b64-432d-8fc9-bd68a6ea7f4a",
   "metadata": {},
   "outputs": [],
   "source": [
    "plt.plot(history12.history['loss'], label = 'Train Loss')\n",
    "plt.plot(history12.history['val_loss'], label = 'Val Loss')\n",
    "plt.legend()\n",
    "plt.xlabel('Epoch')\n",
    "plt.ylabel('Loss')\n",
    "plt.title('Train vs Validation Loss Results');"
   ]
  },
  {
   "cell_type": "markdown",
   "id": "af86716b-5ad2-4cea-8f5d-fac6ea87bb56",
   "metadata": {},
   "source": [
    "### Test Data"
   ]
  },
  {
   "cell_type": "code",
   "execution_count": null,
   "id": "85055228-073f-49cb-9d3c-eeaee2ecf01f",
   "metadata": {},
   "outputs": [],
   "source": [
    "# reference: https://towardsdatascience.com/confusion-matrix-for-your-multi-class-machine-learning-model-ff9aa3bf7826"
   ]
  },
  {
   "cell_type": "code",
   "execution_count": null,
   "id": "6b5ea37d-503f-475d-bb37-d4d36eed29a3",
   "metadata": {},
   "outputs": [],
   "source": [
    "model12.evaluate(test_data_aug)\n",
    "\n",
    "preds12 = model12.predict(test_data_aug) > 0.5\n",
    "\n",
    "preds12 = preds12.astype(int)\n",
    "\n",
    "test_data_values = test_data.labels \n"
   ]
  },
  {
   "cell_type": "markdown",
   "id": "2db297f6-f519-48c0-b712-4964f1232f8f",
   "metadata": {
    "tags": []
   },
   "source": [
    "#### Adding Results to DF"
   ]
  },
  {
   "cell_type": "code",
   "execution_count": null,
   "id": "336329a7-cddf-44e6-9525-c25a8277a8c6",
   "metadata": {},
   "outputs": [],
   "source": [
    "results_df2['test_accuracy'].iloc[12] = 0\n",
    "\n",
    "results_df2['test_recall'].iloc[12] = 0\n",
    "\n",
    "results_df2['test_precision'].iloc[12] = 0\n"
   ]
  },
  {
   "cell_type": "markdown",
   "id": "f419e7b5-e3b9-4fbd-a128-82482913f5f2",
   "metadata": {},
   "source": [
    "#### Confusion Matrix"
   ]
  },
  {
   "cell_type": "code",
   "execution_count": null,
   "id": "7e033755-3881-41fa-a443-849c517e843d",
   "metadata": {},
   "outputs": [],
   "source": [
    "cm = confusion_matrix(test_data_values, preds12.argmax(axis=1))\n",
    "print(pd.DataFrame(cm, index = ['effusion', 'normal', 'otitis_media', 'tube', 'unclear'], columns = ['effusion', 'normal', 'otitis_media', 'tube', 'unclear']))\n",
    "#Confusion Matrix\n",
    "#Row is True Class \n",
    "#Column is Predicted Class \n",
    "#Diag Match"
   ]
  },
  {
   "cell_type": "markdown",
   "id": "1911c354-5784-44f2-af51-153ba2a46523",
   "metadata": {},
   "source": [
    "#### Classification Report "
   ]
  },
  {
   "cell_type": "code",
   "execution_count": null,
   "id": "17da8f4c-4180-4fed-9ad0-3fa04bb73617",
   "metadata": {},
   "outputs": [],
   "source": [
    "print(classification_report(test_data_values, preds12.argmax(axis=1), target_names = ['effusion', 'normal', 'otitis_media', 'tube', 'unclear']))\n",
    "#F1 Score is the 2*((precision*recall)/(precision+recall)) \n",
    "#TP/(TP+FP)\n",
    "#TP/(TP+FN)."
   ]
  },
  {
   "cell_type": "markdown",
   "id": "d5232ab7-68c1-40b1-9545-23c3ec3df9ea",
   "metadata": {},
   "source": [
    "## Model 13: Experimenting with Convolutional Layers, Augmented Data and Pooling (Adding Average Pool)"
   ]
  },
  {
   "cell_type": "code",
   "execution_count": null,
   "id": "aa886d34-85ee-411f-8c0e-58e8efe1b771",
   "metadata": {},
   "outputs": [],
   "source": [
    "model13 = Sequential()\n",
    "model13.add(Conv2D(filters = 10, kernel_size = (3, 3), activation = 'relu'))\n",
    "model13.add(AveragePooling2D((2, 2)))\n",
    "model13.add(Flatten())\n",
    "model13.add(Dense(100, activation = 'relu'))\n",
    "model13.add(Dropout(0.1))\n",
    "model13.add(Dense(5, activation = 'softmax'))\n",
    "\n",
    "model13.compile(loss = 'categorical_crossentropy', optimizer = 'adam', metrics = ['accuracy', 'Recall', 'Precision'])"
   ]
  },
  {
   "cell_type": "code",
   "execution_count": null,
   "id": "54048f9e-9448-4cfe-a5e0-975641dfbf87",
   "metadata": {
    "tags": []
   },
   "outputs": [],
   "source": [
    "history13 = model13.fit(train_aug, epochs = 80, validation_data = valid_aug,\n",
    "    batch_size = 32)"
   ]
  },
  {
   "cell_type": "markdown",
   "id": "7d852533-9f20-4230-b464-fe92bb1358c0",
   "metadata": {},
   "source": [
    "#### Adding Results to DF"
   ]
  },
  {
   "cell_type": "code",
   "execution_count": null,
   "id": "5ce4aabc-18a2-4dc2-8079-ea32a6a65486",
   "metadata": {},
   "outputs": [],
   "source": [
    "results_df2['train_accuracy'].iloc[13] = 0\n",
    "\n",
    "results_df2['train_recall'].iloc[13] =0\n",
    "\n",
    "results_df2['train_precision'].iloc[13] = 0\n",
    "\n",
    "results_df2['val_accuracy'].iloc[13] = 0\n",
    "\n",
    "results_df2['val_recall'].iloc[13] =0\n",
    "\n",
    "results_df2['val_precision'].iloc[13] =  0"
   ]
  },
  {
   "cell_type": "code",
   "execution_count": null,
   "id": "5b325d48-6cc9-4a53-9ac9-d3dbee4a8a4b",
   "metadata": {},
   "outputs": [],
   "source": [
    "plt.plot(history13.history['accuracy'], label='Train Accuracy')\n",
    "plt.plot(history13.history['val_accuracy'], label = 'Val Accuracy')\n",
    "plt.plot(history13.history['precision'], label = 'precision')\n",
    "plt.plot(history13.history['val_precision'], label = 'val_precision')\n",
    "plt.plot(history13.history['recall'], label = 'recall')\n",
    "plt.plot(history13.history['val_recall'], label = 'val_recall')\n",
    "plt.legend() \n",
    "plt.yticks([0,0.2,0.4,0.6, 0.8,1]) \n",
    "plt.xlabel('Epoch')\n",
    "plt.ylabel('Metric')\n",
    "plt.title('Train vs Validation Metric Results');\n"
   ]
  },
  {
   "cell_type": "markdown",
   "id": "7a439e87-5872-4bc6-9ee8-0c2e59606c0c",
   "metadata": {},
   "source": []
  },
  {
   "cell_type": "code",
   "execution_count": null,
   "id": "f932f5ed-5f52-4406-949e-80e841b87176",
   "metadata": {},
   "outputs": [],
   "source": [
    "plt.plot(history13.history['loss'], label = 'Train Loss')\n",
    "plt.plot(history13.history['val_loss'], label = 'Val Loss')\n",
    "plt.legend()\n",
    "plt.xlabel('Epoch')\n",
    "plt.ylabel('Loss')\n",
    "plt.title('Train vs Validation Loss Results');"
   ]
  },
  {
   "cell_type": "markdown",
   "id": "98d2c576-be04-403e-a03d-a911bd1ac7be",
   "metadata": {},
   "source": [
    "### Test Data"
   ]
  },
  {
   "cell_type": "code",
   "execution_count": null,
   "id": "0b483945-a24b-4feb-83a3-e920251d6083",
   "metadata": {},
   "outputs": [],
   "source": [
    "# reference: https://towardsdatascience.com/confusion-matrix-for-your-multi-class-machine-learning-model-ff9aa3bf7826"
   ]
  },
  {
   "cell_type": "code",
   "execution_count": null,
   "id": "a0887295-b506-4d13-a8eb-e8403b54cc09",
   "metadata": {},
   "outputs": [],
   "source": [
    "model13.evaluate(test_data_aug)\n",
    "\n",
    "preds13 = model13.predict(test_data_aug) > 0.5\n",
    "\n",
    "preds13 = preds13.astype(int)\n",
    "\n",
    "test_data_values = test_data.labels \n",
    "\n",
    "cm = confusion_matrix(test_data_values, preds13.argmax(axis=1))"
   ]
  },
  {
   "cell_type": "markdown",
   "id": "602e8864-d1f3-4045-80a6-3f8b338d333c",
   "metadata": {},
   "source": [
    "#### Adding Results to DF"
   ]
  },
  {
   "cell_type": "code",
   "execution_count": null,
   "id": "341f893c-416d-4122-9c21-8c5d4326e00e",
   "metadata": {},
   "outputs": [],
   "source": [
    "results_df2['test_accuracy'].iloc[13] =0\n",
    "\n",
    "results_df2['test_recall'].iloc[13] = 0 \n",
    "\n",
    "results_df2['test_precision'].iloc[13] = 0 \n"
   ]
  },
  {
   "cell_type": "markdown",
   "id": "d12335d6-e57e-4d7f-9a6c-ebdc6cb8db71",
   "metadata": {},
   "source": [
    "#### Confusion Matrix "
   ]
  },
  {
   "cell_type": "code",
   "execution_count": null,
   "id": "65b525c5-a06d-44db-a55d-bd475e5bab90",
   "metadata": {},
   "outputs": [],
   "source": [
    "print(pd.DataFrame(cm, index = ['effusion', 'normal', 'otitis_media', 'tube', 'unclear'], columns = ['effusion', 'normal', 'otitis_media', 'tube', 'unclear']))\n",
    "#Confusion Matrix\n",
    "#Row is True Class \n",
    "#Column is Predicted Class \n",
    "#Diag Match"
   ]
  },
  {
   "cell_type": "markdown",
   "id": "ffe5abab-ed9f-48fc-b795-d8b377312dba",
   "metadata": {},
   "source": [
    "#### Classification Report "
   ]
  },
  {
   "cell_type": "code",
   "execution_count": null,
   "id": "b90bf876-373c-42e4-a3db-144eabf1e5b3",
   "metadata": {},
   "outputs": [],
   "source": [
    "print(classification_report(test_data_values, preds13.argmax(axis=1), target_names = ['effusion', 'normal', 'otitis_media', 'tube', 'unclear']))\n",
    "#F1 Score is the 2*((precision*recall)/(precision+recall)) \n",
    "#TP/(TP+FP)\n",
    "#TP/(TP+FN)."
   ]
  },
  {
   "cell_type": "markdown",
   "id": "d8dd639f-04e3-4f99-863e-54117c32cddb",
   "metadata": {},
   "source": [
    "## Model 14: Experimenting with Convolutional Layers, Augmented Images, and Pooling (Adding Global Average Pool)"
   ]
  },
  {
   "cell_type": "code",
   "execution_count": null,
   "id": "310238e8-28af-4c99-8513-72031dc987bf",
   "metadata": {},
   "outputs": [],
   "source": [
    "model14 = Sequential()\n",
    "model14.add(Conv2D(filters = 10, kernel_size = (3, 3), activation = 'relu'))\n",
    "model14.add(GlobalAveragePooling2D())\n",
    "model14.add(Dense(100, activation = 'relu'))\n",
    "model14.add(Dropout(0.1))\n",
    "model14.add(Dense(5, activation = 'softmax'))\n",
    "\n",
    "model14.compile(loss = 'categorical_crossentropy', optimizer = 'adam', metrics = ['accuracy', 'Recall', 'Precision'])"
   ]
  },
  {
   "cell_type": "code",
   "execution_count": null,
   "id": "1151c219-066b-4516-a794-585e1c763537",
   "metadata": {
    "tags": []
   },
   "outputs": [],
   "source": [
    "history14 = model14.fit(train_aug, epochs = 100, validation_data = valid_aug,\n",
    "    batch_size = 32, callbacks = [early_stop])"
   ]
  },
  {
   "cell_type": "markdown",
   "id": "67426a2b-b732-4d2d-8b0c-51366c15ea0a",
   "metadata": {},
   "source": [
    "#### Adding Results to DF"
   ]
  },
  {
   "cell_type": "code",
   "execution_count": null,
   "id": "f4a68d8e-326b-41e1-9971-ab9b016730e5",
   "metadata": {},
   "outputs": [],
   "source": [
    "results_df2['train_accuracy'].iloc[14] =  0\n",
    "\n",
    "results_df2['train_recall'].iloc[14] = 0\n",
    "\n",
    "results_df2['train_precision'].iloc[14] = 0\n",
    "\n",
    "results_df2['val_accuracy'].iloc[14] = 0\n",
    "\n",
    "results_df2['val_recall'].iloc[14] = 0\n",
    "\n",
    "results_df2['val_precision'].iloc[14] =  0\n"
   ]
  },
  {
   "cell_type": "code",
   "execution_count": null,
   "id": "a66c7060-8662-4cc1-a0e0-4f69ab285a31",
   "metadata": {},
   "outputs": [],
   "source": [
    "plt.plot(history14.history['accuracy'], label='Train Accuracy')\n",
    "plt.plot(history14.history['val_accuracy'], label = 'Val Accuracy')\n",
    "plt.plot(history14.history['precision'], label = 'precision')\n",
    "plt.plot(history14.history['val_precision'], label = 'val_precision')\n",
    "plt.plot(history14.history['recall'], label = 'recall')\n",
    "plt.plot(history14.history['val_recall'], label = 'val_recall')\n",
    "plt.legend() \n",
    "plt.yticks([0,0.2,0.4,0.6, 0.8,1]) \n",
    "plt.xlabel('Epoch')\n",
    "plt.ylabel('Metric')\n",
    "plt.title('Train vs Validation Metric Results');"
   ]
  },
  {
   "cell_type": "markdown",
   "id": "6e87b6a4-86ab-4572-bcf7-eb1034ec67f0",
   "metadata": {},
   "source": []
  },
  {
   "cell_type": "code",
   "execution_count": null,
   "id": "74670080-4734-478d-9534-605997c72355",
   "metadata": {},
   "outputs": [],
   "source": [
    "plt.plot(history14.history['loss'], label = 'Train Loss')\n",
    "plt.plot(history14.history['val_loss'], label = 'Val Loss')\n",
    "plt.legend()\n",
    "plt.xlabel('Epoch')\n",
    "plt.ylabel('Loss')\n",
    "plt.title('Train vs Validation Loss Results');"
   ]
  },
  {
   "cell_type": "markdown",
   "id": "e00cdec4-9d32-431c-9f08-0bf2ec2ca9bb",
   "metadata": {},
   "source": [
    "### Test Data"
   ]
  },
  {
   "cell_type": "code",
   "execution_count": null,
   "id": "722dd04b-155a-403b-bff1-d9ffeb5407df",
   "metadata": {},
   "outputs": [],
   "source": [
    "# reference: https://towardsdatascience.com/confusion-matrix-for-your-multi-class-machine-learning-model-ff9aa3bf7826"
   ]
  },
  {
   "cell_type": "code",
   "execution_count": null,
   "id": "2f8059dc-2d82-4d2d-b1d5-25aba65a2743",
   "metadata": {},
   "outputs": [],
   "source": [
    "model14.evaluate(test_data_aug)\n",
    "\n",
    "preds14 = model14.predict(test_data_aug) > 0.5\n",
    "\n",
    "preds14 = preds14.astype(int)\n",
    "\n",
    "test_data_values = test_data.labels \n",
    "\n",
    "cm = confusion_matrix(test_data_values, preds14.argmax(axis=1))"
   ]
  },
  {
   "cell_type": "markdown",
   "id": "b480bc13-de85-4173-854b-8f0803cd7382",
   "metadata": {},
   "source": [
    "#### Adding Results to DF"
   ]
  },
  {
   "cell_type": "code",
   "execution_count": null,
   "id": "1e44cbcc-9657-42b7-8e4b-839803e683e2",
   "metadata": {},
   "outputs": [],
   "source": [
    "results_df2['test_accuracy'].iloc[14] = 0\n",
    "\n",
    "results_df2['test_recall'].iloc[14] = 0 \n",
    "\n",
    "results_df2['test_precision'].iloc[14] = 0\n"
   ]
  },
  {
   "cell_type": "markdown",
   "id": "a958737c-7254-4d97-9cc9-263f6636f4db",
   "metadata": {},
   "source": [
    "#### Confusion Matrix"
   ]
  },
  {
   "cell_type": "code",
   "execution_count": null,
   "id": "7f5685e9-1407-4b5d-b895-01a8b994772b",
   "metadata": {},
   "outputs": [],
   "source": [
    "print(pd.DataFrame(cm, index = ['effusion', 'normal', 'otitis_media', 'tube', 'unclear'], columns = ['effusion', 'normal', 'otitis_media', 'tube', 'unclear']))\n",
    "#Confusion Matrix\n",
    "#Row is True Class \n",
    "#Column is Predicted Class \n",
    "#Diag Match\n"
   ]
  },
  {
   "cell_type": "markdown",
   "id": "f63d16db-1cf6-45b2-8369-4ec7ffb1e281",
   "metadata": {},
   "source": [
    "#### Classification Report "
   ]
  },
  {
   "cell_type": "code",
   "execution_count": null,
   "id": "acd7a6b3-83fa-42f6-8f87-8c9d3eb1c3f2",
   "metadata": {},
   "outputs": [],
   "source": [
    "print(classification_report(test_data_values, preds14.argmax(axis=1), target_names = ['effusion', 'normal', 'otitis_media', 'tube', 'unclear']))\n",
    "#F1 Score is the 2*((precision*recall)/(precision+recall)) \n",
    "#TP/(TP+FP)\n",
    "#TP/(TP+FN)."
   ]
  },
  {
   "cell_type": "markdown",
   "id": "f0addc78-c14f-446c-9cfe-824ac766e34d",
   "metadata": {},
   "source": [
    "## Model 15: Experimenting with Convolutional Layers, Augmented Data and Pooling (Adding Global Max Pool)"
   ]
  },
  {
   "cell_type": "code",
   "execution_count": null,
   "id": "13431c34-4ae4-412a-bb85-6bcb467a1e58",
   "metadata": {},
   "outputs": [],
   "source": [
    "model15 = Sequential()\n",
    "model15.add(Conv2D(filters = 10, kernel_size = (3, 3), activation = 'relu'))\n",
    "model15.add(GlobalMaxPooling2D())\n",
    "model15.add(Dense(100, activation = 'relu'))\n",
    "model15.add(Dropout(0.1))\n",
    "model15.add(Dense(5, activation = 'softmax'))\n",
    "\n",
    "model15.compile(loss = 'categorical_crossentropy', optimizer = 'adam', metrics = ['accuracy', 'Recall', 'Precision'])"
   ]
  },
  {
   "cell_type": "code",
   "execution_count": null,
   "id": "6f34d0c6-3b9b-41e8-8feb-69f173f0816b",
   "metadata": {
    "tags": []
   },
   "outputs": [],
   "source": [
    "history15 = model15.fit(train_aug, epochs = 80, validation_data = valid_aug,\n",
    "    batch_size = 32)"
   ]
  },
  {
   "cell_type": "markdown",
   "id": "3d68e8fa-4eb4-4044-968b-fefa12499fd6",
   "metadata": {},
   "source": [
    "#### Adding Result to DF"
   ]
  },
  {
   "cell_type": "code",
   "execution_count": null,
   "id": "dec5c179-014f-4902-acb5-010ee4829b60",
   "metadata": {},
   "outputs": [],
   "source": [
    "results_df2['train_accuracy'].iloc[15] = 0\n",
    "\n",
    "results_df2['train_recall'].iloc[15] = 0\n",
    "\n",
    "results_df2['train_precision'].iloc[15] = 0\n",
    "\n",
    "results_df2['val_accuracy'].iloc[15] =  0\n",
    "\n",
    "results_df2['val_recall'].iloc[15] = 0\n",
    "\n",
    "results_df2['val_precision'].iloc[15] =  0"
   ]
  },
  {
   "cell_type": "code",
   "execution_count": null,
   "id": "351c5b32-9be7-4f95-9350-39d11dadb981",
   "metadata": {},
   "outputs": [],
   "source": [
    "plt.plot(history15.history['accuracy'], label='Train Accuracy')\n",
    "plt.plot(history15.history['val_accuracy'], label = 'Val Accuracy')\n",
    "plt.plot(history15.history['precision'], label = 'precision')\n",
    "plt.plot(history15.history['val_precision'], label = 'val_precision')\n",
    "plt.plot(history15.history['recall'], label = 'recall')\n",
    "plt.plot(history15.history['val_recall'], label = 'val_recall')\n",
    "plt.legend() \n",
    "plt.yticks([0,0.2,0.4,0.6, 0.8,1]) \n",
    "plt.xlabel('Epoch')\n",
    "plt.ylabel('Metric')\n",
    "plt.title('Train vs Validation Metric Results');"
   ]
  },
  {
   "cell_type": "markdown",
   "id": "186d973e-a27b-4295-a590-0d95a0798d1e",
   "metadata": {},
   "source": []
  },
  {
   "cell_type": "code",
   "execution_count": null,
   "id": "9e53f97c-74cd-45b1-9241-8d72b581f9bb",
   "metadata": {},
   "outputs": [],
   "source": [
    "plt.plot(history15.history['loss'], label = 'Train Loss')\n",
    "plt.plot(history15.history['val_loss'], label = 'Val Loss')\n",
    "plt.legend()\n",
    "plt.xlabel('Epoch')\n",
    "plt.ylabel('Loss')\n",
    "plt.title('Train vs Validation Loss Results');"
   ]
  },
  {
   "cell_type": "markdown",
   "id": "6b15a312-b113-40ee-8505-d371d18d9a3d",
   "metadata": {},
   "source": [
    "### Test Data"
   ]
  },
  {
   "cell_type": "code",
   "execution_count": null,
   "id": "1b8ba8e5-1a65-4eae-9d77-6e2f7d236a81",
   "metadata": {},
   "outputs": [],
   "source": [
    "# reference: https://towardsdatascience.com/confusion-matrix-for-your-multi-class-machine-learning-model-ff9aa3bf7826"
   ]
  },
  {
   "cell_type": "code",
   "execution_count": null,
   "id": "818cba43-3f71-4f53-ade4-62810aa4b079",
   "metadata": {},
   "outputs": [],
   "source": [
    "model15.evaluate(test_data_aug)\n",
    "\n",
    "preds15 = model15.predict(test_data_aug) > 0.5\n",
    "\n",
    "preds15 = preds15.astype(int)\n",
    "\n",
    "test_data_values = test_data.labels \n",
    "\n",
    "cm = confusion_matrix(test_data_values, preds15.argmax(axis=1))"
   ]
  },
  {
   "cell_type": "markdown",
   "id": "218e2056-b821-4b03-b4f0-bdda597bfb5d",
   "metadata": {},
   "source": [
    "#### Adding Results to DF"
   ]
  },
  {
   "cell_type": "code",
   "execution_count": null,
   "id": "02aefa7f-b84a-4281-adef-50821d893bfb",
   "metadata": {},
   "outputs": [],
   "source": [
    "results_df2['test_accuracy'].iloc[15] = 0\n",
    "\n",
    "results_df2['test_recall'].iloc[15] = 0\n",
    "\n",
    "results_df2['test_precision'].iloc[15] = 0\n"
   ]
  },
  {
   "cell_type": "markdown",
   "id": "832ad1cb-a7ac-411d-ae17-80ab253157c4",
   "metadata": {},
   "source": [
    "#### Confusion Matrix"
   ]
  },
  {
   "cell_type": "code",
   "execution_count": null,
   "id": "609a5655-565c-467e-bf2c-120a0ddb1986",
   "metadata": {},
   "outputs": [],
   "source": [
    "print(pd.DataFrame(cm, index = ['effusion', 'normal', 'otitis_media', 'tube', 'unclear'], columns = ['effusion', 'normal', 'otitis_media', 'tube', 'unclear']))\n",
    "#Confusion Matrix\n",
    "#Row is True Class \n",
    "#Column is Predicted Class \n",
    "#Diag Match"
   ]
  },
  {
   "cell_type": "markdown",
   "id": "f0f2df36-bf09-49a0-9d56-3c3795c55eea",
   "metadata": {},
   "source": [
    "#### Classification Report "
   ]
  },
  {
   "cell_type": "code",
   "execution_count": null,
   "id": "353ff97d-01f3-454a-ab11-aa5fad5109f1",
   "metadata": {},
   "outputs": [],
   "source": [
    "print(classification_report(test_data_values, preds15.argmax(axis=1), target_names = ['effusion', 'normal', 'otitis_media', 'tube', 'unclear']))\n",
    "#F1 Score is the 2*((precision*recall)/(precision+recall)) \n",
    "#TP/(TP+FP)\n",
    "#TP/(TP+FN)."
   ]
  },
  {
   "cell_type": "markdown",
   "id": "37fbf54b-8103-4733-9749-88a1d6249aa5",
   "metadata": {},
   "source": [
    "## Model 16: Maxpool,Conv2D, with Less Neurons"
   ]
  },
  {
   "cell_type": "code",
   "execution_count": null,
   "id": "02d5704e-6cf7-422b-a8ca-bb9a8b332ce6",
   "metadata": {},
   "outputs": [],
   "source": [
    "model16 = Sequential()\n",
    "model16.add(Conv2D(filters = 10, kernel_size = (3, 3), activation = 'relu'))\n",
    "model16.add(MaxPool2D((2, 2)))\n",
    "model16.add(Flatten())\n",
    "model16.add(Dense(50, activation = 'relu'))\n",
    "model16.add(Dropout(0.1))\n",
    "model16.add(Dense(5, activation = 'softmax'))\n",
    "\n",
    "model16.compile(loss = 'categorical_crossentropy', optimizer = 'adam', metrics = ['accuracy', 'Recall', 'Precision'])"
   ]
  },
  {
   "cell_type": "code",
   "execution_count": null,
   "id": "0c010304-5a48-4878-82db-da389dfbc4f5",
   "metadata": {
    "tags": []
   },
   "outputs": [],
   "source": [
    "history16 = model16.fit(train_aug, epochs = 80, validation_data = valid_aug,\n",
    "    batch_size = 32)"
   ]
  },
  {
   "cell_type": "code",
   "execution_count": null,
   "id": "516ee93f-dbdc-4f61-a179-5686730c9ddb",
   "metadata": {},
   "outputs": [],
   "source": [
    "results_df2['train_accuracy'].iloc[16] = 0\n",
    "\n",
    "results_df2['train_recall'].iloc[16] = 0 \n",
    "\n",
    "results_df2['train_precision'].iloc[16] = 0\n",
    "\n",
    "results_df2['val_accuracy'].iloc[16] = 0\n",
    "\n",
    "results_df2['val_recall'].iloc[16] = 0\n",
    "\n",
    "results_df2['val_precision'].iloc[16] =  0"
   ]
  },
  {
   "cell_type": "code",
   "execution_count": null,
   "id": "dd21603b-11b8-46c8-9bb6-66d1307494c7",
   "metadata": {},
   "outputs": [],
   "source": [
    "plt.plot(history16.history['accuracy'], label='Train Accuracy')\n",
    "plt.plot(history16.history['val_accuracy'], label = 'Val Accuracy')\n",
    "plt.plot(history16.history['precision'], label = 'precision')\n",
    "plt.plot(history16.history['val_precision'], label = 'val_precision')\n",
    "plt.plot(history16.history['recall'], label = 'recall')\n",
    "plt.plot(history16.history['val_recall'], label = 'val_recall')\n",
    "plt.legend() \n",
    "plt.yticks([0,0.2,0.4,0.6, 0.8,1]) \n",
    "plt.xlabel('Epoch')\n",
    "plt.ylabel('Metric')\n",
    "plt.title('Train vs Validation Metric Results');"
   ]
  },
  {
   "cell_type": "markdown",
   "id": "fdfc1642-9a22-47b1-81c2-cd2afdaed38b",
   "metadata": {},
   "source": []
  },
  {
   "cell_type": "code",
   "execution_count": null,
   "id": "a3bf70fd-c688-432e-acc9-ac771e0d5fd2",
   "metadata": {},
   "outputs": [],
   "source": [
    "model16.evaluate(test_data_aug)\n",
    "\n",
    "preds16 = model16.predict(test_data_aug) > 0.5\n",
    "\n",
    "preds16 = preds16.astype(int)\n",
    "\n",
    "test_data_values = test_data.labels \n"
   ]
  },
  {
   "cell_type": "code",
   "execution_count": null,
   "id": "6989303b-5397-4ecb-94e7-f4927f8d4e35",
   "metadata": {},
   "outputs": [],
   "source": [
    "\n",
    "results_df2['test_accuracy'].iloc[16] = 0\n",
    "\n",
    "results_df2['test_recall'].iloc[16] = 0\n",
    "\n",
    "results_df2['test_precision'].iloc[16] = 0"
   ]
  },
  {
   "cell_type": "code",
   "execution_count": null,
   "id": "f4c12e6c-78f8-41fc-9c14-2ab9cee652df",
   "metadata": {},
   "outputs": [],
   "source": [
    "cm = confusion_matrix(test_data_values, preds16.argmax(axis=1))\n",
    "print(pd.DataFrame(cm, index = ['effusion', 'normal', 'otitis_media', 'tube', 'unclear'], columns = ['effusion', 'normal', 'otitis_media', 'tube', 'unclear']))\n",
    "#Confusion Matrix\n",
    "#Row is True Class \n",
    "#Column is Predicted Class \n",
    "#Diag Match"
   ]
  },
  {
   "cell_type": "code",
   "execution_count": null,
   "id": "0ae0647a-5c07-4d45-8778-89b7947095b0",
   "metadata": {},
   "outputs": [],
   "source": [
    "print(classification_report(test_data_values, preds16.argmax(axis=1), target_names = ['effusion', 'normal', 'otitis_media', 'tube', 'unclear']))\n",
    "#F1 Score is the 2*((precision*recall)/(precision+recall)) \n",
    "#TP/(TP+FP)\n",
    "#TP/(TP+FN)"
   ]
  },
  {
   "cell_type": "markdown",
   "id": "14409be2-7a23-4f09-b33c-797e2c72f51e",
   "metadata": {},
   "source": [
    "## Model 16: Freezing Inception-ResNetV2"
   ]
  },
  {
   "cell_type": "code",
   "execution_count": null,
   "id": "f7ff2317-d8a3-481a-88ea-a792ac5c34d4",
   "metadata": {},
   "outputs": [],
   "source": [
    "#train_aug = train_gen_aug.flow_from_directory('/Users/annafunsten/Desktop/dsir-322/capstone/Ear-Infection-Identifier/data/middle_ear_images/train/', subset = 'training')\n",
    "\n",
    "#valid_aug = train_gen_aug.flow_from_directory('/Users/annafunsten/Desktop/dsir-322/capstone/Ear-Infection-Identifier/data/middle_ear_images/train/', subset = 'validation' )"
   ]
  },
  {
   "cell_type": "code",
   "execution_count": null,
   "id": "24540965-5466-4afd-948a-b1051a8973ae",
   "metadata": {},
   "outputs": [],
   "source": [
    "#reference https://www.youtube.com/watch?v=3ou0KYtDlOI"
   ]
  },
  {
   "cell_type": "code",
   "execution_count": null,
   "id": "9bcbbda6-0f26-4de2-a280-eb8b7fa18672",
   "metadata": {
    "tags": []
   },
   "outputs": [],
   "source": [
    "#conv_base18 = InceptionResNetV2(include_top=False, input_shape = (299, 299, 3))"
   ]
  },
  {
   "cell_type": "code",
   "execution_count": null,
   "id": "9483220f-0864-46b5-9d69-73aa96ae4ca8",
   "metadata": {},
   "outputs": [],
   "source": [
    "#type(conv_base18)"
   ]
  },
  {
   "cell_type": "code",
   "execution_count": null,
   "id": "35760414-95f2-4dfa-87f6-003faab9f408",
   "metadata": {
    "tags": []
   },
   "outputs": [],
   "source": [
    "#conv_base18.summary()"
   ]
  },
  {
   "cell_type": "code",
   "execution_count": null,
   "id": "f216376f-dd35-4462-b320-c9c916721231",
   "metadata": {
    "tags": []
   },
   "outputs": [],
   "source": [
    "#model18 = Sequential()\n",
    "#for layer in conv_base18.layers[:-1]:\n",
    "#    model18.add(Flatten())\n",
    "#    model18.add(layer)\n",
    "\n",
    "#for layers in model18.layers:\n",
    "    layer.trainable = False "
   ]
  },
  {
   "cell_type": "code",
   "execution_count": null,
   "id": "3ee4af1c-5b39-4487-aef6-57cd865124dd",
   "metadata": {},
   "outputs": [],
   "source": [
    "#model18.add(Dense(units=3, activation = 'softmax'))"
   ]
  },
  {
   "cell_type": "code",
   "execution_count": null,
   "id": "aa945093-c7d8-4e61-89de-c923eac2b702",
   "metadata": {},
   "outputs": [],
   "source": []
  },
  {
   "cell_type": "code",
   "execution_count": null,
   "id": "24da7ce1-3fe2-4bcf-89d7-e9fe9f7b2348",
   "metadata": {},
   "outputs": [],
   "source": [
    "#model18.compile(loss = 'categorical_crossentropy', optimizer = 'adam', metrics = ['accuracy', 'Recall', 'Precision'])"
   ]
  },
  {
   "cell_type": "code",
   "execution_count": null,
   "id": "e4d0def0-a39f-498a-9349-769edf1020e3",
   "metadata": {},
   "outputs": [],
   "source": [
    "#history = model18.fit(train_aug, epochs = 5, validation_data = valid_aug,batch_size = 32)"
   ]
  },
  {
   "cell_type": "code",
   "execution_count": null,
   "id": "277c2704-3e25-49c5-8698-3dee22be8fa9",
   "metadata": {},
   "outputs": [],
   "source": [
    "#model18.add(GlobalAveragePooling2D(input_shape = 150, 150, 3 =))\n",
    "\n",
    "#model18.add(Dense(50, activation = 'relu'))\n",
    "\n",
    "#model18.add(Dense(units = 3, activation = 'softmax'))\n",
    "\n",
    "#model18.compile(loss = 'categorical_crossentropy', optimizer = 'adam', metrics = ['accuracy'])\n",
    "\n",
    "\n",
    "#history = model18.fit(train_aug, epochs = 80, validation_data = valid_aug,\n",
    " #   batch_size = 32, callbacks=[early_stop])\n",
    "\n",
    "#plt.plot(history.history['accuracy'], label='Train Accuracy')\n",
    "#plt.plot(history.history['val_accuracy'], label = 'Val Accuracy')\n",
    "#plt.legend() \n",
    "#plt.yticks([0,0.2,0.4,0.6, 0.8,1]) \n",
    "#plt.xlabel('Epoch')\n",
    "#plt.ylabel('Accuracy')\n",
    "#plt.title('Results');"
   ]
  },
  {
   "cell_type": "markdown",
   "id": "e2c42541-eb31-4889-add3-c624961915e4",
   "metadata": {},
   "source": [
    "### Export Model Summary DF"
   ]
  },
  {
   "cell_type": "code",
   "execution_count": null,
   "id": "94ceddc4-b8e2-4149-81d9-c33ff5897f9a",
   "metadata": {},
   "outputs": [],
   "source": [
    "results_df.info()\n",
    "\n",
    "results_df = results_df.apply(pd.to_numeric)\n"
   ]
  },
  {
   "cell_type": "code",
   "execution_count": null,
   "id": "5aa0f391-05c2-4e4e-8fd6-953cae5684a3",
   "metadata": {},
   "outputs": [],
   "source": [
    "results_df.describe()"
   ]
  },
  {
   "cell_type": "code",
   "execution_count": null,
   "id": "3f805380-4200-4747-9645-d8eb2886c801",
   "metadata": {},
   "outputs": [],
   "source": [
    "results_df[:17]"
   ]
  },
  {
   "cell_type": "markdown",
   "id": "39ef27aa-e138-4e9e-b31b-64328b187668",
   "metadata": {},
   "source": [
    "#### Best Model to Date:"
   ]
  },
  {
   "cell_type": "code",
   "execution_count": null,
   "id": "80cd34b2-9e62-49eb-86f3-3b182cb2f18d",
   "metadata": {},
   "outputs": [],
   "source": [
    "results_df2.to_csv('../data/results_df2.csv')"
   ]
  },
  {
   "cell_type": "markdown",
   "id": "fd6115e3-1a72-4455-920b-d2132bcab611",
   "metadata": {},
   "source": [
    "## Exploring Individual Image Predictions "
   ]
  },
  {
   "cell_type": "code",
   "execution_count": null,
   "id": "42126eb4-e538-4166-847a-5bfb0b37688a",
   "metadata": {},
   "outputs": [],
   "source": [
    "#from tensorflow.keras.preprocessing import image\n",
    "#from tensorflow.keras.applications.resnet50 import preprocess_input, decode_predictions\n",
    "\n",
    "\n",
    "#test_data = test_gen_aug.flow_from_directory('/Users/annafunsten/Desktop/dsir-322/capstone/Ear-Infection-Identifier/data/middle_ear_images/test/')\n",
    "\n",
    "#preds = model12.predict(test_data) >.5\n",
    "\n",
    "#np.argmax(preds.astype(int), axis = 0)\n",
    "\n",
    "#test_data_values = test_data.labels \n",
    "\n",
    "#test_data_values\n",
    "\n",
    "#x_test_binarized = to_categorical(test_data_values)\n",
    "\n",
    "#model7.evaluate()\n",
    "\n",
    "#path = \"/Users/annafunsten/Desktop/dsir-322/capstone/Ear-Infection-Identifier/data/middle_ear_images/test/02_tube_test/AM85R.jpg\"\n",
    "\n",
    "#test = image.load_img(path, target_size=(256, 256))\n",
    "#test\n",
    "\n",
    "#model12.predict(np.asarray(test).reshape(1, 256, 256, 3))"
   ]
  }
 ],
 "metadata": {
  "kernelspec": {
   "display_name": "Python 3",
   "language": "python",
   "name": "python3"
  },
  "language_info": {
   "codemirror_mode": {
    "name": "ipython",
    "version": 3
   },
   "file_extension": ".py",
   "mimetype": "text/x-python",
   "name": "python",
   "nbconvert_exporter": "python",
   "pygments_lexer": "ipython3",
   "version": "3.8.8"
  }
 },
 "nbformat": 4,
 "nbformat_minor": 5
}
