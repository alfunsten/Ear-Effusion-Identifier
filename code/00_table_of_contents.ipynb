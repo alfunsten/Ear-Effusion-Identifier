{
 "cells": [
  {
   "cell_type": "markdown",
   "metadata": {},
   "source": [
    "# Table of Contents"
   ]
  },
  {
   "cell_type": "markdown",
   "metadata": {},
   "source": [
    "[01 - Data Cleaning and EDA](01_data_cleaning_and_EDA.ipynb)<br />\n",
    "\n",
    " - Import Data <br/>\n",
    " - Original Data Information <br/>\n",
    " - Re-sorted Data Information <br/>\n",
    " - EDA <br />"
   ]
  },
  {
   "cell_type": "markdown",
   "metadata": {},
   "source": [
    "[02 - Preprocessing and Modeling](02_preprocessing_and_modeling.ipynb)<br />\n",
    "\n",
    " - DataFrame to Input Results From Models <br />\n",
    " - Import Data <br />\n",
    " - Baseline Model <br />\n",
    " - Model 1: Adding Epochs and Changing Density <br />\n",
    " - Model 2: Adding Layers <br />\n",
    " - Model 3: Changing Layers and Using Early Stopping <br />\n",
    " - Model 4: Changing Layers and Dropout <br />\n",
    " - Model 5: Kernal Regularizer with Dropout <br />\n",
    " - Model 6: Adding Convolutional Operation <br />\n",
    " - Model 7: Convolutional Operation and Max Pooling <br />\n",
    " - Model 8: Adding Prebuilt Networks InceptionV3 <br />\n",
    " - Model 9: Adding Prebuilt Networks Xception <br />\n",
    " - Model 10: Adding Prebuilt Networks VGG16 <br />\n",
    " - Model 11: Adding Prebuilt Networks MobileNetV2 <br />\n",
    " - Model 12: Experimenting with Convolutional Layers and Pooling (Adding Augmented Images) <br />\n",
    " - Model 13: Experimenting with Convolutional Layers, Augmented Data and Pooling (Adding Average Pool) <br />\n",
    " - Model 14: Experimenting with Convolutional Layers, Augmented Images, and Pooling (Adding Global Average Pool) <br />\n",
    " - Model 15: Experimenting with Convolutional Layers, Augmented Data and Pooling (Adding Global Max Pool) <br />\n",
    " - Model 16: Maxpool,Conv2D, with Less Neurons <br />\n",
    " - Model 17: Freezing Inception-ResNetV2 <br />"
   ]
  },
  {
   "cell_type": "markdown",
   "metadata": {},
   "source": [
    "[03 - Production Model](03_production_model.ipynb)<br />\n",
    " - Import Data <br />\n",
    " - Models Metric Summary <br />\n",
    " - Test F1 Score and Recall Score from Best Models <br />\n",
    " - Production Model: Model 12 <br />\n"
   ]
  },
  {
   "cell_type": "markdown",
   "metadata": {},
   "source": [
    "[04 - Summary](04_summary.ipynb)<br />\n",
    " - Executive Summary <br/>\n",
    " - Conclusion <br/>\n",
    " - Recommendations <br/>\n",
    " - Limitations <br/>"
   ]
  }
 ],
 "metadata": {
  "kernelspec": {
   "display_name": "Python 3",
   "language": "python",
   "name": "python3"
  },
  "language_info": {
   "codemirror_mode": {
    "name": "ipython",
    "version": 3
   },
   "file_extension": ".py",
   "mimetype": "text/x-python",
   "name": "python",
   "nbconvert_exporter": "python",
   "pygments_lexer": "ipython3",
   "version": "3.8.8"
  }
 },
 "nbformat": 4,
 "nbformat_minor": 4
}
