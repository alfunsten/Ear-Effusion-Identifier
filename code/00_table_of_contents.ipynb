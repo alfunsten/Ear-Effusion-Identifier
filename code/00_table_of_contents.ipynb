{
 "cells": [
  {
   "cell_type": "markdown",
   "metadata": {},
   "source": [
    "# Table of Contents"
   ]
  },
  {
   "cell_type": "markdown",
   "metadata": {},
   "source": [
    "[01 - Data Cleaning and EDA](01_data_cleaning_and_EDA.ipynb)<br />\n",
    "\n",
    " - Import Data <br/>\n",
    " - EDA <br />"
   ]
  },
  {
   "cell_type": "markdown",
   "metadata": {},
   "source": [
    "[02 - Preprocessing and Modeling](02_preprocessing_and_modeling.ipynb)<br />\n",
    "\n",
    " - Import Data <br />\n",
    " - Baseline Model <br />\n",
    "\n"
   ]
  },
  {
   "cell_type": "markdown",
   "metadata": {},
   "source": [
    "[03 - Production Model](03_production_model.ipynb)<br />\n",
    " - Import Data <br />\n"
   ]
  },
  {
   "cell_type": "markdown",
   "metadata": {},
   "source": [
    "[04 - Summary](04_summary.ipynb)<br />\n",
    " - Executive Summary <br/>\n",
    " - Conclusion <br/>\n",
    " - Recommendations <br/>\n",
    " - Limitations <br/>"
   ]
  }
 ],
 "metadata": {
  "kernelspec": {
   "display_name": "Python 3",
   "language": "python",
   "name": "python3"
  },
  "language_info": {
   "codemirror_mode": {
    "name": "ipython",
    "version": 3
   },
   "file_extension": ".py",
   "mimetype": "text/x-python",
   "name": "python",
   "nbconvert_exporter": "python",
   "pygments_lexer": "ipython3",
   "version": "3.8.8"
  }
 },
 "nbformat": 4,
 "nbformat_minor": 4
}
